{
  "nbformat": 4,
  "nbformat_minor": 0,
  "metadata": {
    "colab": {
      "name": "TensorFlow_Bootcamp_01.ipynb",
      "provenance": [],
      "mount_file_id": "1pBxN_YefeVmJKJbDsm1A35mS-ycrTnuy",
      "authorship_tag": "ABX9TyM3hOOBTokZqcvl/Gv3aNis",
      "include_colab_link": true
    },
    "kernelspec": {
      "name": "python3",
      "display_name": "Python 3"
    },
    "language_info": {
      "name": "python"
    }
  },
  "cells": [
    {
      "cell_type": "markdown",
      "metadata": {
        "id": "view-in-github",
        "colab_type": "text"
      },
      "source": [
        "<a href=\"https://colab.research.google.com/github/Yash-Wasalwar-07/TensorFlow-BootCamp/blob/main/Course-Notes/TensorFlow_Bootcamp_01.ipynb\" target=\"_parent\"><img src=\"https://colab.research.google.com/assets/colab-badge.svg\" alt=\"Open In Colab\"/></a>"
      ]
    },
    {
      "cell_type": "markdown",
      "source": [
        "# Introduction to Regression with Neural Networks in Tensorflow\n",
        "\n",
        "There are many definitions for a regression problem but in our case, we're going to simplify it:-\n",
        "* "
      ],
      "metadata": {
        "id": "ioXO82suC42U"
      }
    },
    {
      "cell_type": "code",
      "execution_count": 1,
      "metadata": {
        "id": "K2hwbc-KUuBv",
        "colab": {
          "base_uri": "https://localhost:8080/"
        },
        "outputId": "ae298f8f-7e92-4639-9381-d99628e079ce"
      },
      "outputs": [
        {
          "output_type": "stream",
          "name": "stdout",
          "text": [
            "2.8.0\n"
          ]
        }
      ],
      "source": [
        "import tensorflow as tf\n",
        "print(tf.__version__)"
      ]
    },
    {
      "cell_type": "markdown",
      "source": [
        "# Creating data to view and fit\n"
      ],
      "metadata": {
        "id": "fqRGU0qQU1Au"
      }
    },
    {
      "cell_type": "code",
      "source": [
        "import numpy as np\n",
        "import matplotlib.pyplot as plt\n",
        "\n",
        "# Create features\n",
        "X = np.array([-7.0, -4.0, -1.0, 2.0, 5.0, 8.0, 11.0, 14.0])\n",
        "\n",
        "# Creating labes\n",
        "y = np.array([3.0, 6.0, 9.0, 12.0, 15.0, 18.0, 21.0, 24.0])\n",
        "\n",
        "#. VIsualize\n",
        "plt.scatter(X, y);"
      ],
      "metadata": {
        "colab": {
          "base_uri": "https://localhost:8080/",
          "height": 269
        },
        "id": "6n-t-wtbDk28",
        "outputId": "62d69d4a-d345-46c1-ae3a-77fb86153964"
      },
      "execution_count": 2,
      "outputs": [
        {
          "output_type": "display_data",
          "data": {
            "text/plain": [
              "<Figure size 432x288 with 1 Axes>"
            ],
            "image/png": "[encoded data removed]"
          },
          "metadata": {
            "needs_background": "light"
          }
        }
      ]
    },
    {
      "cell_type": "markdown",
      "source": [
        "# Input and Output Shapes"
      ],
      "metadata": {
        "id": "PoPvhMYyEDcz"
      }
    },
    {
      "cell_type": "code",
      "source": [
        "house_info = tf.constant([\"bedroom\", \"bathroom\", \"garage\"])\n",
        "house_price = tf.constant([939700])\n",
        "house_info, house_price"
      ],
      "metadata": {
        "colab": {
          "base_uri": "https://localhost:8080/"
        },
        "id": "CaI_vzwuE9_e",
        "outputId": "5e64dce6-1334-44a1-c1e0-2b536f7910eb"
      },
      "execution_count": 3,
      "outputs": [
        {
          "output_type": "execute_result",
          "data": {
            "text/plain": [
              "(<tf.Tensor: shape=(3,), dtype=string, numpy=array([b'bedroom', b'bathroom', b'garage'], dtype=object)>,\n",
              " <tf.Tensor: shape=(1,), dtype=int32, numpy=array([939700], dtype=int32)>)"
            ]
          },
          "metadata": {},
          "execution_count": 3
        }
      ]
    },
    {
      "cell_type": "code",
      "source": [
        "X[0], y[0]"
      ],
      "metadata": {
        "colab": {
          "base_uri": "https://localhost:8080/"
        },
        "id": "hE38QKKrFYMz",
        "outputId": "ded5a092-31c0-4aa1-b891-e4f1da33b695"
      },
      "execution_count": 4,
      "outputs": [
        {
          "output_type": "execute_result",
          "data": {
            "text/plain": [
              "(-7.0, 3.0)"
            ]
          },
          "metadata": {},
          "execution_count": 4
        }
      ]
    },
    {
      "cell_type": "code",
      "source": [
        "X[0].shape, X[0].ndim"
      ],
      "metadata": {
        "colab": {
          "base_uri": "https://localhost:8080/"
        },
        "id": "X_0IxAKXFngR",
        "outputId": "fecc265d-0a76-4c32-e92d-de346b2837e6"
      },
      "execution_count": 5,
      "outputs": [
        {
          "output_type": "execute_result",
          "data": {
            "text/plain": [
              "((), 0)"
            ]
          },
          "metadata": {},
          "execution_count": 5
        }
      ]
    },
    {
      "cell_type": "code",
      "source": [
        "# Turn our numpy arrays int tensors\n",
        "X = tf.constant(X)\n",
        "y = tf.constant(y)\n",
        "X, y"
      ],
      "metadata": {
        "colab": {
          "base_uri": "https://localhost:8080/"
        },
        "id": "Xe9UmXl4FqWq",
        "outputId": "28efa953-6e47-49aa-bf44-6b8d295bba6e"
      },
      "execution_count": 6,
      "outputs": [
        {
          "output_type": "execute_result",
          "data": {
            "text/plain": [
              "(<tf.Tensor: shape=(8,), dtype=float64, numpy=array([-7., -4., -1.,  2.,  5.,  8., 11., 14.])>,\n",
              " <tf.Tensor: shape=(8,), dtype=float64, numpy=array([ 3.,  6.,  9., 12., 15., 18., 21., 24.])>)"
            ]
          },
          "metadata": {},
          "execution_count": 6
        }
      ]
    },
    {
      "cell_type": "code",
      "source": [
        "input_shape = X[0].shape\n",
        "output_shape = y[0].shape\n",
        "input_shape, output_shape"
      ],
      "metadata": {
        "colab": {
          "base_uri": "https://localhost:8080/"
        },
        "id": "dy2nnEhZGJfZ",
        "outputId": "6e19f2df-7cf7-4263-c96a-5b68cd508a59"
      },
      "execution_count": 7,
      "outputs": [
        {
          "output_type": "execute_result",
          "data": {
            "text/plain": [
              "(TensorShape([]), TensorShape([]))"
            ]
          },
          "metadata": {},
          "execution_count": 7
        }
      ]
    },
    {
      "cell_type": "code",
      "source": [
        "plt.scatter(X, y)"
      ],
      "metadata": {
        "colab": {
          "base_uri": "https://localhost:8080/",
          "height": 287
        },
        "id": "i76UmxrPGS6l",
        "outputId": "d32519fd-3fc3-4172-b007-2f7a051d8e27"
      },
      "execution_count": 8,
      "outputs": [
        {
          "output_type": "execute_result",
          "data": {
            "text/plain": [
              "<matplotlib.collections.PathCollection at 0x7efca1a91cd0>"
            ]
          },
          "metadata": {},
          "execution_count": 8
        },
        {
          "output_type": "display_data",
          "data": {
            "text/plain": [
              "<Figure size 432x288 with 1 Axes>"
            ],
            "image/png": "[encoded data removed]"
          },
          "metadata": {
            "needs_background": "light"
          }
        }
      ]
    },
    {
      "cell_type": "markdown",
      "source": [
        "## Steps in Modelling with TensorFlow\n",
        "\n",
        "1. **Creating a model** - Define the input and output layers, as well as the hidden layers of a deep learning model.\n",
        "\n",
        "2. **Compiling a model**\n",
        "\n",
        "3. **Fitting a model**"
      ],
      "metadata": {
        "id": "L3i5cViPGYoE"
      }
    },
    {
      "cell_type": "code",
      "source": [
        "# Set random seed\n",
        "tf.random.set_seed(42)\n",
        "\n",
        "# 1. Create a model using the Sequential API\n",
        "model = tf.keras.Sequential([\n",
        "        tf.keras.layers.Dense(1)\n",
        "])\n",
        "\n",
        "# Compile the model\n",
        "model.compile(loss = tf.keras.losses.mae,\n",
        "              optimizer = tf.keras.optimizers.SGD(), # or optimizers = \"sgd\"\n",
        "              metrics = [\"mae\"])\n",
        "\n",
        "# Fit the model\n",
        "model.fit(tf.expand_dims(X, axis=-1), y, epochs = 5)"
      ],
      "metadata": {
        "colab": {
          "base_uri": "https://localhost:8080/"
        },
        "id": "2QcqvCvwHXSr",
        "outputId": "82776c12-83b6-41df-8707-1bb1df0f73dd"
      },
      "execution_count": 9,
      "outputs": [
        {
          "output_type": "stream",
          "name": "stdout",
          "text": [
            "Epoch 1/5\n",
            "1/1 [==============================] - 1s 517ms/step - loss: 11.5048 - mae: 11.5048\n",
            "Epoch 2/5\n",
            "1/1 [==============================] - 0s 9ms/step - loss: 11.3723 - mae: 11.3723\n",
            "Epoch 3/5\n",
            "1/1 [==============================] - 0s 9ms/step - loss: 11.2398 - mae: 11.2398\n",
            "Epoch 4/5\n",
            "1/1 [==============================] - 0s 7ms/step - loss: 11.1073 - mae: 11.1073\n",
            "Epoch 5/5\n",
            "1/1 [==============================] - 0s 8ms/step - loss: 10.9748 - mae: 10.9748\n"
          ]
        },
        {
          "output_type": "execute_result",
          "data": {
            "text/plain": [
              "<keras.callbacks.History at 0x7efc9d3cb950>"
            ]
          },
          "metadata": {},
          "execution_count": 9
        }
      ]
    },
    {
      "cell_type": "code",
      "source": [
        "X, y"
      ],
      "metadata": {
        "colab": {
          "base_uri": "https://localhost:8080/"
        },
        "id": "15i4nvK6NBYa",
        "outputId": "abef3492-fb15-44e1-c74e-cf757d153841"
      },
      "execution_count": 10,
      "outputs": [
        {
          "output_type": "execute_result",
          "data": {
            "text/plain": [
              "(<tf.Tensor: shape=(8,), dtype=float64, numpy=array([-7., -4., -1.,  2.,  5.,  8., 11., 14.])>,\n",
              " <tf.Tensor: shape=(8,), dtype=float64, numpy=array([ 3.,  6.,  9., 12., 15., 18., 21., 24.])>)"
            ]
          },
          "metadata": {},
          "execution_count": 10
        }
      ]
    },
    {
      "cell_type": "code",
      "source": [
        "y_pred = model.predict([17.0])\n",
        "y_pred"
      ],
      "metadata": {
        "colab": {
          "base_uri": "https://localhost:8080/"
        },
        "id": "4NraBUXWNDsY",
        "outputId": "1b788c9f-f7a5-4368-d7f5-e402665f0f10"
      },
      "execution_count": 11,
      "outputs": [
        {
          "output_type": "execute_result",
          "data": {
            "text/plain": [
              "array([[12.716021]], dtype=float32)"
            ]
          },
          "metadata": {},
          "execution_count": 11
        }
      ]
    },
    {
      "cell_type": "code",
      "source": [
        "# tf.transpose(X)"
      ],
      "metadata": {
        "id": "HUzWu2CzJlIz"
      },
      "execution_count": 12,
      "outputs": []
    },
    {
      "cell_type": "code",
      "source": [
        "# tf.transpose(y)"
      ],
      "metadata": {
        "id": "NBbjziP5J3jh"
      },
      "execution_count": 13,
      "outputs": []
    },
    {
      "cell_type": "code",
      "source": [
        "# X1 = np.array([-7.0, -4.0, -1.0, 2.0, 5.0, 8.0, 11.0, 14.0])\n",
        "# tf.expand_dims(X1, axis=-1)"
      ],
      "metadata": {
        "id": "u0IUsFEqKDFm"
      },
      "execution_count": 14,
      "outputs": []
    },
    {
      "cell_type": "code",
      "source": [
        "# tf.transpose(X1)"
      ],
      "metadata": {
        "id": "A5b85SKXKpQF"
      },
      "execution_count": 15,
      "outputs": []
    },
    {
      "cell_type": "markdown",
      "source": [
        "## Improving our Model\n",
        "\n",
        "We can imprive our model, by altering the steps we took to create  mdoel.\n",
        "\n",
        "1. **Creating a model** - Here we might add more layers, increase the number f hidden units (all called neurons) within each of thr hidden layers, change the activation function of each layer.\n",
        "\n",
        "2. **Compiling a model** - Here we might change the optimization function or perhaps the learning rate of the optimization function.\n",
        "\n",
        "3. **Fitting the model** - Here we might fit the model for epochs or on more data."
      ],
      "metadata": {
        "id": "7LlMzlQIKwNC"
      }
    },
    {
      "cell_type": "code",
      "source": [
        "# Let's rebuild our model\n",
        "\n",
        "#1. Create the model\n",
        "model = tf.keras.Sequential([\n",
        "        tf.keras.layers.Dense(1)\n",
        "])\n",
        "\n",
        "#2. Compile the model\n",
        "model.compile(loss = tf.keras.losses.mae,\n",
        "              optimizer = tf.keras.optimizers.SGD(),\n",
        "              metrics = [\"mae\"])\n",
        "\n",
        "model.fit(tf.expand_dims(X, axis=-1), y, epochs = 100)"
      ],
      "metadata": {
        "colab": {
          "base_uri": "https://localhost:8080/"
        },
        "id": "dqgtFA3xNmBS",
        "outputId": "44679f0d-e0d1-4438-c95d-05445f8a6280"
      },
      "execution_count": 16,
      "outputs": [
        {
          "output_type": "stream",
          "name": "stdout",
          "text": [
            "Epoch 1/100\n",
            "1/1 [==============================] - 1s 545ms/step - loss: 11.2219 - mae: 11.2219\n",
            "Epoch 2/100\n",
            "1/1 [==============================] - 0s 16ms/step - loss: 11.0894 - mae: 11.0894\n",
            "Epoch 3/100\n",
            "1/1 [==============================] - 0s 27ms/step - loss: 10.9569 - mae: 10.9569\n",
            "Epoch 4/100\n",
            "1/1 [==============================] - 0s 13ms/step - loss: 10.8244 - mae: 10.8244\n",
            "Epoch 5/100\n",
            "1/1 [==============================] - 0s 10ms/step - loss: 10.6919 - mae: 10.6919\n",
            "Epoch 6/100\n",
            "1/1 [==============================] - 0s 10ms/step - loss: 10.5594 - mae: 10.5594\n",
            "Epoch 7/100\n",
            "1/1 [==============================] - 0s 32ms/step - loss: 10.4269 - mae: 10.4269\n",
            "Epoch 8/100\n",
            "1/1 [==============================] - 0s 19ms/step - loss: 10.2944 - mae: 10.2944\n",
            "Epoch 9/100\n",
            "1/1 [==============================] - 0s 12ms/step - loss: 10.1619 - mae: 10.1619\n",
            "Epoch 10/100\n",
            "1/1 [==============================] - 0s 6ms/step - loss: 10.0294 - mae: 10.0294\n",
            "Epoch 11/100\n",
            "1/1 [==============================] - 0s 9ms/step - loss: 9.8969 - mae: 9.8969\n",
            "Epoch 12/100\n",
            "1/1 [==============================] - 0s 7ms/step - loss: 9.7644 - mae: 9.7644\n",
            "Epoch 13/100\n",
            "1/1 [==============================] - 0s 5ms/step - loss: 9.6319 - mae: 9.6319\n",
            "Epoch 14/100\n",
            "1/1 [==============================] - 0s 5ms/step - loss: 9.4994 - mae: 9.4994\n",
            "Epoch 15/100\n",
            "1/1 [==============================] - 0s 28ms/step - loss: 9.3669 - mae: 9.3669\n",
            "Epoch 16/100\n",
            "1/1 [==============================] - 0s 11ms/step - loss: 9.2344 - mae: 9.2344\n",
            "Epoch 17/100\n",
            "1/1 [==============================] - 0s 11ms/step - loss: 9.1019 - mae: 9.1019\n",
            "Epoch 18/100\n",
            "1/1 [==============================] - 0s 20ms/step - loss: 8.9694 - mae: 8.9694\n",
            "Epoch 19/100\n",
            "1/1 [==============================] - 0s 24ms/step - loss: 8.8369 - mae: 8.8369\n",
            "Epoch 20/100\n",
            "1/1 [==============================] - 0s 22ms/step - loss: 8.7044 - mae: 8.7044\n",
            "Epoch 21/100\n",
            "1/1 [==============================] - 0s 20ms/step - loss: 8.5719 - mae: 8.5719\n",
            "Epoch 22/100\n",
            "1/1 [==============================] - 0s 8ms/step - loss: 8.4394 - mae: 8.4394\n",
            "Epoch 23/100\n",
            "1/1 [==============================] - 0s 17ms/step - loss: 8.3069 - mae: 8.3069\n",
            "Epoch 24/100\n",
            "1/1 [==============================] - 0s 16ms/step - loss: 8.1744 - mae: 8.1744\n",
            "Epoch 25/100\n",
            "1/1 [==============================] - 0s 7ms/step - loss: 8.0419 - mae: 8.0419\n",
            "Epoch 26/100\n",
            "1/1 [==============================] - 0s 5ms/step - loss: 7.9094 - mae: 7.9094\n",
            "Epoch 27/100\n",
            "1/1 [==============================] - 0s 5ms/step - loss: 7.7769 - mae: 7.7769\n",
            "Epoch 28/100\n",
            "1/1 [==============================] - 0s 11ms/step - loss: 7.6444 - mae: 7.6444\n",
            "Epoch 29/100\n",
            "1/1 [==============================] - 0s 11ms/step - loss: 7.5119 - mae: 7.5119\n",
            "Epoch 30/100\n",
            "1/1 [==============================] - 0s 9ms/step - loss: 7.3794 - mae: 7.3794\n",
            "Epoch 31/100\n",
            "1/1 [==============================] - 0s 12ms/step - loss: 7.2750 - mae: 7.2750\n",
            "Epoch 32/100\n",
            "1/1 [==============================] - 0s 12ms/step - loss: 7.2694 - mae: 7.2694\n",
            "Epoch 33/100\n",
            "1/1 [==============================] - 0s 10ms/step - loss: 7.2638 - mae: 7.2638\n",
            "Epoch 34/100\n",
            "1/1 [==============================] - 0s 5ms/step - loss: 7.2581 - mae: 7.2581\n",
            "Epoch 35/100\n",
            "1/1 [==============================] - 0s 7ms/step - loss: 7.2525 - mae: 7.2525\n",
            "Epoch 36/100\n",
            "1/1 [==============================] - 0s 9ms/step - loss: 7.2469 - mae: 7.2469\n",
            "Epoch 37/100\n",
            "1/1 [==============================] - 0s 26ms/step - loss: 7.2412 - mae: 7.2412\n",
            "Epoch 38/100\n",
            "1/1 [==============================] - 0s 20ms/step - loss: 7.2356 - mae: 7.2356\n",
            "Epoch 39/100\n",
            "1/1 [==============================] - 0s 22ms/step - loss: 7.2300 - mae: 7.2300\n",
            "Epoch 40/100\n",
            "1/1 [==============================] - 0s 22ms/step - loss: 7.2244 - mae: 7.2244\n",
            "Epoch 41/100\n",
            "1/1 [==============================] - 0s 42ms/step - loss: 7.2188 - mae: 7.2188\n",
            "Epoch 42/100\n",
            "1/1 [==============================] - 0s 6ms/step - loss: 7.2131 - mae: 7.2131\n",
            "Epoch 43/100\n",
            "1/1 [==============================] - 0s 14ms/step - loss: 7.2075 - mae: 7.2075\n",
            "Epoch 44/100\n",
            "1/1 [==============================] - 0s 6ms/step - loss: 7.2019 - mae: 7.2019\n",
            "Epoch 45/100\n",
            "1/1 [==============================] - 0s 5ms/step - loss: 7.1962 - mae: 7.1962\n",
            "Epoch 46/100\n",
            "1/1 [==============================] - 0s 8ms/step - loss: 7.1906 - mae: 7.1906\n",
            "Epoch 47/100\n",
            "1/1 [==============================] - 0s 11ms/step - loss: 7.1850 - mae: 7.1850\n",
            "Epoch 48/100\n",
            "1/1 [==============================] - 0s 31ms/step - loss: 7.1794 - mae: 7.1794\n",
            "Epoch 49/100\n",
            "1/1 [==============================] - 0s 20ms/step - loss: 7.1737 - mae: 7.1737\n",
            "Epoch 50/100\n",
            "1/1 [==============================] - 0s 9ms/step - loss: 7.1681 - mae: 7.1681\n",
            "Epoch 51/100\n",
            "1/1 [==============================] - 0s 9ms/step - loss: 7.1625 - mae: 7.1625\n",
            "Epoch 52/100\n",
            "1/1 [==============================] - 0s 7ms/step - loss: 7.1569 - mae: 7.1569\n",
            "Epoch 53/100\n",
            "1/1 [==============================] - 0s 9ms/step - loss: 7.1512 - mae: 7.1512\n",
            "Epoch 54/100\n",
            "1/1 [==============================] - 0s 8ms/step - loss: 7.1456 - mae: 7.1456\n",
            "Epoch 55/100\n",
            "1/1 [==============================] - 0s 23ms/step - loss: 7.1400 - mae: 7.1400\n",
            "Epoch 56/100\n",
            "1/1 [==============================] - 0s 12ms/step - loss: 7.1344 - mae: 7.1344\n",
            "Epoch 57/100\n",
            "1/1 [==============================] - 0s 6ms/step - loss: 7.1287 - mae: 7.1287\n",
            "Epoch 58/100\n",
            "1/1 [==============================] - 0s 8ms/step - loss: 7.1231 - mae: 7.1231\n",
            "Epoch 59/100\n",
            "1/1 [==============================] - 0s 20ms/step - loss: 7.1175 - mae: 7.1175\n",
            "Epoch 60/100\n",
            "1/1 [==============================] - 0s 8ms/step - loss: 7.1119 - mae: 7.1119\n",
            "Epoch 61/100\n",
            "1/1 [==============================] - 0s 15ms/step - loss: 7.1062 - mae: 7.1062\n",
            "Epoch 62/100\n",
            "1/1 [==============================] - 0s 20ms/step - loss: 7.1006 - mae: 7.1006\n",
            "Epoch 63/100\n",
            "1/1 [==============================] - 0s 11ms/step - loss: 7.0950 - mae: 7.0950\n",
            "Epoch 64/100\n",
            "1/1 [==============================] - 0s 5ms/step - loss: 7.0894 - mae: 7.0894\n",
            "Epoch 65/100\n",
            "1/1 [==============================] - 0s 11ms/step - loss: 7.0838 - mae: 7.0838\n",
            "Epoch 66/100\n",
            "1/1 [==============================] - 0s 25ms/step - loss: 7.0781 - mae: 7.0781\n",
            "Epoch 67/100\n",
            "1/1 [==============================] - 0s 7ms/step - loss: 7.0725 - mae: 7.0725\n",
            "Epoch 68/100\n",
            "1/1 [==============================] - 0s 8ms/step - loss: 7.0669 - mae: 7.0669\n",
            "Epoch 69/100\n",
            "1/1 [==============================] - 0s 10ms/step - loss: 7.0613 - mae: 7.0613\n",
            "Epoch 70/100\n",
            "1/1 [==============================] - 0s 10ms/step - loss: 7.0556 - mae: 7.0556\n",
            "Epoch 71/100\n",
            "1/1 [==============================] - 0s 17ms/step - loss: 7.0500 - mae: 7.0500\n",
            "Epoch 72/100\n",
            "1/1 [==============================] - 0s 7ms/step - loss: 7.0444 - mae: 7.0444\n",
            "Epoch 73/100\n",
            "1/1 [==============================] - 0s 14ms/step - loss: 7.0388 - mae: 7.0388\n",
            "Epoch 74/100\n",
            "1/1 [==============================] - 0s 14ms/step - loss: 7.0331 - mae: 7.0331\n",
            "Epoch 75/100\n",
            "1/1 [==============================] - 0s 12ms/step - loss: 7.0275 - mae: 7.0275\n",
            "Epoch 76/100\n",
            "1/1 [==============================] - 0s 11ms/step - loss: 7.0219 - mae: 7.0219\n",
            "Epoch 77/100\n",
            "1/1 [==============================] - 0s 17ms/step - loss: 7.0163 - mae: 7.0163\n",
            "Epoch 78/100\n",
            "1/1 [==============================] - 0s 18ms/step - loss: 7.0106 - mae: 7.0106\n",
            "Epoch 79/100\n",
            "1/1 [==============================] - 0s 15ms/step - loss: 7.0050 - mae: 7.0050\n",
            "Epoch 80/100\n",
            "1/1 [==============================] - 0s 14ms/step - loss: 6.9994 - mae: 6.9994\n",
            "Epoch 81/100\n",
            "1/1 [==============================] - 0s 10ms/step - loss: 6.9938 - mae: 6.9938\n",
            "Epoch 82/100\n",
            "1/1 [==============================] - 0s 28ms/step - loss: 6.9881 - mae: 6.9881\n",
            "Epoch 83/100\n",
            "1/1 [==============================] - 0s 18ms/step - loss: 6.9825 - mae: 6.9825\n",
            "Epoch 84/100\n",
            "1/1 [==============================] - 0s 15ms/step - loss: 6.9769 - mae: 6.9769\n",
            "Epoch 85/100\n",
            "1/1 [==============================] - 0s 9ms/step - loss: 6.9713 - mae: 6.9713\n",
            "Epoch 86/100\n",
            "1/1 [==============================] - 0s 6ms/step - loss: 6.9656 - mae: 6.9656\n",
            "Epoch 87/100\n",
            "1/1 [==============================] - 0s 10ms/step - loss: 6.9600 - mae: 6.9600\n",
            "Epoch 88/100\n",
            "1/1 [==============================] - 0s 16ms/step - loss: 6.9544 - mae: 6.9544\n",
            "Epoch 89/100\n",
            "1/1 [==============================] - 0s 8ms/step - loss: 6.9488 - mae: 6.9488\n",
            "Epoch 90/100\n",
            "1/1 [==============================] - 0s 10ms/step - loss: 6.9431 - mae: 6.9431\n",
            "Epoch 91/100\n",
            "1/1 [==============================] - 0s 16ms/step - loss: 6.9375 - mae: 6.9375\n",
            "Epoch 92/100\n",
            "1/1 [==============================] - 0s 14ms/step - loss: 6.9319 - mae: 6.9319\n",
            "Epoch 93/100\n",
            "1/1 [==============================] - 0s 7ms/step - loss: 6.9263 - mae: 6.9263\n",
            "Epoch 94/100\n",
            "1/1 [==============================] - 0s 7ms/step - loss: 6.9206 - mae: 6.9206\n",
            "Epoch 95/100\n",
            "1/1 [==============================] - 0s 9ms/step - loss: 6.9150 - mae: 6.9150\n",
            "Epoch 96/100\n",
            "1/1 [==============================] - 0s 10ms/step - loss: 6.9094 - mae: 6.9094\n",
            "Epoch 97/100\n",
            "1/1 [==============================] - 0s 8ms/step - loss: 6.9038 - mae: 6.9038\n",
            "Epoch 98/100\n",
            "1/1 [==============================] - 0s 7ms/step - loss: 6.8981 - mae: 6.8981\n",
            "Epoch 99/100\n",
            "1/1 [==============================] - 0s 7ms/step - loss: 6.8925 - mae: 6.8925\n",
            "Epoch 100/100\n",
            "1/1 [==============================] - 0s 8ms/step - loss: 6.8869 - mae: 6.8869\n"
          ]
        },
        {
          "output_type": "execute_result",
          "data": {
            "text/plain": [
              "<keras.callbacks.History at 0x7efc9d3888d0>"
            ]
          },
          "metadata": {},
          "execution_count": 16
        }
      ]
    },
    {
      "cell_type": "code",
      "source": [
        "# Remind ourselves of the data\n",
        "X, y"
      ],
      "metadata": {
        "colab": {
          "base_uri": "https://localhost:8080/"
        },
        "id": "De9l5zFiQhI7",
        "outputId": "735cb095-81e4-435f-e2f3-6e7147e83d3d"
      },
      "execution_count": 17,
      "outputs": [
        {
          "output_type": "execute_result",
          "data": {
            "text/plain": [
              "(<tf.Tensor: shape=(8,), dtype=float64, numpy=array([-7., -4., -1.,  2.,  5.,  8., 11., 14.])>,\n",
              " <tf.Tensor: shape=(8,), dtype=float64, numpy=array([ 3.,  6.,  9., 12., 15., 18., 21., 24.])>)"
            ]
          },
          "metadata": {},
          "execution_count": 17
        }
      ]
    },
    {
      "cell_type": "code",
      "source": [
        "# Let's see if model prediction improved\n",
        "model.predict([17.0])"
      ],
      "metadata": {
        "colab": {
          "base_uri": "https://localhost:8080/"
        },
        "id": "jBYcvEeCQ7TH",
        "outputId": "c578f6ee-2bff-46ff-ac50-2442db7e5a4e"
      },
      "execution_count": 18,
      "outputs": [
        {
          "output_type": "execute_result",
          "data": {
            "text/plain": [
              "array([[29.739855]], dtype=float32)"
            ]
          },
          "metadata": {},
          "execution_count": 18
        }
      ]
    },
    {
      "cell_type": "code",
      "source": [
        "\n",
        "#1. Create model with extra hidden units\n",
        "model = tf.keras.Sequential([\n",
        "        tf.keras.layers.Dense(50, activation = None),\n",
        "        tf.keras.layers.Dense(1)\n",
        "])\n",
        "\n",
        "\n",
        "model.compile(loss = tf.keras.losses.mae,\n",
        "              optimizer = tf.keras.optimizers.Adam(lr = 0.01),\n",
        "              metrics = [\"mae\"])\n",
        "\n",
        "model.fit(tf.expand_dims(X, axis=-1), y, epochs = 100)"
      ],
      "metadata": {
        "colab": {
          "base_uri": "https://localhost:8080/"
        },
        "id": "yqV7gsqYRDzy",
        "outputId": "004d9785-cb31-409a-8bd7-3f7479155865"
      },
      "execution_count": 19,
      "outputs": [
        {
          "output_type": "stream",
          "name": "stdout",
          "text": [
            "Epoch 1/100\n"
          ]
        },
        {
          "output_type": "stream",
          "name": "stderr",
          "text": [
            "/usr/local/lib/python3.7/dist-packages/keras/optimizer_v2/adam.py:105: UserWarning: The `lr` argument is deprecated, use `learning_rate` instead.\n",
            "  super(Adam, self).__init__(name, **kwargs)\n"
          ]
        },
        {
          "output_type": "stream",
          "name": "stdout",
          "text": [
            "1/1 [==============================] - 1s 883ms/step - loss: 11.7682 - mae: 11.7682\n",
            "Epoch 2/100\n",
            "1/1 [==============================] - 0s 9ms/step - loss: 11.0963 - mae: 11.0963\n",
            "Epoch 3/100\n",
            "1/1 [==============================] - 0s 13ms/step - loss: 10.4150 - mae: 10.4150\n",
            "Epoch 4/100\n",
            "1/1 [==============================] - 0s 10ms/step - loss: 9.7212 - mae: 9.7212\n",
            "Epoch 5/100\n",
            "1/1 [==============================] - 0s 9ms/step - loss: 9.0104 - mae: 9.0104\n",
            "Epoch 6/100\n",
            "1/1 [==============================] - 0s 9ms/step - loss: 8.2778 - mae: 8.2778\n",
            "Epoch 7/100\n",
            "1/1 [==============================] - 0s 7ms/step - loss: 7.5198 - mae: 7.5198\n",
            "Epoch 8/100\n",
            "1/1 [==============================] - 0s 8ms/step - loss: 6.9648 - mae: 6.9648\n",
            "Epoch 9/100\n",
            "1/1 [==============================] - 0s 6ms/step - loss: 7.0672 - mae: 7.0672\n",
            "Epoch 10/100\n",
            "1/1 [==============================] - 0s 7ms/step - loss: 7.3315 - mae: 7.3315\n",
            "Epoch 11/100\n",
            "1/1 [==============================] - 0s 9ms/step - loss: 7.4673 - mae: 7.4673\n",
            "Epoch 12/100\n",
            "1/1 [==============================] - 0s 14ms/step - loss: 7.5285 - mae: 7.5285\n",
            "Epoch 13/100\n",
            "1/1 [==============================] - 0s 23ms/step - loss: 7.4011 - mae: 7.4011\n",
            "Epoch 14/100\n",
            "1/1 [==============================] - 0s 12ms/step - loss: 7.1923 - mae: 7.1923\n",
            "Epoch 15/100\n",
            "1/1 [==============================] - 0s 12ms/step - loss: 6.9575 - mae: 6.9575\n",
            "Epoch 16/100\n",
            "1/1 [==============================] - 0s 7ms/step - loss: 6.6953 - mae: 6.6953\n",
            "Epoch 17/100\n",
            "1/1 [==============================] - 0s 9ms/step - loss: 6.4127 - mae: 6.4127\n",
            "Epoch 18/100\n",
            "1/1 [==============================] - 0s 6ms/step - loss: 6.3048 - mae: 6.3048\n",
            "Epoch 19/100\n",
            "1/1 [==============================] - 0s 7ms/step - loss: 6.2575 - mae: 6.2575\n",
            "Epoch 20/100\n",
            "1/1 [==============================] - 0s 6ms/step - loss: 6.3982 - mae: 6.3982\n",
            "Epoch 21/100\n",
            "1/1 [==============================] - 0s 18ms/step - loss: 6.4551 - mae: 6.4551\n",
            "Epoch 22/100\n",
            "1/1 [==============================] - 0s 17ms/step - loss: 6.4000 - mae: 6.4000\n",
            "Epoch 23/100\n",
            "1/1 [==============================] - 0s 17ms/step - loss: 6.2482 - mae: 6.2482\n",
            "Epoch 24/100\n",
            "1/1 [==============================] - 0s 56ms/step - loss: 6.0105 - mae: 6.0105\n",
            "Epoch 25/100\n",
            "1/1 [==============================] - 0s 25ms/step - loss: 5.7876 - mae: 5.7876\n",
            "Epoch 26/100\n",
            "1/1 [==============================] - 0s 16ms/step - loss: 5.6809 - mae: 5.6809\n",
            "Epoch 27/100\n",
            "1/1 [==============================] - 0s 15ms/step - loss: 5.5715 - mae: 5.5715\n",
            "Epoch 28/100\n",
            "1/1 [==============================] - 0s 21ms/step - loss: 5.6122 - mae: 5.6122\n",
            "Epoch 29/100\n",
            "1/1 [==============================] - 0s 22ms/step - loss: 5.6074 - mae: 5.6074\n",
            "Epoch 30/100\n",
            "1/1 [==============================] - 0s 16ms/step - loss: 5.5541 - mae: 5.5541\n",
            "Epoch 31/100\n",
            "1/1 [==============================] - 0s 17ms/step - loss: 5.4568 - mae: 5.4568\n",
            "Epoch 32/100\n",
            "1/1 [==============================] - 0s 16ms/step - loss: 5.3199 - mae: 5.3199\n",
            "Epoch 33/100\n",
            "1/1 [==============================] - 0s 14ms/step - loss: 5.1477 - mae: 5.1477\n",
            "Epoch 34/100\n",
            "1/1 [==============================] - 0s 7ms/step - loss: 4.9442 - mae: 4.9442\n",
            "Epoch 35/100\n",
            "1/1 [==============================] - 0s 9ms/step - loss: 4.8239 - mae: 4.8239\n",
            "Epoch 36/100\n",
            "1/1 [==============================] - 0s 6ms/step - loss: 4.7389 - mae: 4.7389\n",
            "Epoch 37/100\n",
            "1/1 [==============================] - 0s 6ms/step - loss: 4.6657 - mae: 4.6657\n",
            "Epoch 38/100\n",
            "1/1 [==============================] - 0s 7ms/step - loss: 4.5846 - mae: 4.5846\n",
            "Epoch 39/100\n",
            "1/1 [==============================] - 0s 10ms/step - loss: 4.4027 - mae: 4.4027\n",
            "Epoch 40/100\n",
            "1/1 [==============================] - 0s 9ms/step - loss: 4.2653 - mae: 4.2653\n",
            "Epoch 41/100\n",
            "1/1 [==============================] - 0s 6ms/step - loss: 4.1212 - mae: 4.1212\n",
            "Epoch 42/100\n",
            "1/1 [==============================] - 0s 7ms/step - loss: 3.9702 - mae: 3.9702\n",
            "Epoch 43/100\n",
            "1/1 [==============================] - 0s 7ms/step - loss: 3.8272 - mae: 3.8272\n",
            "Epoch 44/100\n",
            "1/1 [==============================] - 0s 10ms/step - loss: 3.7041 - mae: 3.7041\n",
            "Epoch 45/100\n",
            "1/1 [==============================] - 0s 6ms/step - loss: 3.5320 - mae: 3.5320\n",
            "Epoch 46/100\n",
            "1/1 [==============================] - 0s 6ms/step - loss: 3.3664 - mae: 3.3664\n",
            "Epoch 47/100\n",
            "1/1 [==============================] - 0s 7ms/step - loss: 3.2116 - mae: 3.2116\n",
            "Epoch 48/100\n",
            "1/1 [==============================] - 0s 7ms/step - loss: 3.0463 - mae: 3.0463\n",
            "Epoch 49/100\n",
            "1/1 [==============================] - 0s 6ms/step - loss: 2.8705 - mae: 2.8705\n",
            "Epoch 50/100\n",
            "1/1 [==============================] - 0s 10ms/step - loss: 2.6840 - mae: 2.6840\n",
            "Epoch 51/100\n",
            "1/1 [==============================] - 0s 6ms/step - loss: 2.4868 - mae: 2.4868\n",
            "Epoch 52/100\n",
            "1/1 [==============================] - 0s 10ms/step - loss: 2.2787 - mae: 2.2787\n",
            "Epoch 53/100\n",
            "1/1 [==============================] - 0s 7ms/step - loss: 2.0596 - mae: 2.0596\n",
            "Epoch 54/100\n",
            "1/1 [==============================] - 0s 7ms/step - loss: 1.8293 - mae: 1.8293\n",
            "Epoch 55/100\n",
            "1/1 [==============================] - 0s 6ms/step - loss: 1.5876 - mae: 1.5876\n",
            "Epoch 56/100\n",
            "1/1 [==============================] - 0s 7ms/step - loss: 1.3530 - mae: 1.3530\n",
            "Epoch 57/100\n",
            "1/1 [==============================] - 0s 11ms/step - loss: 1.0849 - mae: 1.0849\n",
            "Epoch 58/100\n",
            "1/1 [==============================] - 0s 7ms/step - loss: 0.8224 - mae: 0.8224\n",
            "Epoch 59/100\n",
            "1/1 [==============================] - 0s 6ms/step - loss: 0.5467 - mae: 0.5467\n",
            "Epoch 60/100\n",
            "1/1 [==============================] - 0s 6ms/step - loss: 0.2758 - mae: 0.2758\n",
            "Epoch 61/100\n",
            "1/1 [==============================] - 0s 6ms/step - loss: 0.1354 - mae: 0.1354\n",
            "Epoch 62/100\n",
            "1/1 [==============================] - 0s 7ms/step - loss: 0.4494 - mae: 0.4494\n",
            "Epoch 63/100\n",
            "1/1 [==============================] - 0s 7ms/step - loss: 0.6498 - mae: 0.6498\n",
            "Epoch 64/100\n",
            "1/1 [==============================] - 0s 7ms/step - loss: 0.6216 - mae: 0.6216\n",
            "Epoch 65/100\n",
            "1/1 [==============================] - 0s 10ms/step - loss: 0.8036 - mae: 0.8036\n",
            "Epoch 66/100\n",
            "1/1 [==============================] - 0s 6ms/step - loss: 0.7995 - mae: 0.7995\n",
            "Epoch 67/100\n",
            "1/1 [==============================] - 0s 6ms/step - loss: 0.7409 - mae: 0.7409\n",
            "Epoch 68/100\n",
            "1/1 [==============================] - 0s 8ms/step - loss: 0.7806 - mae: 0.7806\n",
            "Epoch 69/100\n",
            "1/1 [==============================] - 0s 7ms/step - loss: 0.6305 - mae: 0.6305\n",
            "Epoch 70/100\n",
            "1/1 [==============================] - 0s 7ms/step - loss: 0.5556 - mae: 0.5556\n",
            "Epoch 71/100\n",
            "1/1 [==============================] - 0s 6ms/step - loss: 0.4306 - mae: 0.4306\n",
            "Epoch 72/100\n",
            "1/1 [==============================] - 0s 10ms/step - loss: 0.2786 - mae: 0.2786\n",
            "Epoch 73/100\n",
            "1/1 [==============================] - 0s 14ms/step - loss: 0.1378 - mae: 0.1378\n",
            "Epoch 74/100\n",
            "1/1 [==============================] - 0s 25ms/step - loss: 0.1193 - mae: 0.1193\n",
            "Epoch 75/100\n",
            "1/1 [==============================] - 0s 11ms/step - loss: 0.2777 - mae: 0.2777\n",
            "Epoch 76/100\n",
            "1/1 [==============================] - 0s 54ms/step - loss: 0.3245 - mae: 0.3245\n",
            "Epoch 77/100\n",
            "1/1 [==============================] - 0s 28ms/step - loss: 0.4157 - mae: 0.4157\n",
            "Epoch 78/100\n",
            "1/1 [==============================] - 0s 13ms/step - loss: 0.4319 - mae: 0.4319\n",
            "Epoch 79/100\n",
            "1/1 [==============================] - 0s 13ms/step - loss: 0.3391 - mae: 0.3391\n",
            "Epoch 80/100\n",
            "1/1 [==============================] - 0s 13ms/step - loss: 0.2968 - mae: 0.2968\n",
            "Epoch 81/100\n",
            "1/1 [==============================] - 0s 13ms/step - loss: 0.2355 - mae: 0.2355\n",
            "Epoch 82/100\n",
            "1/1 [==============================] - 0s 9ms/step - loss: 0.1633 - mae: 0.1633\n",
            "Epoch 83/100\n",
            "1/1 [==============================] - 0s 8ms/step - loss: 0.1339 - mae: 0.1339\n",
            "Epoch 84/100\n",
            "1/1 [==============================] - 0s 8ms/step - loss: 0.1262 - mae: 0.1262\n",
            "Epoch 85/100\n",
            "1/1 [==============================] - 0s 8ms/step - loss: 0.1702 - mae: 0.1702\n",
            "Epoch 86/100\n",
            "1/1 [==============================] - 0s 10ms/step - loss: 0.2124 - mae: 0.2124\n",
            "Epoch 87/100\n",
            "1/1 [==============================] - 0s 8ms/step - loss: 0.2288 - mae: 0.2288\n",
            "Epoch 88/100\n",
            "1/1 [==============================] - 0s 8ms/step - loss: 0.1901 - mae: 0.1901\n",
            "Epoch 89/100\n",
            "1/1 [==============================] - 0s 10ms/step - loss: 0.1354 - mae: 0.1354\n",
            "Epoch 90/100\n",
            "1/1 [==============================] - 0s 6ms/step - loss: 0.1218 - mae: 0.1218\n",
            "Epoch 91/100\n",
            "1/1 [==============================] - 0s 7ms/step - loss: 0.0382 - mae: 0.0382\n",
            "Epoch 92/100\n",
            "1/1 [==============================] - 0s 7ms/step - loss: 0.2197 - mae: 0.2197\n",
            "Epoch 93/100\n",
            "1/1 [==============================] - 0s 10ms/step - loss: 0.2189 - mae: 0.2189\n",
            "Epoch 94/100\n",
            "1/1 [==============================] - 0s 6ms/step - loss: 0.1427 - mae: 0.1427\n",
            "Epoch 95/100\n",
            "1/1 [==============================] - 0s 7ms/step - loss: 0.1168 - mae: 0.1168\n",
            "Epoch 96/100\n",
            "1/1 [==============================] - 0s 7ms/step - loss: 0.2069 - mae: 0.2069\n",
            "Epoch 97/100\n",
            "1/1 [==============================] - 0s 16ms/step - loss: 0.1524 - mae: 0.1524\n",
            "Epoch 98/100\n",
            "1/1 [==============================] - 0s 19ms/step - loss: 0.2133 - mae: 0.2133\n",
            "Epoch 99/100\n",
            "1/1 [==============================] - 0s 7ms/step - loss: 0.2329 - mae: 0.2329\n",
            "Epoch 100/100\n",
            "1/1 [==============================] - 0s 8ms/step - loss: 0.0780 - mae: 0.0780\n"
          ]
        },
        {
          "output_type": "execute_result",
          "data": {
            "text/plain": [
              "<keras.callbacks.History at 0x7efc9d2212d0>"
            ]
          },
          "metadata": {},
          "execution_count": 19
        }
      ]
    },
    {
      "cell_type": "code",
      "source": [
        "# Lets remind data\n",
        "X, y"
      ],
      "metadata": {
        "colab": {
          "base_uri": "https://localhost:8080/"
        },
        "id": "mjEAkoWvSaKY",
        "outputId": "ebea0847-9f7b-4895-84b8-13a0f932ff41"
      },
      "execution_count": 20,
      "outputs": [
        {
          "output_type": "execute_result",
          "data": {
            "text/plain": [
              "(<tf.Tensor: shape=(8,), dtype=float64, numpy=array([-7., -4., -1.,  2.,  5.,  8., 11., 14.])>,\n",
              " <tf.Tensor: shape=(8,), dtype=float64, numpy=array([ 3.,  6.,  9., 12., 15., 18., 21., 24.])>)"
            ]
          },
          "metadata": {},
          "execution_count": 20
        }
      ]
    },
    {
      "cell_type": "code",
      "source": [
        "model.predict([17.0])"
      ],
      "metadata": {
        "colab": {
          "base_uri": "https://localhost:8080/"
        },
        "id": "_c-EAsmVSydL",
        "outputId": "6f17be88-ef03-4022-ed53-af2cb6949bca"
      },
      "execution_count": 21,
      "outputs": [
        {
          "output_type": "execute_result",
          "data": {
            "text/plain": [
              "array([[26.58353]], dtype=float32)"
            ]
          },
          "metadata": {},
          "execution_count": 21
        }
      ]
    },
    {
      "cell_type": "markdown",
      "source": [
        "## Evaluating a model\n",
        "\n",
        "```\n",
        "Build a model -> Fit It -> Evaluate it -> Tweek it -> Fir It -> Evaluate it -> Tweek it -> .....\n",
        "```\n",
        "\n"
      ],
      "metadata": {
        "id": "hnOwMfmMS2Ld"
      }
    },
    {
      "cell_type": "markdown",
      "source": [
        "When it comes to evaluation... there are 3 words you should memorize:\n",
        "\n",
        "> Visualize, visualize, visualize\n",
        "\n",
        "It's good idea to visualize:\n",
        "* The data\n",
        "* The model\n",
        "* The training of model\n",
        "* The prediction of model"
      ],
      "metadata": {
        "id": "NG3helpW5bPb"
      }
    },
    {
      "cell_type": "code",
      "source": [
        "# Make a bigger dataset\n",
        "X1 = tf.range(-100, 100, 4)\n",
        "X1"
      ],
      "metadata": {
        "colab": {
          "base_uri": "https://localhost:8080/"
        },
        "id": "gzkCfpDe5138",
        "outputId": "72b26cdd-f8a5-4919-e5a3-749c3002bf8a"
      },
      "execution_count": 22,
      "outputs": [
        {
          "output_type": "execute_result",
          "data": {
            "text/plain": [
              "<tf.Tensor: shape=(50,), dtype=int32, numpy=\n",
              "array([-100,  -96,  -92,  -88,  -84,  -80,  -76,  -72,  -68,  -64,  -60,\n",
              "        -56,  -52,  -48,  -44,  -40,  -36,  -32,  -28,  -24,  -20,  -16,\n",
              "        -12,   -8,   -4,    0,    4,    8,   12,   16,   20,   24,   28,\n",
              "         32,   36,   40,   44,   48,   52,   56,   60,   64,   68,   72,\n",
              "         76,   80,   84,   88,   92,   96], dtype=int32)>"
            ]
          },
          "metadata": {},
          "execution_count": 22
        }
      ]
    },
    {
      "cell_type": "code",
      "source": [
        "y1 = X1 + 10\n",
        "y1"
      ],
      "metadata": {
        "colab": {
          "base_uri": "https://localhost:8080/"
        },
        "id": "EuAD5TV06Asp",
        "outputId": "33ef3051-0748-481f-f262-7cb6a08af6c7"
      },
      "execution_count": 23,
      "outputs": [
        {
          "output_type": "execute_result",
          "data": {
            "text/plain": [
              "<tf.Tensor: shape=(50,), dtype=int32, numpy=\n",
              "array([-90, -86, -82, -78, -74, -70, -66, -62, -58, -54, -50, -46, -42,\n",
              "       -38, -34, -30, -26, -22, -18, -14, -10,  -6,  -2,   2,   6,  10,\n",
              "        14,  18,  22,  26,  30,  34,  38,  42,  46,  50,  54,  58,  62,\n",
              "        66,  70,  74,  78,  82,  86,  90,  94,  98, 102, 106], dtype=int32)>"
            ]
          },
          "metadata": {},
          "execution_count": 23
        }
      ]
    },
    {
      "cell_type": "code",
      "source": [
        "import matplotlib.pyplot as plt\n",
        "plt.scatter(X1, y1)"
      ],
      "metadata": {
        "colab": {
          "base_uri": "https://localhost:8080/",
          "height": 283
        },
        "id": "CunjV8vw6ESK",
        "outputId": "f695c8e3-5271-4c30-d4af-88b92a3e76b0"
      },
      "execution_count": 24,
      "outputs": [
        {
          "output_type": "execute_result",
          "data": {
            "text/plain": [
              "<matplotlib.collections.PathCollection at 0x7efc9c3f0590>"
            ]
          },
          "metadata": {},
          "execution_count": 24
        },
        {
          "output_type": "display_data",
          "data": {
            "text/plain": [
              "<Figure size 432x288 with 1 Axes>"
            ],
            "image/png": "[encoded data removed]"
          },
          "metadata": {
            "needs_background": "light"
          }
        }
      ]
    },
    {
      "cell_type": "markdown",
      "source": [
        "### The 3 sets of data...\n",
        "\n",
        "* **Training set** - model learns from this data, which is typically 70-80% of the total data.\n",
        "* **Validation set** - model gets tuned on this data, which is typically 10-15% of the data available\n",
        "* **Test Set** - The model gets evaluated on this data to test what it has learned.\n"
      ],
      "metadata": {
        "id": "54bRxt9I6MTF"
      }
    },
    {
      "cell_type": "code",
      "source": [
        "len(X1)"
      ],
      "metadata": {
        "colab": {
          "base_uri": "https://localhost:8080/"
        },
        "id": "fAQ8HgcV7t4W",
        "outputId": "40a62d2e-a09f-4ced-9a36-33f59bdc1b73"
      },
      "execution_count": 25,
      "outputs": [
        {
          "output_type": "execute_result",
          "data": {
            "text/plain": [
              "50"
            ]
          },
          "metadata": {},
          "execution_count": 25
        }
      ]
    },
    {
      "cell_type": "code",
      "source": [
        "# from sklearn.model_selection import train_test_split\n",
        "\n",
        "# X_train, X_test, y_train, y_test = train_test_split(X1, y1, test_size = 0.20)\n"
      ],
      "metadata": {
        "id": "w9JxtMwy6Zh9"
      },
      "execution_count": 26,
      "outputs": []
    },
    {
      "cell_type": "code",
      "source": [
        "X_train = X1[:40]\n",
        "y_train = y1[:40]\n",
        "\n",
        "X_test = X1[40:]\n",
        "y_test = y1[40:]\n",
        "\n",
        "len(X_train), len(X_test), len(y_train), len(y_test)"
      ],
      "metadata": {
        "colab": {
          "base_uri": "https://localhost:8080/"
        },
        "id": "t2DaReia8GtW",
        "outputId": "6f4ac361-eae8-4533-82b7-238c3f67a35f"
      },
      "execution_count": 27,
      "outputs": [
        {
          "output_type": "execute_result",
          "data": {
            "text/plain": [
              "(40, 10, 40, 10)"
            ]
          },
          "metadata": {},
          "execution_count": 27
        }
      ]
    },
    {
      "cell_type": "markdown",
      "source": [
        "# Visualizing the data\n",
        "\n",
        "Now we've got our data in training and test sets... let's visualize it!"
      ],
      "metadata": {
        "id": "-waFe4-l93we"
      }
    },
    {
      "cell_type": "code",
      "source": [
        "plt.figure(figsize = (10, 7))\n",
        "\n",
        "plt.scatter(X_train, y_train, c = \"b\", label = \"Training data\")\n",
        "\n",
        "plt.scatter(X_test, y_test, c = \"g\", label = \"Test data\")\n",
        "\n",
        "plt.legend()\n",
        "\n",
        "plt.show()"
      ],
      "metadata": {
        "colab": {
          "base_uri": "https://localhost:8080/",
          "height": 428
        },
        "id": "f7wRwXlt-Iu8",
        "outputId": "dd382ffe-400d-406a-fb8d-4586e48b3e0e"
      },
      "execution_count": 28,
      "outputs": [
        {
          "output_type": "display_data",
          "data": {
            "text/plain": [
              "<Figure size 720x504 with 1 Axes>"
            ],
            "image/png": "[encoded data removed]"
          },
          "metadata": {
            "needs_background": "light"
          }
        }
      ]
    },
    {
      "cell_type": "code",
      "source": [
        "# Let's have a look at our neural network for our data\n",
        "\n",
        "# #1. create a model\n",
        "# model = tf.keras.Sequential([\n",
        "#         tf.keras.layers.Dense(1)\n",
        "# ])\n",
        "\n",
        "# #2. compile the model\n",
        "# model.compile(loss = tf.keras.losses.mae,\n",
        "#               optimizers = tf.keras.optimizers.SGD(),\n",
        "#               metrics = [\"mae\"])\n",
        "\n",
        "# # Fit the model\n",
        "# model.fit(X_train, y_train, epochs = 100)"
      ],
      "metadata": {
        "id": "CKB6zOlv-bsX"
      },
      "execution_count": 29,
      "outputs": []
    },
    {
      "cell_type": "code",
      "source": [
        "# Let's create a model which builds automatically\n",
        "tf.random.set_seed(42)\n",
        "\n",
        "model = tf.keras.Sequential([\n",
        "        tf.keras.layers.Dense(10, input_shape = [1])\n",
        "])\n",
        "\n",
        "# Compile the model\n",
        "model.compile(loss = tf.keras.losses.mae,\n",
        "              optimizer = tf.keras.optimizers.SGD(),\n",
        "              metrics = [\"mae\"])"
      ],
      "metadata": {
        "id": "ImdskeXs_7vp"
      },
      "execution_count": 30,
      "outputs": []
    },
    {
      "cell_type": "code",
      "source": [
        "model.summary()"
      ],
      "metadata": {
        "colab": {
          "base_uri": "https://localhost:8080/"
        },
        "id": "vJz_Ce05Arqa",
        "outputId": "ce21485d-2609-422e-a3ab-40f8e516ab06"
      },
      "execution_count": 31,
      "outputs": [
        {
          "output_type": "stream",
          "name": "stdout",
          "text": [
            "Model: \"sequential_3\"\n",
            "_________________________________________________________________\n",
            " Layer (type)                Output Shape              Param #   \n",
            "=================================================================\n",
            " dense_4 (Dense)             (None, 10)                20        \n",
            "                                                                 \n",
            "=================================================================\n",
            "Total params: 20\n",
            "Trainable params: 20\n",
            "Non-trainable params: 0\n",
            "_________________________________________________________________\n"
          ]
        }
      ]
    },
    {
      "cell_type": "markdown",
      "source": [
        "* Total params - total number of parameters in the model\n",
        "* Trainable params - these are the parameters (patterns) the model can update as it trains.\n",
        "* Non-trainable params - These parameters aren't updated during training (this is typical when you bring in already learn patterns or parameters from other models during **transfer learning**)"
      ],
      "metadata": {
        "id": "1k0K4rWABAbE"
      }
    },
    {
      "cell_type": "code",
      "source": [
        "# Let's fit our model to traing data\n",
        "model.fit(X_train, y_train, epochs = 100, verbose = 0)"
      ],
      "metadata": {
        "colab": {
          "base_uri": "https://localhost:8080/"
        },
        "id": "WAHDxOlqAteg",
        "outputId": "897198fc-0189-4749-8078-8433a115f853"
      },
      "execution_count": 32,
      "outputs": [
        {
          "output_type": "execute_result",
          "data": {
            "text/plain": [
              "<keras.callbacks.History at 0x7efc9a1c7110>"
            ]
          },
          "metadata": {},
          "execution_count": 32
        }
      ]
    },
    {
      "cell_type": "code",
      "source": [
        "from tensorflow.keras.utils import plot_model\n",
        "\n",
        "plot_model(model = model, show_shapes = True)"
      ],
      "metadata": {
        "colab": {
          "base_uri": "https://localhost:8080/",
          "height": 201
        },
        "id": "vdM0YSjQFkLN",
        "outputId": "67602c45-0879-4e77-8a9b-97b0c3ea2dda"
      },
      "execution_count": 33,
      "outputs": [
        {
          "output_type": "execute_result",
          "data": {
            "text/plain": [
              "<IPython.core.display.Image object>"
            ],
            "image/png": "[encoded data removed]"
          },
          "metadata": {},
          "execution_count": 33
        }
      ]
    },
    {
      "cell_type": "code",
      "source": [
        "tf.random.set_seed(42)\n",
        "\n",
        "model = tf.keras.Sequential([\n",
        "        tf.keras.layers.Dense(10, input_shape = [1], name = \"input_layer\"),\n",
        "        tf.keras.layers.Dense(1)\n",
        "], name = \"model_1\")\n",
        "\n",
        "# Compile the model\n",
        "model.compile(loss = tf.keras.losses.mae,\n",
        "              optimizer = tf.keras.optimizers.SGD(),\n",
        "              metrics = [\"mae\"])\n",
        "\n",
        "model.fit(X_train, y_train, epochs = 100, verbose = 0)"
      ],
      "metadata": {
        "colab": {
          "base_uri": "https://localhost:8080/"
        },
        "id": "_dkZmenSGOyS",
        "outputId": "252d2003-c1ac-485d-ec47-4915c20de909"
      },
      "execution_count": 34,
      "outputs": [
        {
          "output_type": "execute_result",
          "data": {
            "text/plain": [
              "<keras.callbacks.History at 0x7efc9b120850>"
            ]
          },
          "metadata": {},
          "execution_count": 34
        }
      ]
    },
    {
      "cell_type": "code",
      "source": [
        "plot_model(model = model, show_shapes = True)"
      ],
      "metadata": {
        "colab": {
          "base_uri": "https://localhost:8080/",
          "height": 312
        },
        "id": "bLAp2MjTbeGO",
        "outputId": "3550adf3-5585-46b3-ac95-ced232463370"
      },
      "execution_count": 35,
      "outputs": [
        {
          "output_type": "execute_result",
          "data": {
            "text/plain": [
              "<IPython.core.display.Image object>"
            ],
            "image/png": "[encoded data removed]"
          },
          "metadata": {},
          "execution_count": 35
        }
      ]
    },
    {
      "cell_type": "markdown",
      "source": [
        "## Visualizing our model's prediction\n",
        "\n",
        "To visualize predictions, it;s a good idea to plot them against the ground truth labels.\n",
        "\n",
        "Often you'll see thiis in the form of `y_test` or `y_true` versus `y_pred` (ground truth versus your model)"
      ],
      "metadata": {
        "id": "mmveaU5obgOD"
      }
    },
    {
      "cell_type": "code",
      "source": [
        "y_pred = model.predict(X_test)\n",
        "y_pred"
      ],
      "metadata": {
        "colab": {
          "base_uri": "https://localhost:8080/"
        },
        "id": "kn36ZwHBcNfN",
        "outputId": "51fba1ca-dfe3-4446-bea2-97148ab8efab"
      },
      "execution_count": 36,
      "outputs": [
        {
          "output_type": "execute_result",
          "data": {
            "text/plain": [
              "array([[ 70.55218 ],\n",
              "       [ 75.13991 ],\n",
              "       [ 79.72763 ],\n",
              "       [ 84.31535 ],\n",
              "       [ 88.903076],\n",
              "       [ 93.49081 ],\n",
              "       [ 98.07853 ],\n",
              "       [102.66625 ],\n",
              "       [107.253975],\n",
              "       [111.8417  ]], dtype=float32)"
            ]
          },
          "metadata": {},
          "execution_count": 36
        }
      ]
    },
    {
      "cell_type": "code",
      "source": [
        "y_test"
      ],
      "metadata": {
        "colab": {
          "base_uri": "https://localhost:8080/"
        },
        "id": "ft5j06iCcSYJ",
        "outputId": "8cece76e-40b9-4cd3-d195-2cd4efce5f6c"
      },
      "execution_count": 37,
      "outputs": [
        {
          "output_type": "execute_result",
          "data": {
            "text/plain": [
              "<tf.Tensor: shape=(10,), dtype=int32, numpy=array([ 70,  74,  78,  82,  86,  90,  94,  98, 102, 106], dtype=int32)>"
            ]
          },
          "metadata": {},
          "execution_count": 37
        }
      ]
    },
    {
      "cell_type": "markdown",
      "source": [
        "🔑 **Note** : If you feel like you're going to reuse some kind of functionality int the future, it's good idea to make functions"
      ],
      "metadata": {
        "id": "SAFakeUndMRA"
      }
    },
    {
      "cell_type": "code",
      "source": [
        "# Let's create a plotting function\n",
        "\n",
        "def plot_predictions(train_data = X_train,\n",
        "                     train_labels = y_train,\n",
        "                     test_data = X_test,\n",
        "                     test_labels = y_test,\n",
        "                     predictions = y_pred):\n",
        "  \n",
        "  plt.figure(figsize = (10, 7))\n",
        "\n",
        "  #Plot train data\n",
        "  plt.scatter(train_data, train_labels, c = \"b\", label = \"Training data\")\n",
        "\n",
        "  #Plot test data\n",
        "  plt.scatter(test_data, test_labels, c = \"g\", label = \"Test data\")\n",
        "\n",
        "  #Plot predictions\n",
        "  plt.scatter(test_data, predictions, c = \"r\", label = \"Predictions\")\n",
        "\n",
        "  plt.legend();"
      ],
      "metadata": {
        "id": "w7Y50MwvcVne"
      },
      "execution_count": 38,
      "outputs": []
    },
    {
      "cell_type": "code",
      "source": [
        "plot_predictions(train_data = X_train,\n",
        "                 train_labels = y_train,\n",
        "                 test_data = X_test,\n",
        "                 test_labels = y_test,\n",
        "                 predictions = y_pred)"
      ],
      "metadata": {
        "colab": {
          "base_uri": "https://localhost:8080/",
          "height": 428
        },
        "id": "YqcP07KEezea",
        "outputId": "b2dd1fc3-8d1d-4a76-f866-970c57f0d3fc"
      },
      "execution_count": 39,
      "outputs": [
        {
          "output_type": "display_data",
          "data": {
            "text/plain": [
              "<Figure size 720x504 with 1 Axes>"
            ],
            "image/png": "[encoded data removed]"
          },
          "metadata": {
            "needs_background": "light"
          }
        }
      ]
    },
    {
      "cell_type": "markdown",
      "source": [
        "# Evaluation Metrics for Regression\n",
        "\n",
        "Depending on problem you're working on, there will be different evlution metrics to evaluate your model's performance.\n",
        "\n",
        "Since we are working on regression, two main metrics:\n",
        "* MAE - mean absolute error\n",
        "* MSE - mean squared error![Screenshot 2022-03-29 at 17.25.18.png](data:image/png;base64,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)"
      ],
      "metadata": {
        "id": "-1nu7Q-1e2vM"
      }
    },
    {
      "cell_type": "code",
      "source": [
        "# Evaluate the model on the test dataset\n",
        "model.evaluate(X_test, y_test)\n"
      ],
      "metadata": {
        "colab": {
          "base_uri": "https://localhost:8080/"
        },
        "id": "fisfJR34fQMd",
        "outputId": "f0b8e138-0f65-42f4-8424-45756f998885"
      },
      "execution_count": 40,
      "outputs": [
        {
          "output_type": "stream",
          "name": "stdout",
          "text": [
            "1/1 [==============================] - 0s 291ms/step - loss: 3.1969 - mae: 3.1969\n"
          ]
        },
        {
          "output_type": "execute_result",
          "data": {
            "text/plain": [
              "[3.196942090988159, 3.196942090988159]"
            ]
          },
          "metadata": {},
          "execution_count": 40
        }
      ]
    },
    {
      "cell_type": "code",
      "source": [
        "y_pred"
      ],
      "metadata": {
        "colab": {
          "base_uri": "https://localhost:8080/"
        },
        "id": "JxQxSerWiUVA",
        "outputId": "a7b5f700-ad4e-4820-aab8-80c608a18bcf"
      },
      "execution_count": 41,
      "outputs": [
        {
          "output_type": "execute_result",
          "data": {
            "text/plain": [
              "array([[ 70.55218 ],\n",
              "       [ 75.13991 ],\n",
              "       [ 79.72763 ],\n",
              "       [ 84.31535 ],\n",
              "       [ 88.903076],\n",
              "       [ 93.49081 ],\n",
              "       [ 98.07853 ],\n",
              "       [102.66625 ],\n",
              "       [107.253975],\n",
              "       [111.8417  ]], dtype=float32)"
            ]
          },
          "metadata": {},
          "execution_count": 41
        }
      ]
    },
    {
      "cell_type": "code",
      "source": [
        "y_test"
      ],
      "metadata": {
        "colab": {
          "base_uri": "https://localhost:8080/"
        },
        "id": "w5u6_uGcietO",
        "outputId": "bef96362-63b3-46dd-cd85-8f67e695648e"
      },
      "execution_count": 42,
      "outputs": [
        {
          "output_type": "execute_result",
          "data": {
            "text/plain": [
              "<tf.Tensor: shape=(10,), dtype=int32, numpy=array([ 70,  74,  78,  82,  86,  90,  94,  98, 102, 106], dtype=int32)>"
            ]
          },
          "metadata": {},
          "execution_count": 42
        }
      ]
    },
    {
      "cell_type": "code",
      "source": [
        "mae = tf.metrics.mean_absolute_error(y_true = y_test,\n",
        "                                     y_pred = y_pred)\n",
        "mae"
      ],
      "metadata": {
        "colab": {
          "base_uri": "https://localhost:8080/"
        },
        "id": "jSHJLe1FkB10",
        "outputId": "bccb0477-8242-4513-e257-190fc7e403e7"
      },
      "execution_count": 43,
      "outputs": [
        {
          "output_type": "execute_result",
          "data": {
            "text/plain": [
              "<tf.Tensor: shape=(10,), dtype=float32, numpy=\n",
              "array([17.558258 , 14.1160555, 11.708948 , 10.336929 , 10.       ,\n",
              "       10.698161 , 12.447118 , 15.333002 , 19.253975 , 23.841698 ],\n",
              "      dtype=float32)>"
            ]
          },
          "metadata": {},
          "execution_count": 43
        }
      ]
    },
    {
      "cell_type": "code",
      "source": [
        ""
      ],
      "metadata": {
        "id": "MSCyzZVIkTN7"
      },
      "execution_count": 43,
      "outputs": []
    },
    {
      "cell_type": "code",
      "source": [
        "# Calculate the mean absolute error\n",
        "y_pred_tf = tf.constant(y_pred)\n",
        "y_pred_tf"
      ],
      "metadata": {
        "colab": {
          "base_uri": "https://localhost:8080/"
        },
        "id": "n5uwrZgBigRi",
        "outputId": "1b2e7a7d-41da-4dfd-c3b9-c46b0b6126ee"
      },
      "execution_count": 44,
      "outputs": [
        {
          "output_type": "execute_result",
          "data": {
            "text/plain": [
              "<tf.Tensor: shape=(10, 1), dtype=float32, numpy=\n",
              "array([[ 70.55218 ],\n",
              "       [ 75.13991 ],\n",
              "       [ 79.72763 ],\n",
              "       [ 84.31535 ],\n",
              "       [ 88.903076],\n",
              "       [ 93.49081 ],\n",
              "       [ 98.07853 ],\n",
              "       [102.66625 ],\n",
              "       [107.253975],\n",
              "       [111.8417  ]], dtype=float32)>"
            ]
          },
          "metadata": {},
          "execution_count": 44
        }
      ]
    },
    {
      "cell_type": "code",
      "source": [
        "y_test\n"
      ],
      "metadata": {
        "colab": {
          "base_uri": "https://localhost:8080/"
        },
        "id": "_ZnnUyURi4UF",
        "outputId": "32c6db63-4289-4f2d-86b7-1987373dd668"
      },
      "execution_count": 45,
      "outputs": [
        {
          "output_type": "execute_result",
          "data": {
            "text/plain": [
              "<tf.Tensor: shape=(10,), dtype=int32, numpy=array([ 70,  74,  78,  82,  86,  90,  94,  98, 102, 106], dtype=int32)>"
            ]
          },
          "metadata": {},
          "execution_count": 45
        }
      ]
    },
    {
      "cell_type": "code",
      "source": [
        "y_pred_squeeze = tf.squeeze(y_pred_tf)"
      ],
      "metadata": {
        "id": "6eWX7gB8jPOr"
      },
      "execution_count": 46,
      "outputs": []
    },
    {
      "cell_type": "code",
      "source": [
        "# Calculte the mae\n",
        "mae = tf.metrics.mean_absolute_error(y_true = y_test,\n",
        "                                     y_pred = y_pred_squeeze)\n",
        "mae"
      ],
      "metadata": {
        "colab": {
          "base_uri": "https://localhost:8080/"
        },
        "id": "Iy9J7FypkyWp",
        "outputId": "42ec1ac2-43cd-46f4-863e-1e5b07b9f1eb"
      },
      "execution_count": 47,
      "outputs": [
        {
          "output_type": "execute_result",
          "data": {
            "text/plain": [
              "<tf.Tensor: shape=(), dtype=float32, numpy=3.1969407>"
            ]
          },
          "metadata": {},
          "execution_count": 47
        }
      ]
    },
    {
      "cell_type": "code",
      "source": [
        "# Calculate the mean squared error\n",
        "mse = tf.metrics.mean_squared_error(y_true = y_test,\n",
        "                                    y_pred = tf.squeeze(y_pred))\n",
        "mse"
      ],
      "metadata": {
        "colab": {
          "base_uri": "https://localhost:8080/"
        },
        "id": "zGsbTk3TlEgS",
        "outputId": "a0c602e2-e86a-4330-b93e-83003ca7506d"
      },
      "execution_count": 48,
      "outputs": [
        {
          "output_type": "execute_result",
          "data": {
            "text/plain": [
              "<tf.Tensor: shape=(), dtype=float32, numpy=13.070143>"
            ]
          },
          "metadata": {},
          "execution_count": 48
        }
      ]
    },
    {
      "cell_type": "code",
      "source": [
        "# Make some functions to reuse mse and mae\n",
        "def mae(y_true, y_pred):\n",
        "  return tf.metrics.mean_absolute_error(y_true = y_true,\n",
        "                                        y_pred = tf.squeeze(y_pred))\n",
        "\n",
        "def mse(y_true, y_pred):\n",
        "  return tf.metrics.mean_squared_error(y_true = y_true,\n",
        "                                       y_pred = tf.squeeze(y_pred))\n",
        "\n"
      ],
      "metadata": {
        "id": "ys1wCThIOTWS"
      },
      "execution_count": 49,
      "outputs": []
    },
    {
      "cell_type": "markdown",
      "source": [
        "# Running Experiments to improve our model\n",
        "\n",
        "```\n",
        "Build model -> fit it -> evaluate it -> tweak it -> fit it -> evaluate it -> ...\n",
        "\n",
        "```\n",
        "\n",
        "1. Get more data/examples\n",
        "2. Make your model larger - adding more hidden layers, hidden units in each layer..\n",
        "3. Train for longer\n",
        "\n",
        "\n",
        "Let's do three modelling experiments -\n",
        "1. `model_1` - same as original model, 1 layer, trained for 100 epochs\n",
        "2. `model_2` - 2 layers, trained for 100 epochs\n",
        "3. `model_3` - 2 layers, trained for 500 epochs\n",
        "\n",
        "\n",
        "Build `model_1`"
      ],
      "metadata": {
        "id": "LpCBA-wIPN-3"
      }
    },
    {
      "cell_type": "code",
      "source": [
        "# Set random seed\n",
        "tf.random.set_seed(42)\n",
        "\n",
        "model_1 = tf.keras.Sequential([\n",
        "        tf.keras.layers.Dense(1)\n",
        "])\n",
        "\n",
        "model_1.compile(loss = tf.keras.losses.mae,\n",
        "              optimizer = tf.keras.optimizers.SGD(),\n",
        "              metrics = [\"mae\"])\n",
        "\n",
        "model_1.fit(tf.expand_dims(X_train, axis= -1), y_train, epochs = 100)"
      ],
      "metadata": {
        "colab": {
          "base_uri": "https://localhost:8080/"
        },
        "id": "cM-J6ASkPmpC",
        "outputId": "09bb9e32-3660-4cb5-a890-2ad6af890853"
      },
      "execution_count": 50,
      "outputs": [
        {
          "output_type": "stream",
          "name": "stdout",
          "text": [
            "Epoch 1/100\n",
            "2/2 [==============================] - 1s 7ms/step - loss: 15.9024 - mae: 15.9024\n",
            "Epoch 2/100\n",
            "2/2 [==============================] - 0s 8ms/step - loss: 11.2837 - mae: 11.2837\n",
            "Epoch 3/100\n",
            "2/2 [==============================] - 0s 8ms/step - loss: 11.1074 - mae: 11.1074\n",
            "Epoch 4/100\n",
            "2/2 [==============================] - 0s 9ms/step - loss: 9.2991 - mae: 9.2991\n",
            "Epoch 5/100\n",
            "2/2 [==============================] - 0s 5ms/step - loss: 10.1677 - mae: 10.1677\n",
            "Epoch 6/100\n",
            "2/2 [==============================] - 0s 11ms/step - loss: 9.4303 - mae: 9.4303\n",
            "Epoch 7/100\n",
            "2/2 [==============================] - 0s 8ms/step - loss: 8.5704 - mae: 8.5704\n",
            "Epoch 8/100\n",
            "2/2 [==============================] - 0s 6ms/step - loss: 9.0442 - mae: 9.0442\n",
            "Epoch 9/100\n",
            "2/2 [==============================] - 0s 7ms/step - loss: 18.7517 - mae: 18.7517\n",
            "Epoch 10/100\n",
            "2/2 [==============================] - 0s 7ms/step - loss: 10.1142 - mae: 10.1142\n",
            "Epoch 11/100\n",
            "2/2 [==============================] - 0s 14ms/step - loss: 8.3980 - mae: 8.3980\n",
            "Epoch 12/100\n",
            "2/2 [==============================] - 0s 11ms/step - loss: 10.6639 - mae: 10.6639\n",
            "Epoch 13/100\n",
            "2/2 [==============================] - 0s 8ms/step - loss: 9.7977 - mae: 9.7977\n",
            "Epoch 14/100\n",
            "2/2 [==============================] - 0s 9ms/step - loss: 16.0103 - mae: 16.0103\n",
            "Epoch 15/100\n",
            "2/2 [==============================] - 0s 11ms/step - loss: 11.4068 - mae: 11.4068\n",
            "Epoch 16/100\n",
            "2/2 [==============================] - 0s 19ms/step - loss: 8.5393 - mae: 8.5393\n",
            "Epoch 17/100\n",
            "2/2 [==============================] - 0s 12ms/step - loss: 13.6348 - mae: 13.6348\n",
            "Epoch 18/100\n",
            "2/2 [==============================] - 0s 17ms/step - loss: 11.4629 - mae: 11.4629\n",
            "Epoch 19/100\n",
            "2/2 [==============================] - 0s 9ms/step - loss: 17.9148 - mae: 17.9148\n",
            "Epoch 20/100\n",
            "2/2 [==============================] - 0s 11ms/step - loss: 15.0494 - mae: 15.0494\n",
            "Epoch 21/100\n",
            "2/2 [==============================] - 0s 8ms/step - loss: 11.0216 - mae: 11.0216\n",
            "Epoch 22/100\n",
            "2/2 [==============================] - 0s 25ms/step - loss: 8.1558 - mae: 8.1558\n",
            "Epoch 23/100\n",
            "2/2 [==============================] - 0s 9ms/step - loss: 9.5138 - mae: 9.5138\n",
            "Epoch 24/100\n",
            "2/2 [==============================] - 0s 14ms/step - loss: 7.6617 - mae: 7.6617\n",
            "Epoch 25/100\n",
            "2/2 [==============================] - 0s 4ms/step - loss: 13.1859 - mae: 13.1859\n",
            "Epoch 26/100\n",
            "2/2 [==============================] - 0s 13ms/step - loss: 16.4211 - mae: 16.4211\n",
            "Epoch 27/100\n",
            "2/2 [==============================] - 0s 16ms/step - loss: 13.1660 - mae: 13.1660\n",
            "Epoch 28/100\n",
            "2/2 [==============================] - 0s 9ms/step - loss: 14.2559 - mae: 14.2559\n",
            "Epoch 29/100\n",
            "2/2 [==============================] - 0s 9ms/step - loss: 10.0670 - mae: 10.0670\n",
            "Epoch 30/100\n",
            "2/2 [==============================] - 0s 9ms/step - loss: 16.3409 - mae: 16.3409\n",
            "Epoch 31/100\n",
            "2/2 [==============================] - 0s 10ms/step - loss: 23.6444 - mae: 23.6444\n",
            "Epoch 32/100\n",
            "2/2 [==============================] - 0s 23ms/step - loss: 7.6215 - mae: 7.6215\n",
            "Epoch 33/100\n",
            "2/2 [==============================] - 0s 5ms/step - loss: 9.3221 - mae: 9.3221\n",
            "Epoch 34/100\n",
            "2/2 [==============================] - 0s 8ms/step - loss: 13.7313 - mae: 13.7313\n",
            "Epoch 35/100\n",
            "2/2 [==============================] - 0s 8ms/step - loss: 11.1276 - mae: 11.1276\n",
            "Epoch 36/100\n",
            "2/2 [==============================] - 0s 13ms/step - loss: 13.3222 - mae: 13.3222\n",
            "Epoch 37/100\n",
            "2/2 [==============================] - 0s 11ms/step - loss: 9.4763 - mae: 9.4763\n",
            "Epoch 38/100\n",
            "2/2 [==============================] - 0s 8ms/step - loss: 10.1381 - mae: 10.1381\n",
            "Epoch 39/100\n",
            "2/2 [==============================] - 0s 8ms/step - loss: 10.1793 - mae: 10.1793\n",
            "Epoch 40/100\n",
            "2/2 [==============================] - 0s 8ms/step - loss: 10.9137 - mae: 10.9137\n",
            "Epoch 41/100\n",
            "2/2 [==============================] - 0s 7ms/step - loss: 7.9063 - mae: 7.9063\n",
            "Epoch 42/100\n",
            "2/2 [==============================] - 0s 10ms/step - loss: 10.0914 - mae: 10.0914\n",
            "Epoch 43/100\n",
            "2/2 [==============================] - 0s 9ms/step - loss: 8.7006 - mae: 8.7006\n",
            "Epoch 44/100\n",
            "2/2 [==============================] - 0s 11ms/step - loss: 12.2047 - mae: 12.2047\n",
            "Epoch 45/100\n",
            "2/2 [==============================] - 0s 11ms/step - loss: 13.7970 - mae: 13.7970\n",
            "Epoch 46/100\n",
            "2/2 [==============================] - 0s 13ms/step - loss: 8.4687 - mae: 8.4687\n",
            "Epoch 47/100\n",
            "2/2 [==============================] - 0s 7ms/step - loss: 9.1330 - mae: 9.1330\n",
            "Epoch 48/100\n",
            "2/2 [==============================] - 0s 17ms/step - loss: 10.6190 - mae: 10.6190\n",
            "Epoch 49/100\n",
            "2/2 [==============================] - 0s 6ms/step - loss: 7.7503 - mae: 7.7503\n",
            "Epoch 50/100\n",
            "2/2 [==============================] - 0s 18ms/step - loss: 9.5407 - mae: 9.5407\n",
            "Epoch 51/100\n",
            "2/2 [==============================] - 0s 12ms/step - loss: 9.1584 - mae: 9.1584\n",
            "Epoch 52/100\n",
            "2/2 [==============================] - 0s 8ms/step - loss: 16.3630 - mae: 16.3630\n",
            "Epoch 53/100\n",
            "2/2 [==============================] - 0s 5ms/step - loss: 14.1299 - mae: 14.1299\n",
            "Epoch 54/100\n",
            "2/2 [==============================] - 0s 4ms/step - loss: 21.1247 - mae: 21.1247\n",
            "Epoch 55/100\n",
            "2/2 [==============================] - 0s 7ms/step - loss: 16.3961 - mae: 16.3961\n",
            "Epoch 56/100\n",
            "2/2 [==============================] - 0s 25ms/step - loss: 9.9806 - mae: 9.9806\n",
            "Epoch 57/100\n",
            "2/2 [==============================] - 0s 10ms/step - loss: 9.9606 - mae: 9.9606\n",
            "Epoch 58/100\n",
            "2/2 [==============================] - 0s 5ms/step - loss: 9.2209 - mae: 9.2209\n",
            "Epoch 59/100\n",
            "2/2 [==============================] - 0s 13ms/step - loss: 8.4239 - mae: 8.4239\n",
            "Epoch 60/100\n",
            "2/2 [==============================] - 0s 13ms/step - loss: 9.4869 - mae: 9.4869\n",
            "Epoch 61/100\n",
            "2/2 [==============================] - 0s 9ms/step - loss: 11.4355 - mae: 11.4355\n",
            "Epoch 62/100\n",
            "2/2 [==============================] - 0s 12ms/step - loss: 11.6887 - mae: 11.6887\n",
            "Epoch 63/100\n",
            "2/2 [==============================] - 0s 9ms/step - loss: 7.0838 - mae: 7.0838\n",
            "Epoch 64/100\n",
            "2/2 [==============================] - 0s 8ms/step - loss: 16.9675 - mae: 16.9675\n",
            "Epoch 65/100\n",
            "2/2 [==============================] - 0s 7ms/step - loss: 12.4599 - mae: 12.4599\n",
            "Epoch 66/100\n",
            "2/2 [==============================] - 0s 6ms/step - loss: 13.0184 - mae: 13.0184\n",
            "Epoch 67/100\n",
            "2/2 [==============================] - 0s 7ms/step - loss: 8.0600 - mae: 8.0600\n",
            "Epoch 68/100\n",
            "2/2 [==============================] - 0s 10ms/step - loss: 10.1888 - mae: 10.1888\n",
            "Epoch 69/100\n",
            "2/2 [==============================] - 0s 7ms/step - loss: 12.3633 - mae: 12.3633\n",
            "Epoch 70/100\n",
            "2/2 [==============================] - 0s 11ms/step - loss: 9.0516 - mae: 9.0516\n",
            "Epoch 71/100\n",
            "2/2 [==============================] - 0s 8ms/step - loss: 10.0378 - mae: 10.0378\n",
            "Epoch 72/100\n",
            "2/2 [==============================] - 0s 8ms/step - loss: 10.0516 - mae: 10.0516\n",
            "Epoch 73/100\n",
            "2/2 [==============================] - 0s 7ms/step - loss: 12.6151 - mae: 12.6151\n",
            "Epoch 74/100\n",
            "2/2 [==============================] - 0s 10ms/step - loss: 10.3819 - mae: 10.3819\n",
            "Epoch 75/100\n",
            "2/2 [==============================] - 0s 11ms/step - loss: 9.7229 - mae: 9.7229\n",
            "Epoch 76/100\n",
            "2/2 [==============================] - 0s 9ms/step - loss: 11.2252 - mae: 11.2252\n",
            "Epoch 77/100\n",
            "2/2 [==============================] - 0s 12ms/step - loss: 8.3642 - mae: 8.3642\n",
            "Epoch 78/100\n",
            "2/2 [==============================] - 0s 14ms/step - loss: 9.1274 - mae: 9.1274\n",
            "Epoch 79/100\n",
            "2/2 [==============================] - 0s 18ms/step - loss: 19.5039 - mae: 19.5039\n",
            "Epoch 80/100\n",
            "2/2 [==============================] - 0s 13ms/step - loss: 14.8945 - mae: 14.8945\n",
            "Epoch 81/100\n",
            "2/2 [==============================] - 0s 15ms/step - loss: 9.0034 - mae: 9.0034\n",
            "Epoch 82/100\n",
            "2/2 [==============================] - 0s 24ms/step - loss: 13.0206 - mae: 13.0206\n",
            "Epoch 83/100\n",
            "2/2 [==============================] - 0s 13ms/step - loss: 7.9299 - mae: 7.9299\n",
            "Epoch 84/100\n",
            "2/2 [==============================] - 0s 10ms/step - loss: 7.6872 - mae: 7.6872\n",
            "Epoch 85/100\n",
            "2/2 [==============================] - 0s 10ms/step - loss: 10.0328 - mae: 10.0328\n",
            "Epoch 86/100\n",
            "2/2 [==============================] - 0s 7ms/step - loss: 9.2433 - mae: 9.2433\n",
            "Epoch 87/100\n",
            "2/2 [==============================] - 0s 9ms/step - loss: 12.0209 - mae: 12.0209\n",
            "Epoch 88/100\n",
            "2/2 [==============================] - 0s 11ms/step - loss: 10.6389 - mae: 10.6389\n",
            "Epoch 89/100\n",
            "2/2 [==============================] - 0s 8ms/step - loss: 7.2667 - mae: 7.2667\n",
            "Epoch 90/100\n",
            "2/2 [==============================] - 0s 8ms/step - loss: 12.7786 - mae: 12.7786\n",
            "Epoch 91/100\n",
            "2/2 [==============================] - 0s 14ms/step - loss: 7.3481 - mae: 7.3481\n",
            "Epoch 92/100\n",
            "2/2 [==============================] - 0s 8ms/step - loss: 7.7175 - mae: 7.7175\n",
            "Epoch 93/100\n",
            "2/2 [==============================] - 0s 9ms/step - loss: 7.1263 - mae: 7.1263\n",
            "Epoch 94/100\n",
            "2/2 [==============================] - 0s 14ms/step - loss: 12.6190 - mae: 12.6190\n",
            "Epoch 95/100\n",
            "2/2 [==============================] - 0s 21ms/step - loss: 10.0912 - mae: 10.0912\n",
            "Epoch 96/100\n",
            "2/2 [==============================] - 0s 8ms/step - loss: 9.3558 - mae: 9.3558\n",
            "Epoch 97/100\n",
            "2/2 [==============================] - 0s 13ms/step - loss: 12.6834 - mae: 12.6834\n",
            "Epoch 98/100\n",
            "2/2 [==============================] - 0s 9ms/step - loss: 8.6762 - mae: 8.6762\n",
            "Epoch 99/100\n",
            "2/2 [==============================] - 0s 8ms/step - loss: 9.4693 - mae: 9.4693\n",
            "Epoch 100/100\n",
            "2/2 [==============================] - 0s 7ms/step - loss: 8.7067 - mae: 8.7067\n"
          ]
        },
        {
          "output_type": "execute_result",
          "data": {
            "text/plain": [
              "<keras.callbacks.History at 0x7efc9c3b8050>"
            ]
          },
          "metadata": {},
          "execution_count": 50
        }
      ]
    },
    {
      "cell_type": "code",
      "source": [
        "# Make and plot predictions for model_1\n",
        "\n",
        "y_preds_1 = model_1.predict(X_test)\n",
        "plot_predictions(predictions = y_preds_1)"
      ],
      "metadata": {
        "colab": {
          "base_uri": "https://localhost:8080/",
          "height": 466
        },
        "id": "_Ozu36hDQ40E",
        "outputId": "4acbaead-a5be-406f-e4b6-35196d4d5b07"
      },
      "execution_count": 51,
      "outputs": [
        {
          "output_type": "stream",
          "name": "stdout",
          "text": [
            "WARNING:tensorflow:5 out of the last 5 calls to <function Model.make_predict_function.<locals>.predict_function at 0x7efc9a1b0cb0> triggered tf.function retracing. Tracing is expensive and the excessive number of tracings could be due to (1) creating @tf.function repeatedly in a loop, (2) passing tensors with different shapes, (3) passing Python objects instead of tensors. For (1), please define your @tf.function outside of the loop. For (2), @tf.function has experimental_relax_shapes=True option that relaxes argument shapes that can avoid unnecessary retracing. For (3), please refer to https://www.tensorflow.org/guide/function#controlling_retracing and https://www.tensorflow.org/api_docs/python/tf/function for  more details.\n"
          ]
        },
        {
          "output_type": "display_data",
          "data": {
            "text/plain": [
              "<Figure size 720x504 with 1 Axes>"
            ],
            "image/png": "[encoded data removed]"
          },
          "metadata": {
            "needs_background": "light"
          }
        }
      ]
    },
    {
      "cell_type": "code",
      "source": [
        "# Calculate model_1 evaluation metrics\n",
        "mae_1 = mae(y_test, y_preds_1)\n",
        "mse_1 = mse(y_test, y_preds_1)\n",
        "mae_1, mse_1"
      ],
      "metadata": {
        "colab": {
          "base_uri": "https://localhost:8080/"
        },
        "id": "udC3kbx0RlNv",
        "outputId": "c3e138a1-293d-42c3-b47f-c5b2cfcb8dd2"
      },
      "execution_count": 52,
      "outputs": [
        {
          "output_type": "execute_result",
          "data": {
            "text/plain": [
              "(<tf.Tensor: shape=(), dtype=float32, numpy=18.745327>,\n",
              " <tf.Tensor: shape=(), dtype=float32, numpy=353.57336>)"
            ]
          },
          "metadata": {},
          "execution_count": 52
        }
      ]
    },
    {
      "cell_type": "markdown",
      "source": [
        "**Build `model_2`**"
      ],
      "metadata": {
        "id": "PYJZQqGqSPrd"
      }
    },
    {
      "cell_type": "code",
      "source": [
        "tf.random.set_seed(42)\n",
        "\n",
        "#1. create the model\n",
        "model_2 = tf.keras.Sequential([\n",
        "          tf.keras.layers.Dense(10),\n",
        "          tf.keras.layers.Dense(1)\n",
        "])\n",
        "\n",
        "#2. compile the model\n",
        "model_2.compile(loss = tf.keras.losses.mae,\n",
        "                optimizer = tf.keras.optimizers.SGD(),\n",
        "                metrics = [\"mse\"])\n",
        "\n",
        "#3. Fit the model\n",
        "model_2.fit(tf.expand_dims(X_train, axis = -1), y_train, epochs = 100, verbose = 2)"
      ],
      "metadata": {
        "colab": {
          "base_uri": "https://localhost:8080/"
        },
        "id": "DvzAMlNlS87D",
        "outputId": "23b32cc1-b0b8-4186-a372-d3722e3f7be0"
      },
      "execution_count": 53,
      "outputs": [
        {
          "output_type": "stream",
          "name": "stdout",
          "text": [
            "Epoch 1/100\n",
            "2/2 - 1s - loss: 27.4058 - mse: 1084.1482 - 786ms/epoch - 393ms/step\n",
            "Epoch 2/100\n",
            "2/2 - 0s - loss: 24.6339 - mse: 777.9203 - 9ms/epoch - 5ms/step\n",
            "Epoch 3/100\n",
            "2/2 - 0s - loss: 29.8935 - mse: 1334.8955 - 12ms/epoch - 6ms/step\n",
            "Epoch 4/100\n",
            "2/2 - 0s - loss: 27.4055 - mse: 1106.8035 - 12ms/epoch - 6ms/step\n",
            "Epoch 5/100\n",
            "2/2 - 0s - loss: 14.9463 - mse: 281.1077 - 9ms/epoch - 5ms/step\n",
            "Epoch 6/100\n",
            "2/2 - 0s - loss: 11.8819 - mse: 168.6621 - 18ms/epoch - 9ms/step\n",
            "Epoch 7/100\n",
            "2/2 - 0s - loss: 11.1988 - mse: 151.3509 - 12ms/epoch - 6ms/step\n",
            "Epoch 8/100\n",
            "2/2 - 0s - loss: 11.0910 - mse: 160.3745 - 15ms/epoch - 7ms/step\n",
            "Epoch 9/100\n",
            "2/2 - 0s - loss: 40.4763 - mse: 2586.0090 - 13ms/epoch - 7ms/step\n",
            "Epoch 10/100\n",
            "2/2 - 0s - loss: 27.8688 - mse: 1094.4382 - 10ms/epoch - 5ms/step\n",
            "Epoch 11/100\n",
            "2/2 - 0s - loss: 10.2473 - mse: 147.9359 - 12ms/epoch - 6ms/step\n",
            "Epoch 12/100\n",
            "2/2 - 0s - loss: 25.2803 - mse: 890.3867 - 12ms/epoch - 6ms/step\n",
            "Epoch 13/100\n",
            "2/2 - 0s - loss: 16.9897 - mse: 399.9678 - 10ms/epoch - 5ms/step\n",
            "Epoch 14/100\n",
            "2/2 - 0s - loss: 25.9217 - mse: 1049.5515 - 15ms/epoch - 8ms/step\n",
            "Epoch 15/100\n",
            "2/2 - 0s - loss: 17.9948 - mse: 450.2580 - 13ms/epoch - 7ms/step\n",
            "Epoch 16/100\n",
            "2/2 - 0s - loss: 7.3510 - mse: 80.6206 - 8ms/epoch - 4ms/step\n",
            "Epoch 17/100\n",
            "2/2 - 0s - loss: 10.8636 - mse: 174.7868 - 10ms/epoch - 5ms/step\n",
            "Epoch 18/100\n",
            "2/2 - 0s - loss: 19.5304 - mse: 565.8053 - 9ms/epoch - 5ms/step\n",
            "Epoch 19/100\n",
            "2/2 - 0s - loss: 10.3469 - mse: 167.7749 - 8ms/epoch - 4ms/step\n",
            "Epoch 20/100\n",
            "2/2 - 0s - loss: 17.6985 - mse: 455.7096 - 9ms/epoch - 4ms/step\n",
            "Epoch 21/100\n",
            "2/2 - 0s - loss: 15.8984 - mse: 347.1929 - 9ms/epoch - 4ms/step\n",
            "Epoch 22/100\n",
            "2/2 - 0s - loss: 14.1991 - mse: 285.1767 - 8ms/epoch - 4ms/step\n",
            "Epoch 23/100\n",
            "2/2 - 0s - loss: 8.7720 - mse: 91.7852 - 8ms/epoch - 4ms/step\n",
            "Epoch 24/100\n",
            "2/2 - 0s - loss: 11.0570 - mse: 153.7430 - 8ms/epoch - 4ms/step\n",
            "Epoch 25/100\n",
            "2/2 - 0s - loss: 12.6838 - mse: 233.2949 - 11ms/epoch - 6ms/step\n",
            "Epoch 26/100\n",
            "2/2 - 0s - loss: 26.1877 - mse: 1024.6091 - 10ms/epoch - 5ms/step\n",
            "Epoch 27/100\n",
            "2/2 - 0s - loss: 11.7432 - mse: 194.8454 - 16ms/epoch - 8ms/step\n",
            "Epoch 28/100\n",
            "2/2 - 0s - loss: 22.8730 - mse: 835.6074 - 12ms/epoch - 6ms/step\n",
            "Epoch 29/100\n",
            "2/2 - 0s - loss: 9.2459 - mse: 96.7786 - 11ms/epoch - 6ms/step\n",
            "Epoch 30/100\n",
            "2/2 - 0s - loss: 29.2641 - mse: 1535.1349 - 9ms/epoch - 4ms/step\n",
            "Epoch 31/100\n",
            "2/2 - 0s - loss: 53.0225 - mse: 5030.2988 - 11ms/epoch - 6ms/step\n",
            "Epoch 32/100\n",
            "2/2 - 0s - loss: 11.9951 - mse: 211.7025 - 11ms/epoch - 5ms/step\n",
            "Epoch 33/100\n",
            "2/2 - 0s - loss: 15.6357 - mse: 337.3666 - 10ms/epoch - 5ms/step\n",
            "Epoch 34/100\n",
            "2/2 - 0s - loss: 12.6925 - mse: 214.4823 - 19ms/epoch - 10ms/step\n",
            "Epoch 35/100\n",
            "2/2 - 0s - loss: 9.2398 - mse: 92.9126 - 13ms/epoch - 6ms/step\n",
            "Epoch 36/100\n",
            "2/2 - 0s - loss: 16.6497 - mse: 403.6573 - 9ms/epoch - 5ms/step\n",
            "Epoch 37/100\n",
            "2/2 - 0s - loss: 11.0382 - mse: 192.3919 - 21ms/epoch - 10ms/step\n",
            "Epoch 38/100\n",
            "2/2 - 0s - loss: 18.1634 - mse: 433.6717 - 16ms/epoch - 8ms/step\n",
            "Epoch 39/100\n",
            "2/2 - 0s - loss: 19.1013 - mse: 529.6439 - 16ms/epoch - 8ms/step\n",
            "Epoch 40/100\n",
            "2/2 - 0s - loss: 20.4324 - mse: 610.1324 - 17ms/epoch - 8ms/step\n",
            "Epoch 41/100\n",
            "2/2 - 0s - loss: 14.9102 - mse: 279.6183 - 25ms/epoch - 12ms/step\n",
            "Epoch 42/100\n",
            "2/2 - 0s - loss: 12.2809 - mse: 186.6180 - 24ms/epoch - 12ms/step\n",
            "Epoch 43/100\n",
            "2/2 - 0s - loss: 10.7333 - mse: 167.0952 - 13ms/epoch - 6ms/step\n",
            "Epoch 44/100\n",
            "2/2 - 0s - loss: 23.0260 - mse: 830.4244 - 10ms/epoch - 5ms/step\n",
            "Epoch 45/100\n",
            "2/2 - 0s - loss: 10.3897 - mse: 128.9549 - 14ms/epoch - 7ms/step\n",
            "Epoch 46/100\n",
            "2/2 - 0s - loss: 11.7904 - mse: 181.9212 - 11ms/epoch - 6ms/step\n",
            "Epoch 47/100\n",
            "2/2 - 0s - loss: 9.6438 - mse: 153.8708 - 22ms/epoch - 11ms/step\n",
            "Epoch 48/100\n",
            "2/2 - 0s - loss: 17.2335 - mse: 402.8494 - 15ms/epoch - 8ms/step\n",
            "Epoch 49/100\n",
            "2/2 - 0s - loss: 9.5729 - mse: 99.8337 - 16ms/epoch - 8ms/step\n",
            "Epoch 50/100\n",
            "2/2 - 0s - loss: 13.8185 - mse: 260.3670 - 15ms/epoch - 7ms/step\n",
            "Epoch 51/100\n",
            "2/2 - 0s - loss: 11.5958 - mse: 154.7956 - 16ms/epoch - 8ms/step\n",
            "Epoch 52/100\n",
            "2/2 - 0s - loss: 30.5538 - mse: 1613.0886 - 11ms/epoch - 5ms/step\n",
            "Epoch 53/100\n",
            "2/2 - 0s - loss: 14.3541 - mse: 302.5293 - 15ms/epoch - 7ms/step\n",
            "Epoch 54/100\n",
            "2/2 - 0s - loss: 23.9713 - mse: 859.3983 - 26ms/epoch - 13ms/step\n",
            "Epoch 55/100\n",
            "2/2 - 0s - loss: 23.1938 - mse: 805.5452 - 14ms/epoch - 7ms/step\n",
            "Epoch 56/100\n",
            "2/2 - 0s - loss: 10.8837 - mse: 170.9834 - 24ms/epoch - 12ms/step\n",
            "Epoch 57/100\n",
            "2/2 - 0s - loss: 12.7445 - mse: 198.7015 - 13ms/epoch - 7ms/step\n",
            "Epoch 58/100\n",
            "2/2 - 0s - loss: 9.5995 - mse: 102.5890 - 15ms/epoch - 7ms/step\n",
            "Epoch 59/100\n",
            "2/2 - 0s - loss: 12.5172 - mse: 216.3367 - 15ms/epoch - 7ms/step\n",
            "Epoch 60/100\n",
            "2/2 - 0s - loss: 12.3200 - mse: 208.6371 - 15ms/epoch - 7ms/step\n",
            "Epoch 61/100\n",
            "2/2 - 0s - loss: 17.4604 - mse: 428.6393 - 21ms/epoch - 10ms/step\n",
            "Epoch 62/100\n",
            "2/2 - 0s - loss: 10.6052 - mse: 136.9777 - 11ms/epoch - 5ms/step\n",
            "Epoch 63/100\n",
            "2/2 - 0s - loss: 10.4893 - mse: 152.4555 - 13ms/epoch - 7ms/step\n",
            "Epoch 64/100\n",
            "2/2 - 0s - loss: 24.8450 - mse: 911.7511 - 15ms/epoch - 8ms/step\n",
            "Epoch 65/100\n",
            "2/2 - 0s - loss: 10.6761 - mse: 142.7374 - 19ms/epoch - 10ms/step\n",
            "Epoch 66/100\n",
            "2/2 - 0s - loss: 21.7809 - mse: 704.4492 - 22ms/epoch - 11ms/step\n",
            "Epoch 67/100\n",
            "2/2 - 0s - loss: 10.7136 - mse: 136.0194 - 14ms/epoch - 7ms/step\n",
            "Epoch 68/100\n",
            "2/2 - 0s - loss: 10.6397 - mse: 149.2300 - 19ms/epoch - 10ms/step\n",
            "Epoch 69/100\n",
            "2/2 - 0s - loss: 22.6914 - mse: 742.1761 - 21ms/epoch - 11ms/step\n",
            "Epoch 70/100\n",
            "2/2 - 0s - loss: 9.3316 - mse: 166.1628 - 28ms/epoch - 14ms/step\n",
            "Epoch 71/100\n",
            "2/2 - 0s - loss: 15.4355 - mse: 323.0843 - 14ms/epoch - 7ms/step\n",
            "Epoch 72/100\n",
            "2/2 - 0s - loss: 6.7437 - mse: 67.0210 - 12ms/epoch - 6ms/step\n",
            "Epoch 73/100\n",
            "2/2 - 0s - loss: 11.6891 - mse: 183.7296 - 10ms/epoch - 5ms/step\n",
            "Epoch 74/100\n",
            "2/2 - 0s - loss: 24.0400 - mse: 908.8992 - 10ms/epoch - 5ms/step\n",
            "Epoch 75/100\n",
            "2/2 - 0s - loss: 9.5896 - mse: 149.3948 - 21ms/epoch - 10ms/step\n",
            "Epoch 76/100\n",
            "2/2 - 0s - loss: 12.4371 - mse: 188.3310 - 16ms/epoch - 8ms/step\n",
            "Epoch 77/100\n",
            "2/2 - 0s - loss: 16.6489 - mse: 429.2708 - 10ms/epoch - 5ms/step\n",
            "Epoch 78/100\n",
            "2/2 - 0s - loss: 9.0614 - mse: 95.4870 - 10ms/epoch - 5ms/step\n",
            "Epoch 79/100\n",
            "2/2 - 0s - loss: 23.9675 - mse: 864.0864 - 9ms/epoch - 5ms/step\n",
            "Epoch 80/100\n",
            "2/2 - 0s - loss: 26.7463 - mse: 1104.4032 - 13ms/epoch - 6ms/step\n",
            "Epoch 81/100\n",
            "2/2 - 0s - loss: 11.6714 - mse: 170.7055 - 12ms/epoch - 6ms/step\n",
            "Epoch 82/100\n",
            "2/2 - 0s - loss: 12.0228 - mse: 211.9191 - 19ms/epoch - 9ms/step\n",
            "Epoch 83/100\n",
            "2/2 - 0s - loss: 17.4218 - mse: 395.5589 - 16ms/epoch - 8ms/step\n",
            "Epoch 84/100\n",
            "2/2 - 0s - loss: 7.2629 - mse: 73.0935 - 9ms/epoch - 4ms/step\n",
            "Epoch 85/100\n",
            "2/2 - 0s - loss: 14.9650 - mse: 312.8361 - 10ms/epoch - 5ms/step\n",
            "Epoch 86/100\n",
            "2/2 - 0s - loss: 15.2862 - mse: 315.3605 - 19ms/epoch - 9ms/step\n",
            "Epoch 87/100\n",
            "2/2 - 0s - loss: 19.1086 - mse: 521.2534 - 22ms/epoch - 11ms/step\n",
            "Epoch 88/100\n",
            "2/2 - 0s - loss: 29.8229 - mse: 1287.1907 - 14ms/epoch - 7ms/step\n",
            "Epoch 89/100\n",
            "2/2 - 0s - loss: 10.1742 - mse: 124.1342 - 11ms/epoch - 5ms/step\n",
            "Epoch 90/100\n",
            "2/2 - 0s - loss: 21.5240 - mse: 663.8611 - 14ms/epoch - 7ms/step\n",
            "Epoch 91/100\n",
            "2/2 - 0s - loss: 10.5716 - mse: 161.7467 - 13ms/epoch - 6ms/step\n",
            "Epoch 92/100\n",
            "2/2 - 0s - loss: 18.3977 - mse: 464.1326 - 11ms/epoch - 6ms/step\n",
            "Epoch 93/100\n",
            "2/2 - 0s - loss: 7.4138 - mse: 81.9820 - 11ms/epoch - 5ms/step\n",
            "Epoch 94/100\n",
            "2/2 - 0s - loss: 17.7380 - mse: 445.7379 - 20ms/epoch - 10ms/step\n",
            "Epoch 95/100\n",
            "2/2 - 0s - loss: 11.1144 - mse: 164.0820 - 28ms/epoch - 14ms/step\n",
            "Epoch 96/100\n",
            "2/2 - 0s - loss: 19.4346 - mse: 510.5842 - 17ms/epoch - 8ms/step\n",
            "Epoch 97/100\n",
            "2/2 - 0s - loss: 12.1593 - mse: 209.9755 - 11ms/epoch - 6ms/step\n",
            "Epoch 98/100\n",
            "2/2 - 0s - loss: 11.5653 - mse: 169.4052 - 11ms/epoch - 6ms/step\n",
            "Epoch 99/100\n",
            "2/2 - 0s - loss: 13.8827 - mse: 265.4630 - 12ms/epoch - 6ms/step\n",
            "Epoch 100/100\n",
            "2/2 - 0s - loss: 20.2277 - mse: 608.8218 - 10ms/epoch - 5ms/step\n"
          ]
        },
        {
          "output_type": "execute_result",
          "data": {
            "text/plain": [
              "<keras.callbacks.History at 0x7efc9d043110>"
            ]
          },
          "metadata": {},
          "execution_count": 53
        }
      ]
    },
    {
      "cell_type": "code",
      "source": [
        "y_preds_2 = model_2.predict(X_test)\n",
        "plot_predictions(predictions = y_preds_2)"
      ],
      "metadata": {
        "colab": {
          "base_uri": "https://localhost:8080/",
          "height": 466
        },
        "id": "AMxBJYEsTOEE",
        "outputId": "9851abb7-09cc-451c-d41b-dc46b0da3d31"
      },
      "execution_count": 54,
      "outputs": [
        {
          "output_type": "stream",
          "name": "stdout",
          "text": [
            "WARNING:tensorflow:6 out of the last 6 calls to <function Model.make_predict_function.<locals>.predict_function at 0x7efc9c413b90> triggered tf.function retracing. Tracing is expensive and the excessive number of tracings could be due to (1) creating @tf.function repeatedly in a loop, (2) passing tensors with different shapes, (3) passing Python objects instead of tensors. For (1), please define your @tf.function outside of the loop. For (2), @tf.function has experimental_relax_shapes=True option that relaxes argument shapes that can avoid unnecessary retracing. For (3), please refer to https://www.tensorflow.org/guide/function#controlling_retracing and https://www.tensorflow.org/api_docs/python/tf/function for  more details.\n"
          ]
        },
        {
          "output_type": "display_data",
          "data": {
            "text/plain": [
              "<Figure size 720x504 with 1 Axes>"
            ],
            "image/png": "[encoded data removed]"
          },
          "metadata": {
            "needs_background": "light"
          }
        }
      ]
    },
    {
      "cell_type": "code",
      "source": [
        "mae_2 = mae(y_test, y_preds_2)\n",
        "mse_2 = mse(y_test, y_preds_2)\n",
        "mae_2, mse_2"
      ],
      "metadata": {
        "colab": {
          "base_uri": "https://localhost:8080/"
        },
        "id": "qKG5199XUDkQ",
        "outputId": "d9a5dbc9-603c-45ff-c1d0-0440c7ff9f69"
      },
      "execution_count": 55,
      "outputs": [
        {
          "output_type": "execute_result",
          "data": {
            "text/plain": [
              "(<tf.Tensor: shape=(), dtype=float32, numpy=3.1969407>,\n",
              " <tf.Tensor: shape=(), dtype=float32, numpy=13.070143>)"
            ]
          },
          "metadata": {},
          "execution_count": 55
        }
      ]
    },
    {
      "cell_type": "markdown",
      "source": [
        "**Build `model_3`**\n",
        "\n",
        "- 2 layers trained for 500 epochs"
      ],
      "metadata": {
        "id": "SbpC1iLyUM8_"
      }
    },
    {
      "cell_type": "code",
      "source": [
        "# Set random seed\n",
        "tf.random.set_seed(42)\n",
        "\n",
        "# Crete the model\n",
        "model_3 = tf.keras.Sequential([\n",
        "          tf.keras.layers.Dense(10),\n",
        "          tf.keras.layers.Dense(1)\n",
        "])\n",
        "\n",
        "#2. Compile the model\n",
        "model_3.compile(loss = tf.keras.losses.mae,\n",
        "              optimizer = tf.keras.optimizers.SGD(),\n",
        "              metrics = [\"mae\"])\n",
        "\n",
        "#3. Fit the model\n",
        "model_3.fit(tf.expand_dims(X_train, axis = -1), y_train, epochs = 500, verbose = 0)"
      ],
      "metadata": {
        "colab": {
          "base_uri": "https://localhost:8080/"
        },
        "id": "UE6qY93UUd9b",
        "outputId": "1ee93ea3-c65c-47bd-db57-54dcb7c1bb8f"
      },
      "execution_count": 56,
      "outputs": [
        {
          "output_type": "execute_result",
          "data": {
            "text/plain": [
              "<keras.callbacks.History at 0x7efca1b0f910>"
            ]
          },
          "metadata": {},
          "execution_count": 56
        }
      ]
    },
    {
      "cell_type": "code",
      "source": [
        "# Make and plot some preidctions\n",
        "y_preds_3 = model_3.predict(X_test)\n",
        "plot_predictions(predictions = y_preds_3)"
      ],
      "metadata": {
        "colab": {
          "base_uri": "https://localhost:8080/",
          "height": 428
        },
        "id": "jXWiMVdwVHfH",
        "outputId": "10ba49d8-1a25-4713-bcc8-a4b22e31f324"
      },
      "execution_count": 57,
      "outputs": [
        {
          "output_type": "display_data",
          "data": {
            "text/plain": [
              "<Figure size 720x504 with 1 Axes>"
            ],
            "image/png": "[encoded data removed]"
          },
          "metadata": {
            "needs_background": "light"
          }
        }
      ]
    },
    {
      "cell_type": "code",
      "source": [
        "# Calculate the evaluation metrics\n",
        "mae_3 = mae(y_test, y_preds_3)\n",
        "mse_3 = mse(y_test, y_preds_3)\n",
        "mae_3, mse_3"
      ],
      "metadata": {
        "colab": {
          "base_uri": "https://localhost:8080/"
        },
        "id": "mZb6O7l6Vee7",
        "outputId": "d180a9f4-ad8e-45b9-de85-c29eccc9361b"
      },
      "execution_count": 58,
      "outputs": [
        {
          "output_type": "execute_result",
          "data": {
            "text/plain": [
              "(<tf.Tensor: shape=(), dtype=float32, numpy=68.713615>,\n",
              " <tf.Tensor: shape=(), dtype=float32, numpy=4808.0273>)"
            ]
          },
          "metadata": {},
          "execution_count": 58
        }
      ]
    },
    {
      "cell_type": "markdown",
      "source": [
        "# Comparing the results of our experiments"
      ],
      "metadata": {
        "id": "6p6Ynn5PVtL8"
      }
    },
    {
      "cell_type": "code",
      "source": [
        "import pandas as pd\n",
        "\n",
        "models = [[\"model_1\", mae_1.numpy(), mse_1.numpy()],\n",
        "          [\"model_2\", mae_2.numpy(), mse_2.numpy()],\n",
        "          [\"model_3\", mae_3.numpy(), mse_3.numpy()]]\n",
        "\n",
        "all_models = pd.DataFrame(models, columns = [\"models\", \"mae\", \"mse\"])\n",
        "all_models"
      ],
      "metadata": {
        "colab": {
          "base_uri": "https://localhost:8080/",
          "height": 143
        },
        "id": "MscL--m4V1V8",
        "outputId": "a1935ae2-850d-408f-d696-769cfc3fa289"
      },
      "execution_count": 59,
      "outputs": [
        {
          "output_type": "execute_result",
          "data": {
            "text/plain": [
              "    models        mae          mse\n",
              "0  model_1  18.745327   353.573364\n",
              "1  model_2   3.196941    13.070143\n",
              "2  model_3  68.713615  4808.027344"
            ],
            "text/html": [
              "\n",
              "  <div id=\"df-9124f0cb-deda-4b3e-bd9e-501507c6d8e7\">\n",
              "    <div class=\"colab-df-container\">\n",
              "      <div>\n",
              "<style scoped>\n",
              "    .dataframe tbody tr th:only-of-type {\n",
              "        vertical-align: middle;\n",
              "    }\n",
              "\n",
              "    .dataframe tbody tr th {\n",
              "        vertical-align: top;\n",
              "    }\n",
              "\n",
              "    .dataframe thead th {\n",
              "        text-align: right;\n",
              "    }\n",
              "</style>\n",
              "<table border=\"1\" class=\"dataframe\">\n",
              "  <thead>\n",
              "    <tr style=\"text-align: right;\">\n",
              "      <th></th>\n",
              "      <th>models</th>\n",
              "      <th>mae</th>\n",
              "      <th>mse</th>\n",
              "    </tr>\n",
              "  </thead>\n",
              "  <tbody>\n",
              "    <tr>\n",
              "      <th>0</th>\n",
              "      <td>model_1</td>\n",
              "      <td>18.745327</td>\n",
              "      <td>353.573364</td>\n",
              "    </tr>\n",
              "    <tr>\n",
              "      <th>1</th>\n",
              "      <td>model_2</td>\n",
              "      <td>3.196941</td>\n",
              "      <td>13.070143</td>\n",
              "    </tr>\n",
              "    <tr>\n",
              "      <th>2</th>\n",
              "      <td>model_3</td>\n",
              "      <td>68.713615</td>\n",
              "      <td>4808.027344</td>\n",
              "    </tr>\n",
              "  </tbody>\n",
              "</table>\n",
              "</div>\n",
              "      <button class=\"colab-df-convert\" onclick=\"convertToInteractive('df-9124f0cb-deda-4b3e-bd9e-501507c6d8e7')\"\n",
              "              title=\"Convert this dataframe to an interactive table.\"\n",
              "              style=\"display:none;\">\n",
              "        \n",
              "  <svg xmlns=\"http://www.w3.org/2000/svg\" height=\"24px\"viewBox=\"0 0 24 24\"\n",
              "       width=\"24px\">\n",
              "    <path d=\"M0 0h24v24H0V0z\" fill=\"none\"/>\n",
              "    <path d=\"M18.56 5.44l.94 2.06.94-2.06 2.06-.94-2.06-.94-.94-2.06-.94 2.06-2.06.94zm-11 1L8.5 8.5l.94-2.06 2.06-.94-2.06-.94L8.5 2.5l-.94 2.06-2.06.94zm10 10l.94 2.06.94-2.06 2.06-.94-2.06-.94-.94-2.06-.94 2.06-2.06.94z\"/><path d=\"M17.41 7.96l-1.37-1.37c-.4-.4-.92-.59-1.43-.59-.52 0-1.04.2-1.43.59L10.3 9.45l-7.72 7.72c-.78.78-.78 2.05 0 2.83L4 21.41c.39.39.9.59 1.41.59.51 0 1.02-.2 1.41-.59l7.78-7.78 2.81-2.81c.8-.78.8-2.07 0-2.86zM5.41 20L4 18.59l7.72-7.72 1.47 1.35L5.41 20z\"/>\n",
              "  </svg>\n",
              "      </button>\n",
              "      \n",
              "  <style>\n",
              "    .colab-df-container {\n",
              "      display:flex;\n",
              "      flex-wrap:wrap;\n",
              "      gap: 12px;\n",
              "    }\n",
              "\n",
              "    .colab-df-convert {\n",
              "      background-color: #E8F0FE;\n",
              "      border: none;\n",
              "      border-radius: 50%;\n",
              "      cursor: pointer;\n",
              "      display: none;\n",
              "      fill: #1967D2;\n",
              "      height: 32px;\n",
              "      padding: 0 0 0 0;\n",
              "      width: 32px;\n",
              "    }\n",
              "\n",
              "    .colab-df-convert:hover {\n",
              "      background-color: #E2EBFA;\n",
              "      box-shadow: 0px 1px 2px rgba(60, 64, 67, 0.3), 0px 1px 3px 1px rgba(60, 64, 67, 0.15);\n",
              "      fill: #174EA6;\n",
              "    }\n",
              "\n",
              "    [theme=dark] .colab-df-convert {\n",
              "      background-color: #3B4455;\n",
              "      fill: #D2E3FC;\n",
              "    }\n",
              "\n",
              "    [theme=dark] .colab-df-convert:hover {\n",
              "      background-color: #434B5C;\n",
              "      box-shadow: 0px 1px 3px 1px rgba(0, 0, 0, 0.15);\n",
              "      filter: drop-shadow(0px 1px 2px rgba(0, 0, 0, 0.3));\n",
              "      fill: #FFFFFF;\n",
              "    }\n",
              "  </style>\n",
              "\n",
              "      <script>\n",
              "        const buttonEl =\n",
              "          document.querySelector('#df-9124f0cb-deda-4b3e-bd9e-501507c6d8e7 button.colab-df-convert');\n",
              "        buttonEl.style.display =\n",
              "          google.colab.kernel.accessAllowed ? 'block' : 'none';\n",
              "\n",
              "        async function convertToInteractive(key) {\n",
              "          const element = document.querySelector('#df-9124f0cb-deda-4b3e-bd9e-501507c6d8e7');\n",
              "          const dataTable =\n",
              "            await google.colab.kernel.invokeFunction('convertToInteractive',\n",
              "                                                     [key], {});\n",
              "          if (!dataTable) return;\n",
              "\n",
              "          const docLinkHtml = 'Like what you see? Visit the ' +\n",
              "            '<a target=\"_blank\" href=https://colab.research.google.com/notebooks/data_table.ipynb>data table notebook</a>'\n",
              "            + ' to learn more about interactive tables.';\n",
              "          element.innerHTML = '';\n",
              "          dataTable['output_type'] = 'display_data';\n",
              "          await google.colab.output.renderOutput(dataTable, element);\n",
              "          const docLink = document.createElement('div');\n",
              "          docLink.innerHTML = docLinkHtml;\n",
              "          element.appendChild(docLink);\n",
              "        }\n",
              "      </script>\n",
              "    </div>\n",
              "  </div>\n",
              "  "
            ]
          },
          "metadata": {},
          "execution_count": 59
        }
      ]
    },
    {
      "cell_type": "markdown",
      "source": [
        "Looks like model_2 performed the best...."
      ],
      "metadata": {
        "id": "ATAqPqkmZ1MB"
      }
    },
    {
      "cell_type": "code",
      "source": [
        "model_2.summary()"
      ],
      "metadata": {
        "colab": {
          "base_uri": "https://localhost:8080/"
        },
        "id": "XK-39FMpZQo7",
        "outputId": "40f25c32-e2b5-4b60-ec25-f937c81bc8bd"
      },
      "execution_count": 60,
      "outputs": [
        {
          "output_type": "stream",
          "name": "stdout",
          "text": [
            "Model: \"sequential_5\"\n",
            "_________________________________________________________________\n",
            " Layer (type)                Output Shape              Param #   \n",
            "=================================================================\n",
            " dense_7 (Dense)             (None, 10)                20        \n",
            "                                                                 \n",
            " dense_8 (Dense)             (None, 1)                 11        \n",
            "                                                                 \n",
            "=================================================================\n",
            "Total params: 31\n",
            "Trainable params: 31\n",
            "Non-trainable params: 0\n",
            "_________________________________________________________________\n"
          ]
        }
      ]
    },
    {
      "cell_type": "markdown",
      "source": [
        "> 🔑 **Note** : One of our moto should be to minimize the time between your experiments. The more experiments you do, more things you'll figure out which don't work and in turn, get closer to figuring out what does..\n",
        "As a ML practitioner -> \"EXPERIMENT, EXPERIMENT, EXPERIMENT\"."
      ],
      "metadata": {
        "id": "wkLPPAP7Zplz"
      }
    },
    {
      "cell_type": "markdown",
      "source": [
        "# Tracking your Experiments - \n",
        "\n",
        "One really good habit in mchine learning modelling is to track the results of your experiments.\n",
        "\n",
        "And when doing so, it can be tedious if you're running lots of experiments.\n",
        "\n",
        "Luckily, there are tools to help us!\n",
        "\n",
        "* **`TensorBoard`** - component of tensorflow library to help track modelling experiments..\n",
        "\n",
        "* **`Weights & Biases`** - a tool to track all kinds of ml experiments.\n"
      ],
      "metadata": {
        "id": "ZbInrtkdawj0"
      }
    },
    {
      "cell_type": "markdown",
      "source": [
        "# Saving our model\n",
        "\n",
        "Two main formats - \n",
        "1. SavedModel Format\n",
        "2. HDF5 format"
      ],
      "metadata": {
        "id": "ASlszFGRcghE"
      }
    },
    {
      "cell_type": "code",
      "source": [
        "# Save model. using the SavedModel format\n",
        "model_2.save(\"best_model_SavedModel_format\")"
      ],
      "metadata": {
        "colab": {
          "base_uri": "https://localhost:8080/"
        },
        "id": "cnuw8Jh5c2eS",
        "outputId": "908968fb-eaae-4102-eec8-8cf0292c4b13"
      },
      "execution_count": 61,
      "outputs": [
        {
          "output_type": "stream",
          "name": "stdout",
          "text": [
            "INFO:tensorflow:Assets written to: best_model_SavedModel_format/assets\n"
          ]
        }
      ]
    },
    {
      "cell_type": "code",
      "source": [
        "# Save model using the HDF5 format\n",
        "model_2.save(\"best_model_HDF5_format.h5\")"
      ],
      "metadata": {
        "id": "oLeBflhIdtEq"
      },
      "execution_count": 62,
      "outputs": []
    },
    {
      "cell_type": "markdown",
      "source": [
        "## Loading in a Saved Model"
      ],
      "metadata": {
        "id": "5zsX_kFqeU3E"
      }
    },
    {
      "cell_type": "code",
      "source": [
        "# Load in SavedModel format model\n",
        "loded_SavedModel_format = tf.keras.models.load_model(\"/content/best_model_SavedModel_format\")\n",
        "loded_SavedModel_format.summary()"
      ],
      "metadata": {
        "colab": {
          "base_uri": "https://localhost:8080/"
        },
        "id": "vTmCz2lDDoC_",
        "outputId": "7f9fbd24-ccb5-4e37-c516-599f2c465e11"
      },
      "execution_count": 63,
      "outputs": [
        {
          "output_type": "stream",
          "name": "stdout",
          "text": [
            "Model: \"sequential_5\"\n",
            "_________________________________________________________________\n",
            " Layer (type)                Output Shape              Param #   \n",
            "=================================================================\n",
            " dense_7 (Dense)             (None, 10)                20        \n",
            "                                                                 \n",
            " dense_8 (Dense)             (None, 1)                 11        \n",
            "                                                                 \n",
            "=================================================================\n",
            "Total params: 31\n",
            "Trainable params: 31\n",
            "Non-trainable params: 0\n",
            "_________________________________________________________________\n"
          ]
        }
      ]
    },
    {
      "cell_type": "code",
      "source": [
        "model_2.summary()"
      ],
      "metadata": {
        "colab": {
          "base_uri": "https://localhost:8080/"
        },
        "id": "fmO6dqV9D-jU",
        "outputId": "70cbb879-e76d-4a49-912e-4efb8b2064c2"
      },
      "execution_count": 64,
      "outputs": [
        {
          "output_type": "stream",
          "name": "stdout",
          "text": [
            "Model: \"sequential_5\"\n",
            "_________________________________________________________________\n",
            " Layer (type)                Output Shape              Param #   \n",
            "=================================================================\n",
            " dense_7 (Dense)             (None, 10)                20        \n",
            "                                                                 \n",
            " dense_8 (Dense)             (None, 1)                 11        \n",
            "                                                                 \n",
            "=================================================================\n",
            "Total params: 31\n",
            "Trainable params: 31\n",
            "Non-trainable params: 0\n",
            "_________________________________________________________________\n"
          ]
        }
      ]
    },
    {
      "cell_type": "code",
      "source": [
        "# PRediction on SavedModel format\n",
        "savedModel_Format_preds = loded_SavedModel_format.predict(X_test)"
      ],
      "metadata": {
        "id": "nwZfF8vzEDKN"
      },
      "execution_count": 65,
      "outputs": []
    },
    {
      "cell_type": "code",
      "source": [
        "# Prediction on \n",
        "model_2_preds = model_2.predict(X_test)"
      ],
      "metadata": {
        "id": "-WK4uSq_ENJp"
      },
      "execution_count": 66,
      "outputs": []
    },
    {
      "cell_type": "code",
      "source": [
        "mae(y_test, y_pred = savedModel_Format_preds)"
      ],
      "metadata": {
        "colab": {
          "base_uri": "https://localhost:8080/"
        },
        "id": "RyuVMUM8EQMu",
        "outputId": "3bf5114d-ce74-409f-a6b8-b11343fb0608"
      },
      "execution_count": 67,
      "outputs": [
        {
          "output_type": "execute_result",
          "data": {
            "text/plain": [
              "<tf.Tensor: shape=(), dtype=float32, numpy=3.1969407>"
            ]
          },
          "metadata": {},
          "execution_count": 67
        }
      ]
    },
    {
      "cell_type": "code",
      "source": [
        "mae(y_test, y_pred = model_2_preds)"
      ],
      "metadata": {
        "colab": {
          "base_uri": "https://localhost:8080/"
        },
        "id": "93IdsUq9FAdH",
        "outputId": "22ddb8c0-5a6f-49ac-93d4-271c5aa65b38"
      },
      "execution_count": 68,
      "outputs": [
        {
          "output_type": "execute_result",
          "data": {
            "text/plain": [
              "<tf.Tensor: shape=(), dtype=float32, numpy=3.1969407>"
            ]
          },
          "metadata": {},
          "execution_count": 68
        }
      ]
    },
    {
      "cell_type": "code",
      "source": [
        "# Load in Model using h5 format\n",
        "loaded_h5_model = tf.keras.models.load_model(\"/content/best_model_HDF5_format.h5\")\n",
        "loaded_h5_model.summary()"
      ],
      "metadata": {
        "colab": {
          "base_uri": "https://localhost:8080/"
        },
        "id": "vGdB2Hx7FFS4",
        "outputId": "447ea52e-93bf-4be6-bd0d-7c2d54897003"
      },
      "execution_count": 69,
      "outputs": [
        {
          "output_type": "stream",
          "name": "stdout",
          "text": [
            "Model: \"sequential_5\"\n",
            "_________________________________________________________________\n",
            " Layer (type)                Output Shape              Param #   \n",
            "=================================================================\n",
            " dense_7 (Dense)             (None, 10)                20        \n",
            "                                                                 \n",
            " dense_8 (Dense)             (None, 1)                 11        \n",
            "                                                                 \n",
            "=================================================================\n",
            "Total params: 31\n",
            "Trainable params: 31\n",
            "Non-trainable params: 0\n",
            "_________________________________________________________________\n"
          ]
        }
      ]
    },
    {
      "cell_type": "code",
      "source": [
        "# Check to see if h5 model format matches model_2\n",
        "model_2_preds = model_2.predict(X_test)\n",
        "loaded_h5_model_preds = loaded_h5_model.predict(X_test)\n",
        "model_2_preds == loaded_h5_model_preds"
      ],
      "metadata": {
        "colab": {
          "base_uri": "https://localhost:8080/"
        },
        "id": "b6780-aqFUjn",
        "outputId": "8a2f8deb-0dc8-453b-ef3a-5381b6c8212d"
      },
      "execution_count": 70,
      "outputs": [
        {
          "output_type": "execute_result",
          "data": {
            "text/plain": [
              "array([[ True],\n",
              "       [ True],\n",
              "       [ True],\n",
              "       [ True],\n",
              "       [ True],\n",
              "       [ True],\n",
              "       [ True],\n",
              "       [ True],\n",
              "       [ True],\n",
              "       [ True]])"
            ]
          },
          "metadata": {},
          "execution_count": 70
        }
      ]
    },
    {
      "cell_type": "markdown",
      "source": [
        "# Download a model (or any other file) from Google Colab\n",
        "\n",
        "1. \n",
        "\n",
        "3. Save it to google drive by connecting google drive and copying it there."
      ],
      "metadata": {
        "id": "029qEuhyFpqN"
      }
    },
    {
      "cell_type": "code",
      "source": [
        "from google.colab import files\n",
        "\n",
        "files.download(\"/content/best_model_HDF5_format.h5\")"
      ],
      "metadata": {
        "colab": {
          "base_uri": "https://localhost:8080/",
          "height": 34
        },
        "id": "7dpw8811GIXl",
        "outputId": "57034548-2477-4238-a982-c67164f1f2a6"
      },
      "execution_count": 71,
      "outputs": [
        {
          "output_type": "display_data",
          "data": {
            "text/plain": [
              "<IPython.core.display.Javascript object>"
            ],
            "application/javascript": [
              "\n",
              "    async function download(id, filename, size) {\n",
              "      if (!google.colab.kernel.accessAllowed) {\n",
              "        return;\n",
              "      }\n",
              "      const div = document.createElement('div');\n",
              "      const label = document.createElement('label');\n",
              "      label.textContent = `Downloading \"${filename}\": `;\n",
              "      div.appendChild(label);\n",
              "      const progress = document.createElement('progress');\n",
              "      progress.max = size;\n",
              "      div.appendChild(progress);\n",
              "      document.body.appendChild(div);\n",
              "\n",
              "      const buffers = [];\n",
              "      let downloaded = 0;\n",
              "\n",
              "      const channel = await google.colab.kernel.comms.open(id);\n",
              "      // Send a message to notify the kernel that we're ready.\n",
              "      channel.send({})\n",
              "\n",
              "      for await (const message of channel.messages) {\n",
              "        // Send a message to notify the kernel that we're ready.\n",
              "        channel.send({})\n",
              "        if (message.buffers) {\n",
              "          for (const buffer of message.buffers) {\n",
              "            buffers.push(buffer);\n",
              "            downloaded += buffer.byteLength;\n",
              "            progress.value = downloaded;\n",
              "          }\n",
              "        }\n",
              "      }\n",
              "      const blob = new Blob(buffers, {type: 'application/binary'});\n",
              "      const a = document.createElement('a');\n",
              "      a.href = window.URL.createObjectURL(blob);\n",
              "      a.download = filename;\n",
              "      div.appendChild(a);\n",
              "      a.click();\n",
              "      div.remove();\n",
              "    }\n",
              "  "
            ]
          },
          "metadata": {}
        },
        {
          "output_type": "display_data",
          "data": {
            "text/plain": [
              "<IPython.core.display.Javascript object>"
            ],
            "application/javascript": [
              "download(\"download_4f9e4d06-ffc0-497a-bcec-76c1fa8a8cfa\", \"best_model_HDF5_format.h5\", 17872)"
            ]
          },
          "metadata": {}
        }
      ]
    },
    {
      "cell_type": "code",
      "source": [
        "# Save a file from colab to drive (requires mounting of drive)\n",
        "\n",
        "!cp /content/best_model_HDF5_format.h5 /content/drive/MyDrive/TensorFlow_Bootcamp"
      ],
      "metadata": {
        "id": "ZWOaS-c1GkfC"
      },
      "execution_count": 72,
      "outputs": []
    },
    {
      "cell_type": "markdown",
      "source": [
        "# A larger example"
      ],
      "metadata": {
        "id": "OAZ5RPplHQSZ"
      }
    },
    {
      "cell_type": "code",
      "source": [
        "import numpy as np\n",
        "import pandas as pd\n",
        "import matplotlib.pyplot as plt\n",
        "import tensorflow as tf"
      ],
      "metadata": {
        "id": "ebI6rqkIHWrg"
      },
      "execution_count": 73,
      "outputs": []
    },
    {
      "cell_type": "code",
      "source": [
        "insurance = pd.read_csv(\"https://raw.githubusercontent.com/stedy/Machine-Learning-with-R-datasets/master/insurance.csv\")\n",
        "insurance"
      ],
      "metadata": {
        "colab": {
          "base_uri": "https://localhost:8080/",
          "height": 424
        },
        "id": "NS8udK7-IQ7T",
        "outputId": "490bb33a-3471-468f-e5e3-e2e1c2d7c483"
      },
      "execution_count": 74,
      "outputs": [
        {
          "output_type": "execute_result",
          "data": {
            "text/plain": [
              "      age     sex     bmi  children smoker     region      charges\n",
              "0      19  female  27.900         0    yes  southwest  16884.92400\n",
              "1      18    male  33.770         1     no  southeast   1725.55230\n",
              "2      28    male  33.000         3     no  southeast   4449.46200\n",
              "3      33    male  22.705         0     no  northwest  21984.47061\n",
              "4      32    male  28.880         0     no  northwest   3866.85520\n",
              "...   ...     ...     ...       ...    ...        ...          ...\n",
              "1333   50    male  30.970         3     no  northwest  10600.54830\n",
              "1334   18  female  31.920         0     no  northeast   2205.98080\n",
              "1335   18  female  36.850         0     no  southeast   1629.83350\n",
              "1336   21  female  25.800         0     no  southwest   2007.94500\n",
              "1337   61  female  29.070         0    yes  northwest  29141.36030\n",
              "\n",
              "[1338 rows x 7 columns]"
            ],
            "text/html": [
              "\n",
              "  <div id=\"df-ad59b093-f01f-4973-a34c-819c880d89b0\">\n",
              "    <div class=\"colab-df-container\">\n",
              "      <div>\n",
              "<style scoped>\n",
              "    .dataframe tbody tr th:only-of-type {\n",
              "        vertical-align: middle;\n",
              "    }\n",
              "\n",
              "    .dataframe tbody tr th {\n",
              "        vertical-align: top;\n",
              "    }\n",
              "\n",
              "    .dataframe thead th {\n",
              "        text-align: right;\n",
              "    }\n",
              "</style>\n",
              "<table border=\"1\" class=\"dataframe\">\n",
              "  <thead>\n",
              "    <tr style=\"text-align: right;\">\n",
              "      <th></th>\n",
              "      <th>age</th>\n",
              "      <th>sex</th>\n",
              "      <th>bmi</th>\n",
              "      <th>children</th>\n",
              "      <th>smoker</th>\n",
              "      <th>region</th>\n",
              "      <th>charges</th>\n",
              "    </tr>\n",
              "  </thead>\n",
              "  <tbody>\n",
              "    <tr>\n",
              "      <th>0</th>\n",
              "      <td>19</td>\n",
              "      <td>female</td>\n",
              "      <td>27.900</td>\n",
              "      <td>0</td>\n",
              "      <td>yes</td>\n",
              "      <td>southwest</td>\n",
              "      <td>16884.92400</td>\n",
              "    </tr>\n",
              "    <tr>\n",
              "      <th>1</th>\n",
              "      <td>18</td>\n",
              "      <td>male</td>\n",
              "      <td>33.770</td>\n",
              "      <td>1</td>\n",
              "      <td>no</td>\n",
              "      <td>southeast</td>\n",
              "      <td>1725.55230</td>\n",
              "    </tr>\n",
              "    <tr>\n",
              "      <th>2</th>\n",
              "      <td>28</td>\n",
              "      <td>male</td>\n",
              "      <td>33.000</td>\n",
              "      <td>3</td>\n",
              "      <td>no</td>\n",
              "      <td>southeast</td>\n",
              "      <td>4449.46200</td>\n",
              "    </tr>\n",
              "    <tr>\n",
              "      <th>3</th>\n",
              "      <td>33</td>\n",
              "      <td>male</td>\n",
              "      <td>22.705</td>\n",
              "      <td>0</td>\n",
              "      <td>no</td>\n",
              "      <td>northwest</td>\n",
              "      <td>21984.47061</td>\n",
              "    </tr>\n",
              "    <tr>\n",
              "      <th>4</th>\n",
              "      <td>32</td>\n",
              "      <td>male</td>\n",
              "      <td>28.880</td>\n",
              "      <td>0</td>\n",
              "      <td>no</td>\n",
              "      <td>northwest</td>\n",
              "      <td>3866.85520</td>\n",
              "    </tr>\n",
              "    <tr>\n",
              "      <th>...</th>\n",
              "      <td>...</td>\n",
              "      <td>...</td>\n",
              "      <td>...</td>\n",
              "      <td>...</td>\n",
              "      <td>...</td>\n",
              "      <td>...</td>\n",
              "      <td>...</td>\n",
              "    </tr>\n",
              "    <tr>\n",
              "      <th>1333</th>\n",
              "      <td>50</td>\n",
              "      <td>male</td>\n",
              "      <td>30.970</td>\n",
              "      <td>3</td>\n",
              "      <td>no</td>\n",
              "      <td>northwest</td>\n",
              "      <td>10600.54830</td>\n",
              "    </tr>\n",
              "    <tr>\n",
              "      <th>1334</th>\n",
              "      <td>18</td>\n",
              "      <td>female</td>\n",
              "      <td>31.920</td>\n",
              "      <td>0</td>\n",
              "      <td>no</td>\n",
              "      <td>northeast</td>\n",
              "      <td>2205.98080</td>\n",
              "    </tr>\n",
              "    <tr>\n",
              "      <th>1335</th>\n",
              "      <td>18</td>\n",
              "      <td>female</td>\n",
              "      <td>36.850</td>\n",
              "      <td>0</td>\n",
              "      <td>no</td>\n",
              "      <td>southeast</td>\n",
              "      <td>1629.83350</td>\n",
              "    </tr>\n",
              "    <tr>\n",
              "      <th>1336</th>\n",
              "      <td>21</td>\n",
              "      <td>female</td>\n",
              "      <td>25.800</td>\n",
              "      <td>0</td>\n",
              "      <td>no</td>\n",
              "      <td>southwest</td>\n",
              "      <td>2007.94500</td>\n",
              "    </tr>\n",
              "    <tr>\n",
              "      <th>1337</th>\n",
              "      <td>61</td>\n",
              "      <td>female</td>\n",
              "      <td>29.070</td>\n",
              "      <td>0</td>\n",
              "      <td>yes</td>\n",
              "      <td>northwest</td>\n",
              "      <td>29141.36030</td>\n",
              "    </tr>\n",
              "  </tbody>\n",
              "</table>\n",
              "<p>1338 rows × 7 columns</p>\n",
              "</div>\n",
              "      <button class=\"colab-df-convert\" onclick=\"convertToInteractive('df-ad59b093-f01f-4973-a34c-819c880d89b0')\"\n",
              "              title=\"Convert this dataframe to an interactive table.\"\n",
              "              style=\"display:none;\">\n",
              "        \n",
              "  <svg xmlns=\"http://www.w3.org/2000/svg\" height=\"24px\"viewBox=\"0 0 24 24\"\n",
              "       width=\"24px\">\n",
              "    <path d=\"M0 0h24v24H0V0z\" fill=\"none\"/>\n",
              "    <path d=\"M18.56 5.44l.94 2.06.94-2.06 2.06-.94-2.06-.94-.94-2.06-.94 2.06-2.06.94zm-11 1L8.5 8.5l.94-2.06 2.06-.94-2.06-.94L8.5 2.5l-.94 2.06-2.06.94zm10 10l.94 2.06.94-2.06 2.06-.94-2.06-.94-.94-2.06-.94 2.06-2.06.94z\"/><path d=\"M17.41 7.96l-1.37-1.37c-.4-.4-.92-.59-1.43-.59-.52 0-1.04.2-1.43.59L10.3 9.45l-7.72 7.72c-.78.78-.78 2.05 0 2.83L4 21.41c.39.39.9.59 1.41.59.51 0 1.02-.2 1.41-.59l7.78-7.78 2.81-2.81c.8-.78.8-2.07 0-2.86zM5.41 20L4 18.59l7.72-7.72 1.47 1.35L5.41 20z\"/>\n",
              "  </svg>\n",
              "      </button>\n",
              "      \n",
              "  <style>\n",
              "    .colab-df-container {\n",
              "      display:flex;\n",
              "      flex-wrap:wrap;\n",
              "      gap: 12px;\n",
              "    }\n",
              "\n",
              "    .colab-df-convert {\n",
              "      background-color: #E8F0FE;\n",
              "      border: none;\n",
              "      border-radius: 50%;\n",
              "      cursor: pointer;\n",
              "      display: none;\n",
              "      fill: #1967D2;\n",
              "      height: 32px;\n",
              "      padding: 0 0 0 0;\n",
              "      width: 32px;\n",
              "    }\n",
              "\n",
              "    .colab-df-convert:hover {\n",
              "      background-color: #E2EBFA;\n",
              "      box-shadow: 0px 1px 2px rgba(60, 64, 67, 0.3), 0px 1px 3px 1px rgba(60, 64, 67, 0.15);\n",
              "      fill: #174EA6;\n",
              "    }\n",
              "\n",
              "    [theme=dark] .colab-df-convert {\n",
              "      background-color: #3B4455;\n",
              "      fill: #D2E3FC;\n",
              "    }\n",
              "\n",
              "    [theme=dark] .colab-df-convert:hover {\n",
              "      background-color: #434B5C;\n",
              "      box-shadow: 0px 1px 3px 1px rgba(0, 0, 0, 0.15);\n",
              "      filter: drop-shadow(0px 1px 2px rgba(0, 0, 0, 0.3));\n",
              "      fill: #FFFFFF;\n",
              "    }\n",
              "  </style>\n",
              "\n",
              "      <script>\n",
              "        const buttonEl =\n",
              "          document.querySelector('#df-ad59b093-f01f-4973-a34c-819c880d89b0 button.colab-df-convert');\n",
              "        buttonEl.style.display =\n",
              "          google.colab.kernel.accessAllowed ? 'block' : 'none';\n",
              "\n",
              "        async function convertToInteractive(key) {\n",
              "          const element = document.querySelector('#df-ad59b093-f01f-4973-a34c-819c880d89b0');\n",
              "          const dataTable =\n",
              "            await google.colab.kernel.invokeFunction('convertToInteractive',\n",
              "                                                     [key], {});\n",
              "          if (!dataTable) return;\n",
              "\n",
              "          const docLinkHtml = 'Like what you see? Visit the ' +\n",
              "            '<a target=\"_blank\" href=https://colab.research.google.com/notebooks/data_table.ipynb>data table notebook</a>'\n",
              "            + ' to learn more about interactive tables.';\n",
              "          element.innerHTML = '';\n",
              "          dataTable['output_type'] = 'display_data';\n",
              "          await google.colab.output.renderOutput(dataTable, element);\n",
              "          const docLink = document.createElement('div');\n",
              "          docLink.innerHTML = docLinkHtml;\n",
              "          element.appendChild(docLink);\n",
              "        }\n",
              "      </script>\n",
              "    </div>\n",
              "  </div>\n",
              "  "
            ]
          },
          "metadata": {},
          "execution_count": 74
        }
      ]
    },
    {
      "cell_type": "code",
      "source": [
        "insurance.describe()"
      ],
      "metadata": {
        "colab": {
          "base_uri": "https://localhost:8080/",
          "height": 300
        },
        "id": "XHXOACHtIbQy",
        "outputId": "9e26d5ee-8c18-4b49-e772-0d21ef95aa7c"
      },
      "execution_count": 75,
      "outputs": [
        {
          "output_type": "execute_result",
          "data": {
            "text/plain": [
              "               age          bmi     children       charges\n",
              "count  1338.000000  1338.000000  1338.000000   1338.000000\n",
              "mean     39.207025    30.663397     1.094918  13270.422265\n",
              "std      14.049960     6.098187     1.205493  12110.011237\n",
              "min      18.000000    15.960000     0.000000   1121.873900\n",
              "25%      27.000000    26.296250     0.000000   4740.287150\n",
              "50%      39.000000    30.400000     1.000000   9382.033000\n",
              "75%      51.000000    34.693750     2.000000  16639.912515\n",
              "max      64.000000    53.130000     5.000000  63770.428010"
            ],
            "text/html": [
              "\n",
              "  <div id=\"df-67545a6c-e3be-4ec0-8b33-335fbfca73ca\">\n",
              "    <div class=\"colab-df-container\">\n",
              "      <div>\n",
              "<style scoped>\n",
              "    .dataframe tbody tr th:only-of-type {\n",
              "        vertical-align: middle;\n",
              "    }\n",
              "\n",
              "    .dataframe tbody tr th {\n",
              "        vertical-align: top;\n",
              "    }\n",
              "\n",
              "    .dataframe thead th {\n",
              "        text-align: right;\n",
              "    }\n",
              "</style>\n",
              "<table border=\"1\" class=\"dataframe\">\n",
              "  <thead>\n",
              "    <tr style=\"text-align: right;\">\n",
              "      <th></th>\n",
              "      <th>age</th>\n",
              "      <th>bmi</th>\n",
              "      <th>children</th>\n",
              "      <th>charges</th>\n",
              "    </tr>\n",
              "  </thead>\n",
              "  <tbody>\n",
              "    <tr>\n",
              "      <th>count</th>\n",
              "      <td>1338.000000</td>\n",
              "      <td>1338.000000</td>\n",
              "      <td>1338.000000</td>\n",
              "      <td>1338.000000</td>\n",
              "    </tr>\n",
              "    <tr>\n",
              "      <th>mean</th>\n",
              "      <td>39.207025</td>\n",
              "      <td>30.663397</td>\n",
              "      <td>1.094918</td>\n",
              "      <td>13270.422265</td>\n",
              "    </tr>\n",
              "    <tr>\n",
              "      <th>std</th>\n",
              "      <td>14.049960</td>\n",
              "      <td>6.098187</td>\n",
              "      <td>1.205493</td>\n",
              "      <td>12110.011237</td>\n",
              "    </tr>\n",
              "    <tr>\n",
              "      <th>min</th>\n",
              "      <td>18.000000</td>\n",
              "      <td>15.960000</td>\n",
              "      <td>0.000000</td>\n",
              "      <td>1121.873900</td>\n",
              "    </tr>\n",
              "    <tr>\n",
              "      <th>25%</th>\n",
              "      <td>27.000000</td>\n",
              "      <td>26.296250</td>\n",
              "      <td>0.000000</td>\n",
              "      <td>4740.287150</td>\n",
              "    </tr>\n",
              "    <tr>\n",
              "      <th>50%</th>\n",
              "      <td>39.000000</td>\n",
              "      <td>30.400000</td>\n",
              "      <td>1.000000</td>\n",
              "      <td>9382.033000</td>\n",
              "    </tr>\n",
              "    <tr>\n",
              "      <th>75%</th>\n",
              "      <td>51.000000</td>\n",
              "      <td>34.693750</td>\n",
              "      <td>2.000000</td>\n",
              "      <td>16639.912515</td>\n",
              "    </tr>\n",
              "    <tr>\n",
              "      <th>max</th>\n",
              "      <td>64.000000</td>\n",
              "      <td>53.130000</td>\n",
              "      <td>5.000000</td>\n",
              "      <td>63770.428010</td>\n",
              "    </tr>\n",
              "  </tbody>\n",
              "</table>\n",
              "</div>\n",
              "      <button class=\"colab-df-convert\" onclick=\"convertToInteractive('df-67545a6c-e3be-4ec0-8b33-335fbfca73ca')\"\n",
              "              title=\"Convert this dataframe to an interactive table.\"\n",
              "              style=\"display:none;\">\n",
              "        \n",
              "  <svg xmlns=\"http://www.w3.org/2000/svg\" height=\"24px\"viewBox=\"0 0 24 24\"\n",
              "       width=\"24px\">\n",
              "    <path d=\"M0 0h24v24H0V0z\" fill=\"none\"/>\n",
              "    <path d=\"M18.56 5.44l.94 2.06.94-2.06 2.06-.94-2.06-.94-.94-2.06-.94 2.06-2.06.94zm-11 1L8.5 8.5l.94-2.06 2.06-.94-2.06-.94L8.5 2.5l-.94 2.06-2.06.94zm10 10l.94 2.06.94-2.06 2.06-.94-2.06-.94-.94-2.06-.94 2.06-2.06.94z\"/><path d=\"M17.41 7.96l-1.37-1.37c-.4-.4-.92-.59-1.43-.59-.52 0-1.04.2-1.43.59L10.3 9.45l-7.72 7.72c-.78.78-.78 2.05 0 2.83L4 21.41c.39.39.9.59 1.41.59.51 0 1.02-.2 1.41-.59l7.78-7.78 2.81-2.81c.8-.78.8-2.07 0-2.86zM5.41 20L4 18.59l7.72-7.72 1.47 1.35L5.41 20z\"/>\n",
              "  </svg>\n",
              "      </button>\n",
              "      \n",
              "  <style>\n",
              "    .colab-df-container {\n",
              "      display:flex;\n",
              "      flex-wrap:wrap;\n",
              "      gap: 12px;\n",
              "    }\n",
              "\n",
              "    .colab-df-convert {\n",
              "      background-color: #E8F0FE;\n",
              "      border: none;\n",
              "      border-radius: 50%;\n",
              "      cursor: pointer;\n",
              "      display: none;\n",
              "      fill: #1967D2;\n",
              "      height: 32px;\n",
              "      padding: 0 0 0 0;\n",
              "      width: 32px;\n",
              "    }\n",
              "\n",
              "    .colab-df-convert:hover {\n",
              "      background-color: #E2EBFA;\n",
              "      box-shadow: 0px 1px 2px rgba(60, 64, 67, 0.3), 0px 1px 3px 1px rgba(60, 64, 67, 0.15);\n",
              "      fill: #174EA6;\n",
              "    }\n",
              "\n",
              "    [theme=dark] .colab-df-convert {\n",
              "      background-color: #3B4455;\n",
              "      fill: #D2E3FC;\n",
              "    }\n",
              "\n",
              "    [theme=dark] .colab-df-convert:hover {\n",
              "      background-color: #434B5C;\n",
              "      box-shadow: 0px 1px 3px 1px rgba(0, 0, 0, 0.15);\n",
              "      filter: drop-shadow(0px 1px 2px rgba(0, 0, 0, 0.3));\n",
              "      fill: #FFFFFF;\n",
              "    }\n",
              "  </style>\n",
              "\n",
              "      <script>\n",
              "        const buttonEl =\n",
              "          document.querySelector('#df-67545a6c-e3be-4ec0-8b33-335fbfca73ca button.colab-df-convert');\n",
              "        buttonEl.style.display =\n",
              "          google.colab.kernel.accessAllowed ? 'block' : 'none';\n",
              "\n",
              "        async function convertToInteractive(key) {\n",
              "          const element = document.querySelector('#df-67545a6c-e3be-4ec0-8b33-335fbfca73ca');\n",
              "          const dataTable =\n",
              "            await google.colab.kernel.invokeFunction('convertToInteractive',\n",
              "                                                     [key], {});\n",
              "          if (!dataTable) return;\n",
              "\n",
              "          const docLinkHtml = 'Like what you see? Visit the ' +\n",
              "            '<a target=\"_blank\" href=https://colab.research.google.com/notebooks/data_table.ipynb>data table notebook</a>'\n",
              "            + ' to learn more about interactive tables.';\n",
              "          element.innerHTML = '';\n",
              "          dataTable['output_type'] = 'display_data';\n",
              "          await google.colab.output.renderOutput(dataTable, element);\n",
              "          const docLink = document.createElement('div');\n",
              "          docLink.innerHTML = docLinkHtml;\n",
              "          element.appendChild(docLink);\n",
              "        }\n",
              "      </script>\n",
              "    </div>\n",
              "  </div>\n",
              "  "
            ]
          },
          "metadata": {},
          "execution_count": 75
        }
      ]
    },
    {
      "cell_type": "code",
      "source": [
        "insurance.info()"
      ],
      "metadata": {
        "colab": {
          "base_uri": "https://localhost:8080/"
        },
        "id": "G7YEfd1mIjf8",
        "outputId": "079c4d71-8be5-49ae-c6ad-c79f543b9c21"
      },
      "execution_count": 76,
      "outputs": [
        {
          "output_type": "stream",
          "name": "stdout",
          "text": [
            "<class 'pandas.core.frame.DataFrame'>\n",
            "RangeIndex: 1338 entries, 0 to 1337\n",
            "Data columns (total 7 columns):\n",
            " #   Column    Non-Null Count  Dtype  \n",
            "---  ------    --------------  -----  \n",
            " 0   age       1338 non-null   int64  \n",
            " 1   sex       1338 non-null   object \n",
            " 2   bmi       1338 non-null   float64\n",
            " 3   children  1338 non-null   int64  \n",
            " 4   smoker    1338 non-null   object \n",
            " 5   region    1338 non-null   object \n",
            " 6   charges   1338 non-null   float64\n",
            "dtypes: float64(2), int64(2), object(3)\n",
            "memory usage: 73.3+ KB\n"
          ]
        }
      ]
    },
    {
      "cell_type": "code",
      "source": [
        "insurance_onehot = pd.get_dummies(insurance)\n",
        "insurance_onehot.head()"
      ],
      "metadata": {
        "colab": {
          "base_uri": "https://localhost:8080/",
          "height": 206
        },
        "id": "GPwmtgI2I7op",
        "outputId": "e8bf66db-c869-4901-f3e4-a89eff9f76ed"
      },
      "execution_count": 77,
      "outputs": [
        {
          "output_type": "execute_result",
          "data": {
            "text/plain": [
              "   age     bmi  children      charges  sex_female  sex_male  smoker_no  \\\n",
              "0   19  27.900         0  16884.92400           1         0          0   \n",
              "1   18  33.770         1   1725.55230           0         1          1   \n",
              "2   28  33.000         3   4449.46200           0         1          1   \n",
              "3   33  22.705         0  21984.47061           0         1          1   \n",
              "4   32  28.880         0   3866.85520           0         1          1   \n",
              "\n",
              "   smoker_yes  region_northeast  region_northwest  region_southeast  \\\n",
              "0           1                 0                 0                 0   \n",
              "1           0                 0                 0                 1   \n",
              "2           0                 0                 0                 1   \n",
              "3           0                 0                 1                 0   \n",
              "4           0                 0                 1                 0   \n",
              "\n",
              "   region_southwest  \n",
              "0                 1  \n",
              "1                 0  \n",
              "2                 0  \n",
              "3                 0  \n",
              "4                 0  "
            ],
            "text/html": [
              "\n",
              "  <div id=\"df-72c4ba0d-0e8d-4b1e-954f-9a1099ffb6fd\">\n",
              "    <div class=\"colab-df-container\">\n",
              "      <div>\n",
              "<style scoped>\n",
              "    .dataframe tbody tr th:only-of-type {\n",
              "        vertical-align: middle;\n",
              "    }\n",
              "\n",
              "    .dataframe tbody tr th {\n",
              "        vertical-align: top;\n",
              "    }\n",
              "\n",
              "    .dataframe thead th {\n",
              "        text-align: right;\n",
              "    }\n",
              "</style>\n",
              "<table border=\"1\" class=\"dataframe\">\n",
              "  <thead>\n",
              "    <tr style=\"text-align: right;\">\n",
              "      <th></th>\n",
              "      <th>age</th>\n",
              "      <th>bmi</th>\n",
              "      <th>children</th>\n",
              "      <th>charges</th>\n",
              "      <th>sex_female</th>\n",
              "      <th>sex_male</th>\n",
              "      <th>smoker_no</th>\n",
              "      <th>smoker_yes</th>\n",
              "      <th>region_northeast</th>\n",
              "      <th>region_northwest</th>\n",
              "      <th>region_southeast</th>\n",
              "      <th>region_southwest</th>\n",
              "    </tr>\n",
              "  </thead>\n",
              "  <tbody>\n",
              "    <tr>\n",
              "      <th>0</th>\n",
              "      <td>19</td>\n",
              "      <td>27.900</td>\n",
              "      <td>0</td>\n",
              "      <td>16884.92400</td>\n",
              "      <td>1</td>\n",
              "      <td>0</td>\n",
              "      <td>0</td>\n",
              "      <td>1</td>\n",
              "      <td>0</td>\n",
              "      <td>0</td>\n",
              "      <td>0</td>\n",
              "      <td>1</td>\n",
              "    </tr>\n",
              "    <tr>\n",
              "      <th>1</th>\n",
              "      <td>18</td>\n",
              "      <td>33.770</td>\n",
              "      <td>1</td>\n",
              "      <td>1725.55230</td>\n",
              "      <td>0</td>\n",
              "      <td>1</td>\n",
              "      <td>1</td>\n",
              "      <td>0</td>\n",
              "      <td>0</td>\n",
              "      <td>0</td>\n",
              "      <td>1</td>\n",
              "      <td>0</td>\n",
              "    </tr>\n",
              "    <tr>\n",
              "      <th>2</th>\n",
              "      <td>28</td>\n",
              "      <td>33.000</td>\n",
              "      <td>3</td>\n",
              "      <td>4449.46200</td>\n",
              "      <td>0</td>\n",
              "      <td>1</td>\n",
              "      <td>1</td>\n",
              "      <td>0</td>\n",
              "      <td>0</td>\n",
              "      <td>0</td>\n",
              "      <td>1</td>\n",
              "      <td>0</td>\n",
              "    </tr>\n",
              "    <tr>\n",
              "      <th>3</th>\n",
              "      <td>33</td>\n",
              "      <td>22.705</td>\n",
              "      <td>0</td>\n",
              "      <td>21984.47061</td>\n",
              "      <td>0</td>\n",
              "      <td>1</td>\n",
              "      <td>1</td>\n",
              "      <td>0</td>\n",
              "      <td>0</td>\n",
              "      <td>1</td>\n",
              "      <td>0</td>\n",
              "      <td>0</td>\n",
              "    </tr>\n",
              "    <tr>\n",
              "      <th>4</th>\n",
              "      <td>32</td>\n",
              "      <td>28.880</td>\n",
              "      <td>0</td>\n",
              "      <td>3866.85520</td>\n",
              "      <td>0</td>\n",
              "      <td>1</td>\n",
              "      <td>1</td>\n",
              "      <td>0</td>\n",
              "      <td>0</td>\n",
              "      <td>1</td>\n",
              "      <td>0</td>\n",
              "      <td>0</td>\n",
              "    </tr>\n",
              "  </tbody>\n",
              "</table>\n",
              "</div>\n",
              "      <button class=\"colab-df-convert\" onclick=\"convertToInteractive('df-72c4ba0d-0e8d-4b1e-954f-9a1099ffb6fd')\"\n",
              "              title=\"Convert this dataframe to an interactive table.\"\n",
              "              style=\"display:none;\">\n",
              "        \n",
              "  <svg xmlns=\"http://www.w3.org/2000/svg\" height=\"24px\"viewBox=\"0 0 24 24\"\n",
              "       width=\"24px\">\n",
              "    <path d=\"M0 0h24v24H0V0z\" fill=\"none\"/>\n",
              "    <path d=\"M18.56 5.44l.94 2.06.94-2.06 2.06-.94-2.06-.94-.94-2.06-.94 2.06-2.06.94zm-11 1L8.5 8.5l.94-2.06 2.06-.94-2.06-.94L8.5 2.5l-.94 2.06-2.06.94zm10 10l.94 2.06.94-2.06 2.06-.94-2.06-.94-.94-2.06-.94 2.06-2.06.94z\"/><path d=\"M17.41 7.96l-1.37-1.37c-.4-.4-.92-.59-1.43-.59-.52 0-1.04.2-1.43.59L10.3 9.45l-7.72 7.72c-.78.78-.78 2.05 0 2.83L4 21.41c.39.39.9.59 1.41.59.51 0 1.02-.2 1.41-.59l7.78-7.78 2.81-2.81c.8-.78.8-2.07 0-2.86zM5.41 20L4 18.59l7.72-7.72 1.47 1.35L5.41 20z\"/>\n",
              "  </svg>\n",
              "      </button>\n",
              "      \n",
              "  <style>\n",
              "    .colab-df-container {\n",
              "      display:flex;\n",
              "      flex-wrap:wrap;\n",
              "      gap: 12px;\n",
              "    }\n",
              "\n",
              "    .colab-df-convert {\n",
              "      background-color: #E8F0FE;\n",
              "      border: none;\n",
              "      border-radius: 50%;\n",
              "      cursor: pointer;\n",
              "      display: none;\n",
              "      fill: #1967D2;\n",
              "      height: 32px;\n",
              "      padding: 0 0 0 0;\n",
              "      width: 32px;\n",
              "    }\n",
              "\n",
              "    .colab-df-convert:hover {\n",
              "      background-color: #E2EBFA;\n",
              "      box-shadow: 0px 1px 2px rgba(60, 64, 67, 0.3), 0px 1px 3px 1px rgba(60, 64, 67, 0.15);\n",
              "      fill: #174EA6;\n",
              "    }\n",
              "\n",
              "    [theme=dark] .colab-df-convert {\n",
              "      background-color: #3B4455;\n",
              "      fill: #D2E3FC;\n",
              "    }\n",
              "\n",
              "    [theme=dark] .colab-df-convert:hover {\n",
              "      background-color: #434B5C;\n",
              "      box-shadow: 0px 1px 3px 1px rgba(0, 0, 0, 0.15);\n",
              "      filter: drop-shadow(0px 1px 2px rgba(0, 0, 0, 0.3));\n",
              "      fill: #FFFFFF;\n",
              "    }\n",
              "  </style>\n",
              "\n",
              "      <script>\n",
              "        const buttonEl =\n",
              "          document.querySelector('#df-72c4ba0d-0e8d-4b1e-954f-9a1099ffb6fd button.colab-df-convert');\n",
              "        buttonEl.style.display =\n",
              "          google.colab.kernel.accessAllowed ? 'block' : 'none';\n",
              "\n",
              "        async function convertToInteractive(key) {\n",
              "          const element = document.querySelector('#df-72c4ba0d-0e8d-4b1e-954f-9a1099ffb6fd');\n",
              "          const dataTable =\n",
              "            await google.colab.kernel.invokeFunction('convertToInteractive',\n",
              "                                                     [key], {});\n",
              "          if (!dataTable) return;\n",
              "\n",
              "          const docLinkHtml = 'Like what you see? Visit the ' +\n",
              "            '<a target=\"_blank\" href=https://colab.research.google.com/notebooks/data_table.ipynb>data table notebook</a>'\n",
              "            + ' to learn more about interactive tables.';\n",
              "          element.innerHTML = '';\n",
              "          dataTable['output_type'] = 'display_data';\n",
              "          await google.colab.output.renderOutput(dataTable, element);\n",
              "          const docLink = document.createElement('div');\n",
              "          docLink.innerHTML = docLinkHtml;\n",
              "          element.appendChild(docLink);\n",
              "        }\n",
              "      </script>\n",
              "    </div>\n",
              "  </div>\n",
              "  "
            ]
          },
          "metadata": {},
          "execution_count": 77
        }
      ]
    },
    {
      "cell_type": "code",
      "source": [
        "# Create X and Y \n",
        "X = insurance_onehot.drop(\"charges\", axis = 1)\n",
        "y = insurance_onehot[\"charges\"]"
      ],
      "metadata": {
        "id": "WJRkofB-J9Tk"
      },
      "execution_count": 78,
      "outputs": []
    },
    {
      "cell_type": "code",
      "source": [
        "X.head()"
      ],
      "metadata": {
        "colab": {
          "base_uri": "https://localhost:8080/",
          "height": 206
        },
        "id": "dZWa6SasKv1R",
        "outputId": "8c5f2076-8a75-4019-9d12-872e03f02346"
      },
      "execution_count": 79,
      "outputs": [
        {
          "output_type": "execute_result",
          "data": {
            "text/plain": [
              "   age     bmi  children  sex_female  sex_male  smoker_no  smoker_yes  \\\n",
              "0   19  27.900         0           1         0          0           1   \n",
              "1   18  33.770         1           0         1          1           0   \n",
              "2   28  33.000         3           0         1          1           0   \n",
              "3   33  22.705         0           0         1          1           0   \n",
              "4   32  28.880         0           0         1          1           0   \n",
              "\n",
              "   region_northeast  region_northwest  region_southeast  region_southwest  \n",
              "0                 0                 0                 0                 1  \n",
              "1                 0                 0                 1                 0  \n",
              "2                 0                 0                 1                 0  \n",
              "3                 0                 1                 0                 0  \n",
              "4                 0                 1                 0                 0  "
            ],
            "text/html": [
              "\n",
              "  <div id=\"df-0ef1b243-f69e-4b59-8ab4-ff2750289a43\">\n",
              "    <div class=\"colab-df-container\">\n",
              "      <div>\n",
              "<style scoped>\n",
              "    .dataframe tbody tr th:only-of-type {\n",
              "        vertical-align: middle;\n",
              "    }\n",
              "\n",
              "    .dataframe tbody tr th {\n",
              "        vertical-align: top;\n",
              "    }\n",
              "\n",
              "    .dataframe thead th {\n",
              "        text-align: right;\n",
              "    }\n",
              "</style>\n",
              "<table border=\"1\" class=\"dataframe\">\n",
              "  <thead>\n",
              "    <tr style=\"text-align: right;\">\n",
              "      <th></th>\n",
              "      <th>age</th>\n",
              "      <th>bmi</th>\n",
              "      <th>children</th>\n",
              "      <th>sex_female</th>\n",
              "      <th>sex_male</th>\n",
              "      <th>smoker_no</th>\n",
              "      <th>smoker_yes</th>\n",
              "      <th>region_northeast</th>\n",
              "      <th>region_northwest</th>\n",
              "      <th>region_southeast</th>\n",
              "      <th>region_southwest</th>\n",
              "    </tr>\n",
              "  </thead>\n",
              "  <tbody>\n",
              "    <tr>\n",
              "      <th>0</th>\n",
              "      <td>19</td>\n",
              "      <td>27.900</td>\n",
              "      <td>0</td>\n",
              "      <td>1</td>\n",
              "      <td>0</td>\n",
              "      <td>0</td>\n",
              "      <td>1</td>\n",
              "      <td>0</td>\n",
              "      <td>0</td>\n",
              "      <td>0</td>\n",
              "      <td>1</td>\n",
              "    </tr>\n",
              "    <tr>\n",
              "      <th>1</th>\n",
              "      <td>18</td>\n",
              "      <td>33.770</td>\n",
              "      <td>1</td>\n",
              "      <td>0</td>\n",
              "      <td>1</td>\n",
              "      <td>1</td>\n",
              "      <td>0</td>\n",
              "      <td>0</td>\n",
              "      <td>0</td>\n",
              "      <td>1</td>\n",
              "      <td>0</td>\n",
              "    </tr>\n",
              "    <tr>\n",
              "      <th>2</th>\n",
              "      <td>28</td>\n",
              "      <td>33.000</td>\n",
              "      <td>3</td>\n",
              "      <td>0</td>\n",
              "      <td>1</td>\n",
              "      <td>1</td>\n",
              "      <td>0</td>\n",
              "      <td>0</td>\n",
              "      <td>0</td>\n",
              "      <td>1</td>\n",
              "      <td>0</td>\n",
              "    </tr>\n",
              "    <tr>\n",
              "      <th>3</th>\n",
              "      <td>33</td>\n",
              "      <td>22.705</td>\n",
              "      <td>0</td>\n",
              "      <td>0</td>\n",
              "      <td>1</td>\n",
              "      <td>1</td>\n",
              "      <td>0</td>\n",
              "      <td>0</td>\n",
              "      <td>1</td>\n",
              "      <td>0</td>\n",
              "      <td>0</td>\n",
              "    </tr>\n",
              "    <tr>\n",
              "      <th>4</th>\n",
              "      <td>32</td>\n",
              "      <td>28.880</td>\n",
              "      <td>0</td>\n",
              "      <td>0</td>\n",
              "      <td>1</td>\n",
              "      <td>1</td>\n",
              "      <td>0</td>\n",
              "      <td>0</td>\n",
              "      <td>1</td>\n",
              "      <td>0</td>\n",
              "      <td>0</td>\n",
              "    </tr>\n",
              "  </tbody>\n",
              "</table>\n",
              "</div>\n",
              "      <button class=\"colab-df-convert\" onclick=\"convertToInteractive('df-0ef1b243-f69e-4b59-8ab4-ff2750289a43')\"\n",
              "              title=\"Convert this dataframe to an interactive table.\"\n",
              "              style=\"display:none;\">\n",
              "        \n",
              "  <svg xmlns=\"http://www.w3.org/2000/svg\" height=\"24px\"viewBox=\"0 0 24 24\"\n",
              "       width=\"24px\">\n",
              "    <path d=\"M0 0h24v24H0V0z\" fill=\"none\"/>\n",
              "    <path d=\"M18.56 5.44l.94 2.06.94-2.06 2.06-.94-2.06-.94-.94-2.06-.94 2.06-2.06.94zm-11 1L8.5 8.5l.94-2.06 2.06-.94-2.06-.94L8.5 2.5l-.94 2.06-2.06.94zm10 10l.94 2.06.94-2.06 2.06-.94-2.06-.94-.94-2.06-.94 2.06-2.06.94z\"/><path d=\"M17.41 7.96l-1.37-1.37c-.4-.4-.92-.59-1.43-.59-.52 0-1.04.2-1.43.59L10.3 9.45l-7.72 7.72c-.78.78-.78 2.05 0 2.83L4 21.41c.39.39.9.59 1.41.59.51 0 1.02-.2 1.41-.59l7.78-7.78 2.81-2.81c.8-.78.8-2.07 0-2.86zM5.41 20L4 18.59l7.72-7.72 1.47 1.35L5.41 20z\"/>\n",
              "  </svg>\n",
              "      </button>\n",
              "      \n",
              "  <style>\n",
              "    .colab-df-container {\n",
              "      display:flex;\n",
              "      flex-wrap:wrap;\n",
              "      gap: 12px;\n",
              "    }\n",
              "\n",
              "    .colab-df-convert {\n",
              "      background-color: #E8F0FE;\n",
              "      border: none;\n",
              "      border-radius: 50%;\n",
              "      cursor: pointer;\n",
              "      display: none;\n",
              "      fill: #1967D2;\n",
              "      height: 32px;\n",
              "      padding: 0 0 0 0;\n",
              "      width: 32px;\n",
              "    }\n",
              "\n",
              "    .colab-df-convert:hover {\n",
              "      background-color: #E2EBFA;\n",
              "      box-shadow: 0px 1px 2px rgba(60, 64, 67, 0.3), 0px 1px 3px 1px rgba(60, 64, 67, 0.15);\n",
              "      fill: #174EA6;\n",
              "    }\n",
              "\n",
              "    [theme=dark] .colab-df-convert {\n",
              "      background-color: #3B4455;\n",
              "      fill: #D2E3FC;\n",
              "    }\n",
              "\n",
              "    [theme=dark] .colab-df-convert:hover {\n",
              "      background-color: #434B5C;\n",
              "      box-shadow: 0px 1px 3px 1px rgba(0, 0, 0, 0.15);\n",
              "      filter: drop-shadow(0px 1px 2px rgba(0, 0, 0, 0.3));\n",
              "      fill: #FFFFFF;\n",
              "    }\n",
              "  </style>\n",
              "\n",
              "      <script>\n",
              "        const buttonEl =\n",
              "          document.querySelector('#df-0ef1b243-f69e-4b59-8ab4-ff2750289a43 button.colab-df-convert');\n",
              "        buttonEl.style.display =\n",
              "          google.colab.kernel.accessAllowed ? 'block' : 'none';\n",
              "\n",
              "        async function convertToInteractive(key) {\n",
              "          const element = document.querySelector('#df-0ef1b243-f69e-4b59-8ab4-ff2750289a43');\n",
              "          const dataTable =\n",
              "            await google.colab.kernel.invokeFunction('convertToInteractive',\n",
              "                                                     [key], {});\n",
              "          if (!dataTable) return;\n",
              "\n",
              "          const docLinkHtml = 'Like what you see? Visit the ' +\n",
              "            '<a target=\"_blank\" href=https://colab.research.google.com/notebooks/data_table.ipynb>data table notebook</a>'\n",
              "            + ' to learn more about interactive tables.';\n",
              "          element.innerHTML = '';\n",
              "          dataTable['output_type'] = 'display_data';\n",
              "          await google.colab.output.renderOutput(dataTable, element);\n",
              "          const docLink = document.createElement('div');\n",
              "          docLink.innerHTML = docLinkHtml;\n",
              "          element.appendChild(docLink);\n",
              "        }\n",
              "      </script>\n",
              "    </div>\n",
              "  </div>\n",
              "  "
            ]
          },
          "metadata": {},
          "execution_count": 79
        }
      ]
    },
    {
      "cell_type": "code",
      "source": [
        "y.head()"
      ],
      "metadata": {
        "colab": {
          "base_uri": "https://localhost:8080/"
        },
        "id": "KNt7uCW4Mwjo",
        "outputId": "c93c75ef-c57f-41f1-d6bf-3ca7bbacb9ae"
      },
      "execution_count": 80,
      "outputs": [
        {
          "output_type": "execute_result",
          "data": {
            "text/plain": [
              "0    16884.92400\n",
              "1     1725.55230\n",
              "2     4449.46200\n",
              "3    21984.47061\n",
              "4     3866.85520\n",
              "Name: charges, dtype: float64"
            ]
          },
          "metadata": {},
          "execution_count": 80
        }
      ]
    },
    {
      "cell_type": "code",
      "source": [
        "# Create training and test sets\n",
        "from sklearn.model_selection import train_test_split\n",
        "\n",
        "X_train, X_test, y_train, y_test = train_test_split(X, y, test_size = 0.2, random_state = 42)"
      ],
      "metadata": {
        "id": "_WhXia13OQSL"
      },
      "execution_count": 81,
      "outputs": []
    },
    {
      "cell_type": "code",
      "source": [
        "len(X_train), len(X_test)"
      ],
      "metadata": {
        "colab": {
          "base_uri": "https://localhost:8080/"
        },
        "id": "NHcw1pUsOja5",
        "outputId": "dc161843-d19c-42a9-fe90-5715c1583a66"
      },
      "execution_count": 82,
      "outputs": [
        {
          "output_type": "execute_result",
          "data": {
            "text/plain": [
              "(1070, 268)"
            ]
          },
          "metadata": {},
          "execution_count": 82
        }
      ]
    },
    {
      "cell_type": "code",
      "source": [
        "len(y_train), len(y_test)"
      ],
      "metadata": {
        "colab": {
          "base_uri": "https://localhost:8080/"
        },
        "id": "PToo5U_ZOoxA",
        "outputId": "55767a36-23c7-4d7c-f2af-e28088d0ff29"
      },
      "execution_count": 83,
      "outputs": [
        {
          "output_type": "execute_result",
          "data": {
            "text/plain": [
              "(1070, 268)"
            ]
          },
          "metadata": {},
          "execution_count": 83
        }
      ]
    },
    {
      "cell_type": "code",
      "source": [
        "X_train.head()"
      ],
      "metadata": {
        "colab": {
          "base_uri": "https://localhost:8080/",
          "height": 206
        },
        "id": "oa8OMVTwOxfw",
        "outputId": "e8fc62a3-4ba8-48d8-de05-5d5fbfa6bbf7"
      },
      "execution_count": 84,
      "outputs": [
        {
          "output_type": "execute_result",
          "data": {
            "text/plain": [
              "      age    bmi  children  sex_female  sex_male  smoker_no  smoker_yes  \\\n",
              "560    46  19.95         2           1         0          1           0   \n",
              "1285   47  24.32         0           1         0          1           0   \n",
              "1142   52  24.86         0           1         0          1           0   \n",
              "969    39  34.32         5           1         0          1           0   \n",
              "486    54  21.47         3           1         0          1           0   \n",
              "\n",
              "      region_northeast  region_northwest  region_southeast  region_southwest  \n",
              "560                  0                 1                 0                 0  \n",
              "1285                 1                 0                 0                 0  \n",
              "1142                 0                 0                 1                 0  \n",
              "969                  0                 0                 1                 0  \n",
              "486                  0                 1                 0                 0  "
            ],
            "text/html": [
              "\n",
              "  <div id=\"df-57f7824b-a8e0-4e66-86b2-5fc16d281f23\">\n",
              "    <div class=\"colab-df-container\">\n",
              "      <div>\n",
              "<style scoped>\n",
              "    .dataframe tbody tr th:only-of-type {\n",
              "        vertical-align: middle;\n",
              "    }\n",
              "\n",
              "    .dataframe tbody tr th {\n",
              "        vertical-align: top;\n",
              "    }\n",
              "\n",
              "    .dataframe thead th {\n",
              "        text-align: right;\n",
              "    }\n",
              "</style>\n",
              "<table border=\"1\" class=\"dataframe\">\n",
              "  <thead>\n",
              "    <tr style=\"text-align: right;\">\n",
              "      <th></th>\n",
              "      <th>age</th>\n",
              "      <th>bmi</th>\n",
              "      <th>children</th>\n",
              "      <th>sex_female</th>\n",
              "      <th>sex_male</th>\n",
              "      <th>smoker_no</th>\n",
              "      <th>smoker_yes</th>\n",
              "      <th>region_northeast</th>\n",
              "      <th>region_northwest</th>\n",
              "      <th>region_southeast</th>\n",
              "      <th>region_southwest</th>\n",
              "    </tr>\n",
              "  </thead>\n",
              "  <tbody>\n",
              "    <tr>\n",
              "      <th>560</th>\n",
              "      <td>46</td>\n",
              "      <td>19.95</td>\n",
              "      <td>2</td>\n",
              "      <td>1</td>\n",
              "      <td>0</td>\n",
              "      <td>1</td>\n",
              "      <td>0</td>\n",
              "      <td>0</td>\n",
              "      <td>1</td>\n",
              "      <td>0</td>\n",
              "      <td>0</td>\n",
              "    </tr>\n",
              "    <tr>\n",
              "      <th>1285</th>\n",
              "      <td>47</td>\n",
              "      <td>24.32</td>\n",
              "      <td>0</td>\n",
              "      <td>1</td>\n",
              "      <td>0</td>\n",
              "      <td>1</td>\n",
              "      <td>0</td>\n",
              "      <td>1</td>\n",
              "      <td>0</td>\n",
              "      <td>0</td>\n",
              "      <td>0</td>\n",
              "    </tr>\n",
              "    <tr>\n",
              "      <th>1142</th>\n",
              "      <td>52</td>\n",
              "      <td>24.86</td>\n",
              "      <td>0</td>\n",
              "      <td>1</td>\n",
              "      <td>0</td>\n",
              "      <td>1</td>\n",
              "      <td>0</td>\n",
              "      <td>0</td>\n",
              "      <td>0</td>\n",
              "      <td>1</td>\n",
              "      <td>0</td>\n",
              "    </tr>\n",
              "    <tr>\n",
              "      <th>969</th>\n",
              "      <td>39</td>\n",
              "      <td>34.32</td>\n",
              "      <td>5</td>\n",
              "      <td>1</td>\n",
              "      <td>0</td>\n",
              "      <td>1</td>\n",
              "      <td>0</td>\n",
              "      <td>0</td>\n",
              "      <td>0</td>\n",
              "      <td>1</td>\n",
              "      <td>0</td>\n",
              "    </tr>\n",
              "    <tr>\n",
              "      <th>486</th>\n",
              "      <td>54</td>\n",
              "      <td>21.47</td>\n",
              "      <td>3</td>\n",
              "      <td>1</td>\n",
              "      <td>0</td>\n",
              "      <td>1</td>\n",
              "      <td>0</td>\n",
              "      <td>0</td>\n",
              "      <td>1</td>\n",
              "      <td>0</td>\n",
              "      <td>0</td>\n",
              "    </tr>\n",
              "  </tbody>\n",
              "</table>\n",
              "</div>\n",
              "      <button class=\"colab-df-convert\" onclick=\"convertToInteractive('df-57f7824b-a8e0-4e66-86b2-5fc16d281f23')\"\n",
              "              title=\"Convert this dataframe to an interactive table.\"\n",
              "              style=\"display:none;\">\n",
              "        \n",
              "  <svg xmlns=\"http://www.w3.org/2000/svg\" height=\"24px\"viewBox=\"0 0 24 24\"\n",
              "       width=\"24px\">\n",
              "    <path d=\"M0 0h24v24H0V0z\" fill=\"none\"/>\n",
              "    <path d=\"M18.56 5.44l.94 2.06.94-2.06 2.06-.94-2.06-.94-.94-2.06-.94 2.06-2.06.94zm-11 1L8.5 8.5l.94-2.06 2.06-.94-2.06-.94L8.5 2.5l-.94 2.06-2.06.94zm10 10l.94 2.06.94-2.06 2.06-.94-2.06-.94-.94-2.06-.94 2.06-2.06.94z\"/><path d=\"M17.41 7.96l-1.37-1.37c-.4-.4-.92-.59-1.43-.59-.52 0-1.04.2-1.43.59L10.3 9.45l-7.72 7.72c-.78.78-.78 2.05 0 2.83L4 21.41c.39.39.9.59 1.41.59.51 0 1.02-.2 1.41-.59l7.78-7.78 2.81-2.81c.8-.78.8-2.07 0-2.86zM5.41 20L4 18.59l7.72-7.72 1.47 1.35L5.41 20z\"/>\n",
              "  </svg>\n",
              "      </button>\n",
              "      \n",
              "  <style>\n",
              "    .colab-df-container {\n",
              "      display:flex;\n",
              "      flex-wrap:wrap;\n",
              "      gap: 12px;\n",
              "    }\n",
              "\n",
              "    .colab-df-convert {\n",
              "      background-color: #E8F0FE;\n",
              "      border: none;\n",
              "      border-radius: 50%;\n",
              "      cursor: pointer;\n",
              "      display: none;\n",
              "      fill: #1967D2;\n",
              "      height: 32px;\n",
              "      padding: 0 0 0 0;\n",
              "      width: 32px;\n",
              "    }\n",
              "\n",
              "    .colab-df-convert:hover {\n",
              "      background-color: #E2EBFA;\n",
              "      box-shadow: 0px 1px 2px rgba(60, 64, 67, 0.3), 0px 1px 3px 1px rgba(60, 64, 67, 0.15);\n",
              "      fill: #174EA6;\n",
              "    }\n",
              "\n",
              "    [theme=dark] .colab-df-convert {\n",
              "      background-color: #3B4455;\n",
              "      fill: #D2E3FC;\n",
              "    }\n",
              "\n",
              "    [theme=dark] .colab-df-convert:hover {\n",
              "      background-color: #434B5C;\n",
              "      box-shadow: 0px 1px 3px 1px rgba(0, 0, 0, 0.15);\n",
              "      filter: drop-shadow(0px 1px 2px rgba(0, 0, 0, 0.3));\n",
              "      fill: #FFFFFF;\n",
              "    }\n",
              "  </style>\n",
              "\n",
              "      <script>\n",
              "        const buttonEl =\n",
              "          document.querySelector('#df-57f7824b-a8e0-4e66-86b2-5fc16d281f23 button.colab-df-convert');\n",
              "        buttonEl.style.display =\n",
              "          google.colab.kernel.accessAllowed ? 'block' : 'none';\n",
              "\n",
              "        async function convertToInteractive(key) {\n",
              "          const element = document.querySelector('#df-57f7824b-a8e0-4e66-86b2-5fc16d281f23');\n",
              "          const dataTable =\n",
              "            await google.colab.kernel.invokeFunction('convertToInteractive',\n",
              "                                                     [key], {});\n",
              "          if (!dataTable) return;\n",
              "\n",
              "          const docLinkHtml = 'Like what you see? Visit the ' +\n",
              "            '<a target=\"_blank\" href=https://colab.research.google.com/notebooks/data_table.ipynb>data table notebook</a>'\n",
              "            + ' to learn more about interactive tables.';\n",
              "          element.innerHTML = '';\n",
              "          dataTable['output_type'] = 'display_data';\n",
              "          await google.colab.output.renderOutput(dataTable, element);\n",
              "          const docLink = document.createElement('div');\n",
              "          docLink.innerHTML = docLinkHtml;\n",
              "          element.appendChild(docLink);\n",
              "        }\n",
              "      </script>\n",
              "    </div>\n",
              "  </div>\n",
              "  "
            ]
          },
          "metadata": {},
          "execution_count": 84
        }
      ]
    },
    {
      "cell_type": "code",
      "source": [
        "# Build a neural network \n",
        "tf.random.set_seed(42)\n",
        "# Create a model\n",
        "insurance_model = tf.keras.Sequential([\n",
        "                  tf.keras.layers.Dense(10),\n",
        "                  tf.keras.layers.Dense(1)\n",
        "])\n",
        "\n",
        "#compile the model\n",
        "insurance_model.compile(loss = tf.keras.losses.mae,\n",
        "                        optimizer = tf.keras.optimizers.SGD(),\n",
        "                        metrics = [\"mae\"])\n",
        "\n",
        "#Fit the model\n",
        "insurance_model.fit(X_train, y_train, epochs = 100)"
      ],
      "metadata": {
        "colab": {
          "base_uri": "https://localhost:8080/"
        },
        "id": "ZY08m6IRQFMN",
        "outputId": "d599524d-13bc-4c99-8e4f-dc9f213d097f"
      },
      "execution_count": 85,
      "outputs": [
        {
          "output_type": "stream",
          "name": "stdout",
          "text": [
            "Epoch 1/100\n",
            "34/34 [==============================] - 1s 2ms/step - loss: 8637.1006 - mae: 8637.1006\n",
            "Epoch 2/100\n",
            "34/34 [==============================] - 0s 2ms/step - loss: 7886.7759 - mae: 7886.7759\n",
            "Epoch 3/100\n",
            "34/34 [==============================] - 0s 1ms/step - loss: 7558.1470 - mae: 7558.1470\n",
            "Epoch 4/100\n",
            "34/34 [==============================] - 0s 2ms/step - loss: 7792.0225 - mae: 7792.0225\n",
            "Epoch 5/100\n",
            "34/34 [==============================] - 0s 1ms/step - loss: 7748.3887 - mae: 7748.3887\n",
            "Epoch 6/100\n",
            "34/34 [==============================] - 0s 2ms/step - loss: 7595.3940 - mae: 7595.3940\n",
            "Epoch 7/100\n",
            "34/34 [==============================] - 0s 2ms/step - loss: 7589.9844 - mae: 7589.9844\n",
            "Epoch 8/100\n",
            "34/34 [==============================] - 0s 1ms/step - loss: 7698.5576 - mae: 7698.5576\n",
            "Epoch 9/100\n",
            "34/34 [==============================] - 0s 1ms/step - loss: 7496.7778 - mae: 7496.7778\n",
            "Epoch 10/100\n",
            "34/34 [==============================] - 0s 1ms/step - loss: 7493.1743 - mae: 7493.1743\n",
            "Epoch 11/100\n",
            "34/34 [==============================] - 0s 1ms/step - loss: 7769.7305 - mae: 7769.7305\n",
            "Epoch 12/100\n",
            "34/34 [==============================] - 0s 1ms/step - loss: 7706.9028 - mae: 7706.9028\n",
            "Epoch 13/100\n",
            "34/34 [==============================] - 0s 1ms/step - loss: 7687.7231 - mae: 7687.7231\n",
            "Epoch 14/100\n",
            "34/34 [==============================] - 0s 1ms/step - loss: 7689.9004 - mae: 7689.9004\n",
            "Epoch 15/100\n",
            "34/34 [==============================] - 0s 2ms/step - loss: 7393.5322 - mae: 7393.5322\n",
            "Epoch 16/100\n",
            "34/34 [==============================] - 0s 2ms/step - loss: 7780.6987 - mae: 7780.6987\n",
            "Epoch 17/100\n",
            "34/34 [==============================] - 0s 1ms/step - loss: 7578.5098 - mae: 7578.5098\n",
            "Epoch 18/100\n",
            "34/34 [==============================] - 0s 1ms/step - loss: 7750.8354 - mae: 7750.8354\n",
            "Epoch 19/100\n",
            "34/34 [==============================] - 0s 2ms/step - loss: 7739.2144 - mae: 7739.2144\n",
            "Epoch 20/100\n",
            "34/34 [==============================] - 0s 1ms/step - loss: 7875.0654 - mae: 7875.0654\n",
            "Epoch 21/100\n",
            "34/34 [==============================] - 0s 2ms/step - loss: 7466.6768 - mae: 7466.6768\n",
            "Epoch 22/100\n",
            "34/34 [==============================] - 0s 1ms/step - loss: 7941.2329 - mae: 7941.2329\n",
            "Epoch 23/100\n",
            "34/34 [==============================] - 0s 1ms/step - loss: 7640.2734 - mae: 7640.2734\n",
            "Epoch 24/100\n",
            "34/34 [==============================] - 0s 1ms/step - loss: 7539.2671 - mae: 7539.2671\n",
            "Epoch 25/100\n",
            "34/34 [==============================] - 0s 2ms/step - loss: 7619.9653 - mae: 7619.9653\n",
            "Epoch 26/100\n",
            "34/34 [==============================] - 0s 2ms/step - loss: 7644.1714 - mae: 7644.1714\n",
            "Epoch 27/100\n",
            "34/34 [==============================] - 0s 1ms/step - loss: 7709.0371 - mae: 7709.0371\n",
            "Epoch 28/100\n",
            "34/34 [==============================] - 0s 1ms/step - loss: 7366.8662 - mae: 7366.8662\n",
            "Epoch 29/100\n",
            "34/34 [==============================] - 0s 1ms/step - loss: 7444.3154 - mae: 7444.3154\n",
            "Epoch 30/100\n",
            "34/34 [==============================] - 0s 1ms/step - loss: 7616.4082 - mae: 7616.4082\n",
            "Epoch 31/100\n",
            "34/34 [==============================] - 0s 1ms/step - loss: 7686.3848 - mae: 7686.3848\n",
            "Epoch 32/100\n",
            "34/34 [==============================] - 0s 1ms/step - loss: 7548.0977 - mae: 7548.0977\n",
            "Epoch 33/100\n",
            "34/34 [==============================] - 0s 1ms/step - loss: 7501.5532 - mae: 7501.5532\n",
            "Epoch 34/100\n",
            "34/34 [==============================] - 0s 1ms/step - loss: 7363.4160 - mae: 7363.4160\n",
            "Epoch 35/100\n",
            "34/34 [==============================] - 0s 2ms/step - loss: 7295.4478 - mae: 7295.4478\n",
            "Epoch 36/100\n",
            "34/34 [==============================] - 0s 2ms/step - loss: 7569.8804 - mae: 7569.8804\n",
            "Epoch 37/100\n",
            "34/34 [==============================] - 0s 2ms/step - loss: 7548.1997 - mae: 7548.1997\n",
            "Epoch 38/100\n",
            "34/34 [==============================] - 0s 2ms/step - loss: 7424.3975 - mae: 7424.3975\n",
            "Epoch 39/100\n",
            "34/34 [==============================] - 0s 1ms/step - loss: 7529.7739 - mae: 7529.7739\n",
            "Epoch 40/100\n",
            "34/34 [==============================] - 0s 2ms/step - loss: 7467.3232 - mae: 7467.3232\n",
            "Epoch 41/100\n",
            "34/34 [==============================] - 0s 2ms/step - loss: 7635.9292 - mae: 7635.9292\n",
            "Epoch 42/100\n",
            "34/34 [==============================] - 0s 1ms/step - loss: 7536.8398 - mae: 7536.8398\n",
            "Epoch 43/100\n",
            "34/34 [==============================] - 0s 1ms/step - loss: 7616.5859 - mae: 7616.5859\n",
            "Epoch 44/100\n",
            "34/34 [==============================] - 0s 1ms/step - loss: 7439.4941 - mae: 7439.4941\n",
            "Epoch 45/100\n",
            "34/34 [==============================] - 0s 2ms/step - loss: 7538.0142 - mae: 7538.0142\n",
            "Epoch 46/100\n",
            "34/34 [==============================] - 0s 1ms/step - loss: 7415.1470 - mae: 7415.1470\n",
            "Epoch 47/100\n",
            "34/34 [==============================] - 0s 1ms/step - loss: 7420.6938 - mae: 7420.6938\n",
            "Epoch 48/100\n",
            "34/34 [==============================] - 0s 1ms/step - loss: 7509.9839 - mae: 7509.9839\n",
            "Epoch 49/100\n",
            "34/34 [==============================] - 0s 2ms/step - loss: 7541.1133 - mae: 7541.1133\n",
            "Epoch 50/100\n",
            "34/34 [==============================] - 0s 1ms/step - loss: 7467.8643 - mae: 7467.8643\n",
            "Epoch 51/100\n",
            "34/34 [==============================] - 0s 1ms/step - loss: 7389.3560 - mae: 7389.3560\n",
            "Epoch 52/100\n",
            "34/34 [==============================] - 0s 2ms/step - loss: 7499.7759 - mae: 7499.7759\n",
            "Epoch 53/100\n",
            "34/34 [==============================] - 0s 2ms/step - loss: 7523.9282 - mae: 7523.9282\n",
            "Epoch 54/100\n",
            "34/34 [==============================] - 0s 1ms/step - loss: 7243.3115 - mae: 7243.3115\n",
            "Epoch 55/100\n",
            "34/34 [==============================] - 0s 1ms/step - loss: 7429.5864 - mae: 7429.5864\n",
            "Epoch 56/100\n",
            "34/34 [==============================] - 0s 2ms/step - loss: 7313.3999 - mae: 7313.3999\n",
            "Epoch 57/100\n",
            "34/34 [==============================] - 0s 1ms/step - loss: 7526.3877 - mae: 7526.3877\n",
            "Epoch 58/100\n",
            "34/34 [==============================] - 0s 1ms/step - loss: 7542.2666 - mae: 7542.2666\n",
            "Epoch 59/100\n",
            "34/34 [==============================] - 0s 2ms/step - loss: 7576.9277 - mae: 7576.9277\n",
            "Epoch 60/100\n",
            "34/34 [==============================] - 0s 1ms/step - loss: 7546.4058 - mae: 7546.4058\n",
            "Epoch 61/100\n",
            "34/34 [==============================] - 0s 1ms/step - loss: 7351.2271 - mae: 7351.2271\n",
            "Epoch 62/100\n",
            "34/34 [==============================] - 0s 2ms/step - loss: 7302.1436 - mae: 7302.1436\n",
            "Epoch 63/100\n",
            "34/34 [==============================] - 0s 2ms/step - loss: 7393.0874 - mae: 7393.0874\n",
            "Epoch 64/100\n",
            "34/34 [==============================] - 0s 1ms/step - loss: 7442.2881 - mae: 7442.2881\n",
            "Epoch 65/100\n",
            "34/34 [==============================] - 0s 1ms/step - loss: 7492.6782 - mae: 7492.6782\n",
            "Epoch 66/100\n",
            "34/34 [==============================] - 0s 1ms/step - loss: 7561.9165 - mae: 7561.9165\n",
            "Epoch 67/100\n",
            "34/34 [==============================] - 0s 1ms/step - loss: 7340.5137 - mae: 7340.5137\n",
            "Epoch 68/100\n",
            "34/34 [==============================] - 0s 1ms/step - loss: 7496.0840 - mae: 7496.0840\n",
            "Epoch 69/100\n",
            "34/34 [==============================] - 0s 2ms/step - loss: 7617.0303 - mae: 7617.0303\n",
            "Epoch 70/100\n",
            "34/34 [==============================] - 0s 1ms/step - loss: 7641.1948 - mae: 7641.1948\n",
            "Epoch 71/100\n",
            "34/34 [==============================] - 0s 2ms/step - loss: 7084.2744 - mae: 7084.2744\n",
            "Epoch 72/100\n",
            "34/34 [==============================] - 0s 1ms/step - loss: 7240.4902 - mae: 7240.4902\n",
            "Epoch 73/100\n",
            "34/34 [==============================] - 0s 1ms/step - loss: 7283.4888 - mae: 7283.4888\n",
            "Epoch 74/100\n",
            "34/34 [==============================] - 0s 1ms/step - loss: 7335.5088 - mae: 7335.5088\n",
            "Epoch 75/100\n",
            "34/34 [==============================] - 0s 1ms/step - loss: 7275.6396 - mae: 7275.6396\n",
            "Epoch 76/100\n",
            "34/34 [==============================] - 0s 1ms/step - loss: 7313.1860 - mae: 7313.1860\n",
            "Epoch 77/100\n",
            "34/34 [==============================] - 0s 1ms/step - loss: 7485.7588 - mae: 7485.7588\n",
            "Epoch 78/100\n",
            "34/34 [==============================] - 0s 1ms/step - loss: 7352.2803 - mae: 7352.2803\n",
            "Epoch 79/100\n",
            "34/34 [==============================] - 0s 1ms/step - loss: 7520.5703 - mae: 7520.5703\n",
            "Epoch 80/100\n",
            "34/34 [==============================] - 0s 1ms/step - loss: 7279.3779 - mae: 7279.3779\n",
            "Epoch 81/100\n",
            "34/34 [==============================] - 0s 1ms/step - loss: 7273.8477 - mae: 7273.8477\n",
            "Epoch 82/100\n",
            "34/34 [==============================] - 0s 1ms/step - loss: 7176.5215 - mae: 7176.5215\n",
            "Epoch 83/100\n",
            "34/34 [==============================] - 0s 1ms/step - loss: 7425.6289 - mae: 7425.6289\n",
            "Epoch 84/100\n",
            "34/34 [==============================] - 0s 1ms/step - loss: 7403.1294 - mae: 7403.1294\n",
            "Epoch 85/100\n",
            "34/34 [==============================] - 0s 2ms/step - loss: 7356.0088 - mae: 7356.0088\n",
            "Epoch 86/100\n",
            "34/34 [==============================] - 0s 2ms/step - loss: 7484.7266 - mae: 7484.7266\n",
            "Epoch 87/100\n",
            "34/34 [==============================] - 0s 2ms/step - loss: 7217.6074 - mae: 7217.6074\n",
            "Epoch 88/100\n",
            "34/34 [==============================] - 0s 1ms/step - loss: 7261.0000 - mae: 7261.0000\n",
            "Epoch 89/100\n",
            "34/34 [==============================] - 0s 2ms/step - loss: 7134.1562 - mae: 7134.1562\n",
            "Epoch 90/100\n",
            "34/34 [==============================] - 0s 2ms/step - loss: 7083.4355 - mae: 7083.4355\n",
            "Epoch 91/100\n",
            "34/34 [==============================] - 0s 1ms/step - loss: 7254.1782 - mae: 7254.1782\n",
            "Epoch 92/100\n",
            "34/34 [==============================] - 0s 1ms/step - loss: 7268.7461 - mae: 7268.7461\n",
            "Epoch 93/100\n",
            "34/34 [==============================] - 0s 1ms/step - loss: 7470.5215 - mae: 7470.5215\n",
            "Epoch 94/100\n",
            "34/34 [==============================] - 0s 1ms/step - loss: 7210.9536 - mae: 7210.9536\n",
            "Epoch 95/100\n",
            "34/34 [==============================] - 0s 2ms/step - loss: 7395.6816 - mae: 7395.6816\n",
            "Epoch 96/100\n",
            "34/34 [==============================] - 0s 1ms/step - loss: 7328.0884 - mae: 7328.0884\n",
            "Epoch 97/100\n",
            "34/34 [==============================] - 0s 1ms/step - loss: 7230.4380 - mae: 7230.4380\n",
            "Epoch 98/100\n",
            "34/34 [==============================] - 0s 1ms/step - loss: 7261.3936 - mae: 7261.3936\n",
            "Epoch 99/100\n",
            "34/34 [==============================] - 0s 1ms/step - loss: 7342.5684 - mae: 7342.5684\n",
            "Epoch 100/100\n",
            "34/34 [==============================] - 0s 1ms/step - loss: 7106.1714 - mae: 7106.1714\n"
          ]
        },
        {
          "output_type": "execute_result",
          "data": {
            "text/plain": [
              "<keras.callbacks.History at 0x7efc9c35c9d0>"
            ]
          },
          "metadata": {},
          "execution_count": 85
        }
      ]
    },
    {
      "cell_type": "code",
      "source": [
        "plt.figure(figsize = (10,7))\n",
        "plt.scatter(X_train[\"age\"], y_train)"
      ],
      "metadata": {
        "colab": {
          "base_uri": "https://localhost:8080/",
          "height": 446
        },
        "id": "sKsiw7yVQzNt",
        "outputId": "845fa26e-1093-4f81-aa7e-48d5929df6c0"
      },
      "execution_count": 86,
      "outputs": [
        {
          "output_type": "execute_result",
          "data": {
            "text/plain": [
              "<matplotlib.collections.PathCollection at 0x7efc9c36cb50>"
            ]
          },
          "metadata": {},
          "execution_count": 86
        },
        {
          "output_type": "display_data",
          "data": {
            "text/plain": [
              "<Figure size 720x504 with 1 Axes>"
            ],
            "image/png": "[encoded data removed]"
          },
          "metadata": {
            "needs_background": "light"
          }
        }
      ]
    },
    {
      "cell_type": "code",
      "source": [
        "# Check the results of insurance model on test data\n",
        "# insurance_model.evaluate(X_test, y_test) "
      ],
      "metadata": {
        "id": "CR4017w_RCtp"
      },
      "execution_count": 87,
      "outputs": []
    },
    {
      "cell_type": "code",
      "source": [
        "y_train.median(), y_train.mean()"
      ],
      "metadata": {
        "colab": {
          "base_uri": "https://localhost:8080/"
        },
        "id": "LUEmXLBsTPQv",
        "outputId": "4a25297e-50f7-4453-9ef9-b82a5a40fe16"
      },
      "execution_count": 88,
      "outputs": [
        {
          "output_type": "execute_result",
          "data": {
            "text/plain": [
              "(9575.4421, 13346.089736364489)"
            ]
          },
          "metadata": {},
          "execution_count": 88
        }
      ]
    },
    {
      "cell_type": "markdown",
      "source": [
        "## Improving our model\n",
        "\n",
        "To try improve our model..\n",
        "Let's do some experiments - \n",
        "\n",
        "1. Add an extra layer with hidden units and use Adam optimizer\n",
        "2. Train for longer\n",
        "3. (insert your own experiments here)\n"
      ],
      "metadata": {
        "id": "j0GQZc3tTRLT"
      }
    },
    {
      "cell_type": "code",
      "source": [
        "tf.random.set_seed(42)\n",
        "\n",
        "#1. create model\n",
        "insurance_model_2 = tf.keras.Sequential([\n",
        "                    tf.keras.layers.Dense(100),\n",
        "                    tf.keras.layers.Dense(10),\n",
        "                    tf.keras.layers.Dense(1)\n",
        "])\n",
        "\n",
        "insurance_model_2.compile(loss = tf.keras.losses.mae,\n",
        "                          optimizer = tf.keras.optimizers.Adam(),\n",
        "                          metrics = [\"mae\"])\n",
        "\n",
        "insurance_model_2.fit(X_train, y_train, epochs = 100)"
      ],
      "metadata": {
        "colab": {
          "base_uri": "https://localhost:8080/"
        },
        "id": "_GKYDTACTW0s",
        "outputId": "4ee61131-17ec-4832-9d5c-19e1ac99ab28"
      },
      "execution_count": 89,
      "outputs": [
        {
          "output_type": "stream",
          "name": "stdout",
          "text": [
            "Epoch 1/100\n",
            "34/34 [==============================] - 0s 2ms/step - loss: 13273.1602 - mae: 13273.1602\n",
            "Epoch 2/100\n",
            "34/34 [==============================] - 0s 2ms/step - loss: 13104.4297 - mae: 13104.4297\n",
            "Epoch 3/100\n",
            "34/34 [==============================] - 0s 2ms/step - loss: 12749.5420 - mae: 12749.5420\n",
            "Epoch 4/100\n",
            "34/34 [==============================] - 0s 2ms/step - loss: 12055.7500 - mae: 12055.7500\n",
            "Epoch 5/100\n",
            "34/34 [==============================] - 0s 2ms/step - loss: 10905.8154 - mae: 10905.8154\n",
            "Epoch 6/100\n",
            "34/34 [==============================] - 0s 2ms/step - loss: 9457.7217 - mae: 9457.7217\n",
            "Epoch 7/100\n",
            "34/34 [==============================] - 0s 2ms/step - loss: 8147.6543 - mae: 8147.6543\n",
            "Epoch 8/100\n",
            "34/34 [==============================] - 0s 2ms/step - loss: 7528.8413 - mae: 7528.8413\n",
            "Epoch 9/100\n",
            "34/34 [==============================] - 0s 2ms/step - loss: 7429.1528 - mae: 7429.1528\n",
            "Epoch 10/100\n",
            "34/34 [==============================] - 0s 2ms/step - loss: 7409.0811 - mae: 7409.0811\n",
            "Epoch 11/100\n",
            "34/34 [==============================] - 0s 2ms/step - loss: 7390.8042 - mae: 7390.8042\n",
            "Epoch 12/100\n",
            "34/34 [==============================] - 0s 2ms/step - loss: 7368.9170 - mae: 7368.9170\n",
            "Epoch 13/100\n",
            "34/34 [==============================] - 0s 2ms/step - loss: 7348.5190 - mae: 7348.5190\n",
            "Epoch 14/100\n",
            "34/34 [==============================] - 0s 2ms/step - loss: 7326.4893 - mae: 7326.4893\n",
            "Epoch 15/100\n",
            "34/34 [==============================] - 0s 2ms/step - loss: 7307.5811 - mae: 7307.5811\n",
            "Epoch 16/100\n",
            "34/34 [==============================] - 0s 2ms/step - loss: 7285.7734 - mae: 7285.7734\n",
            "Epoch 17/100\n",
            "34/34 [==============================] - 0s 2ms/step - loss: 7265.7104 - mae: 7265.7104\n",
            "Epoch 18/100\n",
            "34/34 [==============================] - 0s 2ms/step - loss: 7242.5488 - mae: 7242.5488\n",
            "Epoch 19/100\n",
            "34/34 [==============================] - 0s 2ms/step - loss: 7220.5068 - mae: 7220.5068\n",
            "Epoch 20/100\n",
            "34/34 [==============================] - 0s 2ms/step - loss: 7197.1978 - mae: 7197.1978\n",
            "Epoch 21/100\n",
            "34/34 [==============================] - 0s 2ms/step - loss: 7179.0195 - mae: 7179.0195\n",
            "Epoch 22/100\n",
            "34/34 [==============================] - 0s 2ms/step - loss: 7151.2104 - mae: 7151.2104\n",
            "Epoch 23/100\n",
            "34/34 [==============================] - 0s 2ms/step - loss: 7126.4639 - mae: 7126.4639\n",
            "Epoch 24/100\n",
            "34/34 [==============================] - 0s 2ms/step - loss: 7101.9199 - mae: 7101.9199\n",
            "Epoch 25/100\n",
            "34/34 [==============================] - 0s 2ms/step - loss: 7084.3379 - mae: 7084.3379\n",
            "Epoch 26/100\n",
            "34/34 [==============================] - 0s 2ms/step - loss: 7052.3291 - mae: 7052.3291\n",
            "Epoch 27/100\n",
            "34/34 [==============================] - 0s 2ms/step - loss: 7024.3511 - mae: 7024.3511\n",
            "Epoch 28/100\n",
            "34/34 [==============================] - 0s 2ms/step - loss: 6996.6963 - mae: 6996.6963\n",
            "Epoch 29/100\n",
            "34/34 [==============================] - 0s 2ms/step - loss: 6969.0112 - mae: 6969.0112\n",
            "Epoch 30/100\n",
            "34/34 [==============================] - 0s 2ms/step - loss: 6942.1899 - mae: 6942.1899\n",
            "Epoch 31/100\n",
            "34/34 [==============================] - 0s 2ms/step - loss: 6911.7280 - mae: 6911.7280\n",
            "Epoch 32/100\n",
            "34/34 [==============================] - 0s 2ms/step - loss: 6884.0205 - mae: 6884.0205\n",
            "Epoch 33/100\n",
            "34/34 [==============================] - 0s 2ms/step - loss: 6853.4648 - mae: 6853.4648\n",
            "Epoch 34/100\n",
            "34/34 [==============================] - 0s 2ms/step - loss: 6823.0674 - mae: 6823.0674\n",
            "Epoch 35/100\n",
            "34/34 [==============================] - 0s 2ms/step - loss: 6789.6855 - mae: 6789.6855\n",
            "Epoch 36/100\n",
            "34/34 [==============================] - 0s 2ms/step - loss: 6755.7646 - mae: 6755.7646\n",
            "Epoch 37/100\n",
            "34/34 [==============================] - 0s 2ms/step - loss: 6720.2026 - mae: 6720.2026\n",
            "Epoch 38/100\n",
            "34/34 [==============================] - 0s 2ms/step - loss: 6689.7158 - mae: 6689.7158\n",
            "Epoch 39/100\n",
            "34/34 [==============================] - 0s 2ms/step - loss: 6652.4609 - mae: 6652.4609\n",
            "Epoch 40/100\n",
            "34/34 [==============================] - 0s 2ms/step - loss: 6618.1016 - mae: 6618.1016\n",
            "Epoch 41/100\n",
            "34/34 [==============================] - 0s 2ms/step - loss: 6585.8633 - mae: 6585.8633\n",
            "Epoch 42/100\n",
            "34/34 [==============================] - 0s 2ms/step - loss: 6559.4956 - mae: 6559.4956\n",
            "Epoch 43/100\n",
            "34/34 [==============================] - 0s 2ms/step - loss: 6530.0439 - mae: 6530.0439\n",
            "Epoch 44/100\n",
            "34/34 [==============================] - 0s 2ms/step - loss: 6506.8066 - mae: 6506.8066\n",
            "Epoch 45/100\n",
            "34/34 [==============================] - 0s 2ms/step - loss: 6493.5718 - mae: 6493.5718\n",
            "Epoch 46/100\n",
            "34/34 [==============================] - 0s 2ms/step - loss: 6475.9258 - mae: 6475.9258\n",
            "Epoch 47/100\n",
            "34/34 [==============================] - 0s 2ms/step - loss: 6458.8979 - mae: 6458.8979\n",
            "Epoch 48/100\n",
            "34/34 [==============================] - 0s 2ms/step - loss: 6445.1494 - mae: 6445.1494\n",
            "Epoch 49/100\n",
            "34/34 [==============================] - 0s 2ms/step - loss: 6430.9639 - mae: 6430.9639\n",
            "Epoch 50/100\n",
            "34/34 [==============================] - 0s 2ms/step - loss: 6417.7510 - mae: 6417.7510\n",
            "Epoch 51/100\n",
            "34/34 [==============================] - 0s 2ms/step - loss: 6403.2759 - mae: 6403.2759\n",
            "Epoch 52/100\n",
            "34/34 [==============================] - 0s 2ms/step - loss: 6392.4141 - mae: 6392.4141\n",
            "Epoch 53/100\n",
            "34/34 [==============================] - 0s 2ms/step - loss: 6378.7451 - mae: 6378.7451\n",
            "Epoch 54/100\n",
            "34/34 [==============================] - 0s 2ms/step - loss: 6364.9131 - mae: 6364.9131\n",
            "Epoch 55/100\n",
            "34/34 [==============================] - 0s 2ms/step - loss: 6351.5273 - mae: 6351.5273\n",
            "Epoch 56/100\n",
            "34/34 [==============================] - 0s 2ms/step - loss: 6337.6602 - mae: 6337.6602\n",
            "Epoch 57/100\n",
            "34/34 [==============================] - 0s 2ms/step - loss: 6324.8369 - mae: 6324.8369\n",
            "Epoch 58/100\n",
            "34/34 [==============================] - 0s 2ms/step - loss: 6310.1943 - mae: 6310.1943\n",
            "Epoch 59/100\n",
            "34/34 [==============================] - 0s 2ms/step - loss: 6295.6035 - mae: 6295.6035\n",
            "Epoch 60/100\n",
            "34/34 [==============================] - 0s 2ms/step - loss: 6284.8696 - mae: 6284.8696\n",
            "Epoch 61/100\n",
            "34/34 [==============================] - 0s 2ms/step - loss: 6265.6411 - mae: 6265.6411\n",
            "Epoch 62/100\n",
            "34/34 [==============================] - 0s 2ms/step - loss: 6253.0112 - mae: 6253.0112\n",
            "Epoch 63/100\n",
            "34/34 [==============================] - 0s 2ms/step - loss: 6234.9292 - mae: 6234.9292\n",
            "Epoch 64/100\n",
            "34/34 [==============================] - 0s 2ms/step - loss: 6218.0435 - mae: 6218.0435\n",
            "Epoch 65/100\n",
            "34/34 [==============================] - 0s 2ms/step - loss: 6201.1899 - mae: 6201.1899\n",
            "Epoch 66/100\n",
            "34/34 [==============================] - 0s 2ms/step - loss: 6183.9590 - mae: 6183.9590\n",
            "Epoch 67/100\n",
            "34/34 [==============================] - 0s 2ms/step - loss: 6171.2993 - mae: 6171.2993\n",
            "Epoch 68/100\n",
            "34/34 [==============================] - 0s 2ms/step - loss: 6148.8398 - mae: 6148.8398\n",
            "Epoch 69/100\n",
            "34/34 [==============================] - 0s 2ms/step - loss: 6132.5981 - mae: 6132.5981\n",
            "Epoch 70/100\n",
            "34/34 [==============================] - 0s 2ms/step - loss: 6112.3853 - mae: 6112.3853\n",
            "Epoch 71/100\n",
            "34/34 [==============================] - 0s 2ms/step - loss: 6092.7202 - mae: 6092.7202\n",
            "Epoch 72/100\n",
            "34/34 [==============================] - 0s 2ms/step - loss: 6073.7422 - mae: 6073.7422\n",
            "Epoch 73/100\n",
            "34/34 [==============================] - 0s 2ms/step - loss: 6059.4873 - mae: 6059.4873\n",
            "Epoch 74/100\n",
            "34/34 [==============================] - 0s 2ms/step - loss: 6031.3848 - mae: 6031.3848\n",
            "Epoch 75/100\n",
            "34/34 [==============================] - 0s 2ms/step - loss: 6010.3350 - mae: 6010.3350\n",
            "Epoch 76/100\n",
            "34/34 [==============================] - 0s 2ms/step - loss: 5995.2178 - mae: 5995.2178\n",
            "Epoch 77/100\n",
            "34/34 [==============================] - 0s 2ms/step - loss: 5963.0723 - mae: 5963.0723\n",
            "Epoch 78/100\n",
            "34/34 [==============================] - 0s 2ms/step - loss: 5940.0605 - mae: 5940.0605\n",
            "Epoch 79/100\n",
            "34/34 [==============================] - 0s 2ms/step - loss: 5915.1064 - mae: 5915.1064\n",
            "Epoch 80/100\n",
            "34/34 [==============================] - 0s 2ms/step - loss: 5887.9990 - mae: 5887.9990\n",
            "Epoch 81/100\n",
            "34/34 [==============================] - 0s 2ms/step - loss: 5861.6992 - mae: 5861.6992\n",
            "Epoch 82/100\n",
            "34/34 [==============================] - 0s 2ms/step - loss: 5834.3066 - mae: 5834.3066\n",
            "Epoch 83/100\n",
            "34/34 [==============================] - 0s 2ms/step - loss: 5805.8237 - mae: 5805.8237\n",
            "Epoch 84/100\n",
            "34/34 [==============================] - 0s 2ms/step - loss: 5772.3232 - mae: 5772.3232\n",
            "Epoch 85/100\n",
            "34/34 [==============================] - 0s 3ms/step - loss: 5745.1514 - mae: 5745.1514\n",
            "Epoch 86/100\n",
            "34/34 [==============================] - 0s 2ms/step - loss: 5711.3477 - mae: 5711.3477\n",
            "Epoch 87/100\n",
            "34/34 [==============================] - 0s 2ms/step - loss: 5674.5215 - mae: 5674.5215\n",
            "Epoch 88/100\n",
            "34/34 [==============================] - 0s 2ms/step - loss: 5639.4927 - mae: 5639.4927\n",
            "Epoch 89/100\n",
            "34/34 [==============================] - 0s 2ms/step - loss: 5600.6655 - mae: 5600.6655\n",
            "Epoch 90/100\n",
            "34/34 [==============================] - 0s 2ms/step - loss: 5559.4326 - mae: 5559.4326\n",
            "Epoch 91/100\n",
            "34/34 [==============================] - 0s 2ms/step - loss: 5523.6187 - mae: 5523.6187\n",
            "Epoch 92/100\n",
            "34/34 [==============================] - 0s 2ms/step - loss: 5474.1250 - mae: 5474.1250\n",
            "Epoch 93/100\n",
            "34/34 [==============================] - 0s 2ms/step - loss: 5432.2656 - mae: 5432.2656\n",
            "Epoch 94/100\n",
            "34/34 [==============================] - 0s 2ms/step - loss: 5386.0527 - mae: 5386.0527\n",
            "Epoch 95/100\n",
            "34/34 [==============================] - 0s 2ms/step - loss: 5333.1812 - mae: 5333.1812\n",
            "Epoch 96/100\n",
            "34/34 [==============================] - 0s 2ms/step - loss: 5288.8159 - mae: 5288.8159\n",
            "Epoch 97/100\n",
            "34/34 [==============================] - 0s 2ms/step - loss: 5234.6792 - mae: 5234.6792\n",
            "Epoch 98/100\n",
            "34/34 [==============================] - 0s 2ms/step - loss: 5170.9360 - mae: 5170.9360\n",
            "Epoch 99/100\n",
            "34/34 [==============================] - 0s 2ms/step - loss: 5112.9443 - mae: 5112.9443\n",
            "Epoch 100/100\n",
            "34/34 [==============================] - 0s 2ms/step - loss: 5059.8643 - mae: 5059.8643\n"
          ]
        },
        {
          "output_type": "execute_result",
          "data": {
            "text/plain": [
              "<keras.callbacks.History at 0x7efcbc2d2e50>"
            ]
          },
          "metadata": {},
          "execution_count": 89
        }
      ]
    },
    {
      "cell_type": "code",
      "source": [
        "tf.random.set_seed(42)\n",
        "\n",
        "insurance_model_3 = tf.keras.Sequential([\n",
        "            tf.keras.layers.Dense(100),\n",
        "            tf.keras.layers.Dense(10),\n",
        "            tf.keras.layers.Dense(1)\n",
        "])\n",
        "\n",
        "insurance_model_3.compile(loss = tf.keras.losses.mae,\n",
        "                          optimizer = tf.keras.optimizers.Adam(),\n",
        "                          metrics = [\"mae\"])\n",
        "\n",
        "history = insurance_model_3.fit(X_train, y_train, epochs= 200)"
      ],
      "metadata": {
        "colab": {
          "base_uri": "https://localhost:8080/"
        },
        "id": "VfQ6vspCW3l6",
        "outputId": "c5152a47-b4be-4747-aad3-b6c01200913f"
      },
      "execution_count": 91,
      "outputs": [
        {
          "output_type": "stream",
          "name": "stdout",
          "text": [
            "Epoch 1/200\n",
            "34/34 [==============================] - 2s 7ms/step - loss: 13273.1602 - mae: 13273.1602\n",
            "Epoch 2/200\n",
            "34/34 [==============================] - 0s 6ms/step - loss: 13104.4297 - mae: 13104.4297\n",
            "Epoch 3/200\n",
            "34/34 [==============================] - 0s 6ms/step - loss: 12749.5420 - mae: 12749.5420\n",
            "Epoch 4/200\n",
            "34/34 [==============================] - 0s 4ms/step - loss: 12055.7500 - mae: 12055.7500\n",
            "Epoch 5/200\n",
            "34/34 [==============================] - 0s 4ms/step - loss: 10905.8154 - mae: 10905.8154\n",
            "Epoch 6/200\n",
            "34/34 [==============================] - 0s 8ms/step - loss: 9457.7217 - mae: 9457.7217\n",
            "Epoch 7/200\n",
            "34/34 [==============================] - 0s 5ms/step - loss: 8147.6543 - mae: 8147.6543\n",
            "Epoch 8/200\n",
            "34/34 [==============================] - 0s 4ms/step - loss: 7528.8413 - mae: 7528.8413\n",
            "Epoch 9/200\n",
            "34/34 [==============================] - 0s 6ms/step - loss: 7429.1528 - mae: 7429.1528\n",
            "Epoch 10/200\n",
            "34/34 [==============================] - 0s 4ms/step - loss: 7409.0811 - mae: 7409.0811\n",
            "Epoch 11/200\n",
            "34/34 [==============================] - 0s 8ms/step - loss: 7390.8042 - mae: 7390.8042\n",
            "Epoch 12/200\n",
            "34/34 [==============================] - 0s 7ms/step - loss: 7368.9170 - mae: 7368.9170\n",
            "Epoch 13/200\n",
            "34/34 [==============================] - 0s 9ms/step - loss: 7348.5190 - mae: 7348.5190\n",
            "Epoch 14/200\n",
            "34/34 [==============================] - 0s 6ms/step - loss: 7326.4893 - mae: 7326.4893\n",
            "Epoch 15/200\n",
            "34/34 [==============================] - 0s 5ms/step - loss: 7307.5811 - mae: 7307.5811\n",
            "Epoch 16/200\n",
            "34/34 [==============================] - 0s 5ms/step - loss: 7285.7734 - mae: 7285.7734\n",
            "Epoch 17/200\n",
            "34/34 [==============================] - 0s 8ms/step - loss: 7265.7104 - mae: 7265.7104\n",
            "Epoch 18/200\n",
            "34/34 [==============================] - 0s 8ms/step - loss: 7242.5488 - mae: 7242.5488\n",
            "Epoch 19/200\n",
            "34/34 [==============================] - 0s 7ms/step - loss: 7220.5068 - mae: 7220.5068\n",
            "Epoch 20/200\n",
            "34/34 [==============================] - 0s 5ms/step - loss: 7197.1978 - mae: 7197.1978\n",
            "Epoch 21/200\n",
            "34/34 [==============================] - 0s 5ms/step - loss: 7179.0195 - mae: 7179.0195\n",
            "Epoch 22/200\n",
            "34/34 [==============================] - 0s 3ms/step - loss: 7151.2104 - mae: 7151.2104\n",
            "Epoch 23/200\n",
            "34/34 [==============================] - 0s 4ms/step - loss: 7126.4639 - mae: 7126.4639\n",
            "Epoch 24/200\n",
            "34/34 [==============================] - 0s 6ms/step - loss: 7101.9199 - mae: 7101.9199\n",
            "Epoch 25/200\n",
            "34/34 [==============================] - 0s 7ms/step - loss: 7084.3379 - mae: 7084.3379\n",
            "Epoch 26/200\n",
            "34/34 [==============================] - 0s 5ms/step - loss: 7052.3291 - mae: 7052.3291\n",
            "Epoch 27/200\n",
            "34/34 [==============================] - 0s 7ms/step - loss: 7024.3511 - mae: 7024.3511\n",
            "Epoch 28/200\n",
            "34/34 [==============================] - 0s 5ms/step - loss: 6996.6963 - mae: 6996.6963\n",
            "Epoch 29/200\n",
            "34/34 [==============================] - 0s 5ms/step - loss: 6969.0112 - mae: 6969.0112\n",
            "Epoch 30/200\n",
            "34/34 [==============================] - 0s 5ms/step - loss: 6942.1899 - mae: 6942.1899\n",
            "Epoch 31/200\n",
            "34/34 [==============================] - 0s 3ms/step - loss: 6911.7280 - mae: 6911.7280\n",
            "Epoch 32/200\n",
            "34/34 [==============================] - 0s 5ms/step - loss: 6884.0205 - mae: 6884.0205\n",
            "Epoch 33/200\n",
            "34/34 [==============================] - 0s 6ms/step - loss: 6853.4648 - mae: 6853.4648\n",
            "Epoch 34/200\n",
            "34/34 [==============================] - 0s 5ms/step - loss: 6823.0674 - mae: 6823.0674\n",
            "Epoch 35/200\n",
            "34/34 [==============================] - 0s 6ms/step - loss: 6789.6855 - mae: 6789.6855\n",
            "Epoch 36/200\n",
            "34/34 [==============================] - 0s 6ms/step - loss: 6755.7646 - mae: 6755.7646\n",
            "Epoch 37/200\n",
            "34/34 [==============================] - 0s 4ms/step - loss: 6720.2026 - mae: 6720.2026\n",
            "Epoch 38/200\n",
            "34/34 [==============================] - 0s 5ms/step - loss: 6689.7158 - mae: 6689.7158\n",
            "Epoch 39/200\n",
            "34/34 [==============================] - 0s 4ms/step - loss: 6652.4609 - mae: 6652.4609\n",
            "Epoch 40/200\n",
            "34/34 [==============================] - 0s 5ms/step - loss: 6618.1016 - mae: 6618.1016\n",
            "Epoch 41/200\n",
            "34/34 [==============================] - 0s 6ms/step - loss: 6585.8633 - mae: 6585.8633\n",
            "Epoch 42/200\n",
            "34/34 [==============================] - 0s 8ms/step - loss: 6559.4956 - mae: 6559.4956\n",
            "Epoch 43/200\n",
            "34/34 [==============================] - 0s 7ms/step - loss: 6530.0439 - mae: 6530.0439\n",
            "Epoch 44/200\n",
            "34/34 [==============================] - 0s 5ms/step - loss: 6506.8066 - mae: 6506.8066\n",
            "Epoch 45/200\n",
            "34/34 [==============================] - 0s 4ms/step - loss: 6493.5718 - mae: 6493.5718\n",
            "Epoch 46/200\n",
            "34/34 [==============================] - 0s 6ms/step - loss: 6475.9258 - mae: 6475.9258\n",
            "Epoch 47/200\n",
            "34/34 [==============================] - 0s 5ms/step - loss: 6458.8979 - mae: 6458.8979\n",
            "Epoch 48/200\n",
            "34/34 [==============================] - 0s 9ms/step - loss: 6445.1494 - mae: 6445.1494\n",
            "Epoch 49/200\n",
            "34/34 [==============================] - 0s 6ms/step - loss: 6430.9639 - mae: 6430.9639\n",
            "Epoch 50/200\n",
            "34/34 [==============================] - 0s 7ms/step - loss: 6417.7510 - mae: 6417.7510\n",
            "Epoch 51/200\n",
            "34/34 [==============================] - 0s 6ms/step - loss: 6403.2759 - mae: 6403.2759\n",
            "Epoch 52/200\n",
            "34/34 [==============================] - 0s 6ms/step - loss: 6392.4141 - mae: 6392.4141\n",
            "Epoch 53/200\n",
            "34/34 [==============================] - 0s 4ms/step - loss: 6378.7451 - mae: 6378.7451\n",
            "Epoch 54/200\n",
            "34/34 [==============================] - 0s 6ms/step - loss: 6364.9131 - mae: 6364.9131\n",
            "Epoch 55/200\n",
            "34/34 [==============================] - 0s 7ms/step - loss: 6351.5273 - mae: 6351.5273\n",
            "Epoch 56/200\n",
            "34/34 [==============================] - 0s 5ms/step - loss: 6337.6602 - mae: 6337.6602\n",
            "Epoch 57/200\n",
            "34/34 [==============================] - 0s 5ms/step - loss: 6324.8369 - mae: 6324.8369\n",
            "Epoch 58/200\n",
            "34/34 [==============================] - 0s 4ms/step - loss: 6310.1943 - mae: 6310.1943\n",
            "Epoch 59/200\n",
            "34/34 [==============================] - 0s 6ms/step - loss: 6295.6035 - mae: 6295.6035\n",
            "Epoch 60/200\n",
            "34/34 [==============================] - 0s 6ms/step - loss: 6284.8696 - mae: 6284.8696\n",
            "Epoch 61/200\n",
            "34/34 [==============================] - 0s 4ms/step - loss: 6265.6411 - mae: 6265.6411\n",
            "Epoch 62/200\n",
            "34/34 [==============================] - 0s 5ms/step - loss: 6253.0112 - mae: 6253.0112\n",
            "Epoch 63/200\n",
            "34/34 [==============================] - 0s 7ms/step - loss: 6234.9292 - mae: 6234.9292\n",
            "Epoch 64/200\n",
            "34/34 [==============================] - 0s 8ms/step - loss: 6218.0435 - mae: 6218.0435\n",
            "Epoch 65/200\n",
            "34/34 [==============================] - 0s 8ms/step - loss: 6201.1899 - mae: 6201.1899\n",
            "Epoch 66/200\n",
            "34/34 [==============================] - 0s 6ms/step - loss: 6183.9590 - mae: 6183.9590\n",
            "Epoch 67/200\n",
            "34/34 [==============================] - 0s 5ms/step - loss: 6171.2993 - mae: 6171.2993\n",
            "Epoch 68/200\n",
            "34/34 [==============================] - 0s 5ms/step - loss: 6148.8398 - mae: 6148.8398\n",
            "Epoch 69/200\n",
            "34/34 [==============================] - 0s 9ms/step - loss: 6132.5981 - mae: 6132.5981\n",
            "Epoch 70/200\n",
            "34/34 [==============================] - 0s 6ms/step - loss: 6112.3853 - mae: 6112.3853\n",
            "Epoch 71/200\n",
            "34/34 [==============================] - 0s 7ms/step - loss: 6092.7202 - mae: 6092.7202\n",
            "Epoch 72/200\n",
            "34/34 [==============================] - 0s 6ms/step - loss: 6073.7422 - mae: 6073.7422\n",
            "Epoch 73/200\n",
            "34/34 [==============================] - 0s 6ms/step - loss: 6059.4873 - mae: 6059.4873\n",
            "Epoch 74/200\n",
            "34/34 [==============================] - 0s 7ms/step - loss: 6031.3848 - mae: 6031.3848\n",
            "Epoch 75/200\n",
            "34/34 [==============================] - 0s 4ms/step - loss: 6010.3350 - mae: 6010.3350\n",
            "Epoch 76/200\n",
            "34/34 [==============================] - 0s 7ms/step - loss: 5995.2178 - mae: 5995.2178\n",
            "Epoch 77/200\n",
            "34/34 [==============================] - 0s 9ms/step - loss: 5963.0723 - mae: 5963.0723\n",
            "Epoch 78/200\n",
            "34/34 [==============================] - 0s 7ms/step - loss: 5940.0605 - mae: 5940.0605\n",
            "Epoch 79/200\n",
            "34/34 [==============================] - 0s 5ms/step - loss: 5915.1064 - mae: 5915.1064\n",
            "Epoch 80/200\n",
            "34/34 [==============================] - 0s 7ms/step - loss: 5887.9990 - mae: 5887.9990\n",
            "Epoch 81/200\n",
            "34/34 [==============================] - 0s 9ms/step - loss: 5861.6992 - mae: 5861.6992\n",
            "Epoch 82/200\n",
            "34/34 [==============================] - 0s 9ms/step - loss: 5834.3066 - mae: 5834.3066\n",
            "Epoch 83/200\n",
            "34/34 [==============================] - 0s 9ms/step - loss: 5805.8237 - mae: 5805.8237\n",
            "Epoch 84/200\n",
            "34/34 [==============================] - 0s 9ms/step - loss: 5772.3232 - mae: 5772.3232\n",
            "Epoch 85/200\n",
            "34/34 [==============================] - 0s 9ms/step - loss: 5745.1514 - mae: 5745.1514\n",
            "Epoch 86/200\n",
            "34/34 [==============================] - 0s 6ms/step - loss: 5711.3477 - mae: 5711.3477\n",
            "Epoch 87/200\n",
            "34/34 [==============================] - 0s 7ms/step - loss: 5674.5215 - mae: 5674.5215\n",
            "Epoch 88/200\n",
            "34/34 [==============================] - 0s 6ms/step - loss: 5639.4927 - mae: 5639.4927\n",
            "Epoch 89/200\n",
            "34/34 [==============================] - 0s 4ms/step - loss: 5600.6655 - mae: 5600.6655\n",
            "Epoch 90/200\n",
            "34/34 [==============================] - 0s 4ms/step - loss: 5559.4326 - mae: 5559.4326\n",
            "Epoch 91/200\n",
            "34/34 [==============================] - 0s 3ms/step - loss: 5523.6187 - mae: 5523.6187\n",
            "Epoch 92/200\n",
            "34/34 [==============================] - 0s 3ms/step - loss: 5474.1250 - mae: 5474.1250\n",
            "Epoch 93/200\n",
            "34/34 [==============================] - 0s 6ms/step - loss: 5432.2656 - mae: 5432.2656\n",
            "Epoch 94/200\n",
            "34/34 [==============================] - 0s 4ms/step - loss: 5386.0527 - mae: 5386.0527\n",
            "Epoch 95/200\n",
            "34/34 [==============================] - 0s 3ms/step - loss: 5333.1812 - mae: 5333.1812\n",
            "Epoch 96/200\n",
            "34/34 [==============================] - 0s 4ms/step - loss: 5288.8159 - mae: 5288.8159\n",
            "Epoch 97/200\n",
            "34/34 [==============================] - 0s 4ms/step - loss: 5234.6792 - mae: 5234.6792\n",
            "Epoch 98/200\n",
            "34/34 [==============================] - 0s 4ms/step - loss: 5170.9360 - mae: 5170.9360\n",
            "Epoch 99/200\n",
            "34/34 [==============================] - 0s 2ms/step - loss: 5112.9443 - mae: 5112.9443\n",
            "Epoch 100/200\n",
            "34/34 [==============================] - 0s 2ms/step - loss: 5059.8643 - mae: 5059.8643\n",
            "Epoch 101/200\n",
            "34/34 [==============================] - 0s 2ms/step - loss: 4987.6191 - mae: 4987.6191\n",
            "Epoch 102/200\n",
            "34/34 [==============================] - 0s 2ms/step - loss: 4915.2905 - mae: 4915.2905\n",
            "Epoch 103/200\n",
            "34/34 [==============================] - 0s 2ms/step - loss: 4847.3604 - mae: 4847.3604\n",
            "Epoch 104/200\n",
            "34/34 [==============================] - 0s 2ms/step - loss: 4768.0151 - mae: 4768.0151\n",
            "Epoch 105/200\n",
            "34/34 [==============================] - 0s 2ms/step - loss: 4683.4727 - mae: 4683.4727\n",
            "Epoch 106/200\n",
            "34/34 [==============================] - 0s 2ms/step - loss: 4600.5054 - mae: 4600.5054\n",
            "Epoch 107/200\n",
            "34/34 [==============================] - 0s 2ms/step - loss: 4513.1436 - mae: 4513.1436\n",
            "Epoch 108/200\n",
            "34/34 [==============================] - 0s 2ms/step - loss: 4422.2983 - mae: 4422.2983\n",
            "Epoch 109/200\n",
            "34/34 [==============================] - 0s 2ms/step - loss: 4339.9600 - mae: 4339.9600\n",
            "Epoch 110/200\n",
            "34/34 [==============================] - 0s 2ms/step - loss: 4254.3916 - mae: 4254.3916\n",
            "Epoch 111/200\n",
            "34/34 [==============================] - 0s 2ms/step - loss: 4173.1797 - mae: 4173.1797\n",
            "Epoch 112/200\n",
            "34/34 [==============================] - 0s 2ms/step - loss: 4102.2944 - mae: 4102.2944\n",
            "Epoch 113/200\n",
            "34/34 [==============================] - 0s 6ms/step - loss: 4031.9590 - mae: 4031.9590\n",
            "Epoch 114/200\n",
            "34/34 [==============================] - 0s 4ms/step - loss: 3986.0220 - mae: 3986.0220\n",
            "Epoch 115/200\n",
            "34/34 [==============================] - 0s 4ms/step - loss: 3943.2346 - mae: 3943.2346\n",
            "Epoch 116/200\n",
            "34/34 [==============================] - 0s 7ms/step - loss: 3918.8977 - mae: 3918.8977\n",
            "Epoch 117/200\n",
            "34/34 [==============================] - 0s 4ms/step - loss: 3895.5610 - mae: 3895.5610\n",
            "Epoch 118/200\n",
            "34/34 [==============================] - 0s 4ms/step - loss: 3869.5679 - mae: 3869.5679\n",
            "Epoch 119/200\n",
            "34/34 [==============================] - 0s 4ms/step - loss: 3850.2136 - mae: 3850.2136\n",
            "Epoch 120/200\n",
            "34/34 [==============================] - 0s 3ms/step - loss: 3834.7349 - mae: 3834.7349\n",
            "Epoch 121/200\n",
            "34/34 [==============================] - 0s 6ms/step - loss: 3827.0952 - mae: 3827.0952\n",
            "Epoch 122/200\n",
            "34/34 [==============================] - 0s 4ms/step - loss: 3821.6382 - mae: 3821.6382\n",
            "Epoch 123/200\n",
            "34/34 [==============================] - 0s 4ms/step - loss: 3813.8315 - mae: 3813.8315\n",
            "Epoch 124/200\n",
            "34/34 [==============================] - 0s 5ms/step - loss: 3805.7307 - mae: 3805.7307\n",
            "Epoch 125/200\n",
            "34/34 [==============================] - 0s 4ms/step - loss: 3794.7085 - mae: 3794.7085\n",
            "Epoch 126/200\n",
            "34/34 [==============================] - 0s 4ms/step - loss: 3804.4946 - mae: 3804.4946\n",
            "Epoch 127/200\n",
            "34/34 [==============================] - 0s 5ms/step - loss: 3796.0596 - mae: 3796.0596\n",
            "Epoch 128/200\n",
            "34/34 [==============================] - 0s 5ms/step - loss: 3791.0422 - mae: 3791.0422\n",
            "Epoch 129/200\n",
            "34/34 [==============================] - 0s 5ms/step - loss: 3800.0696 - mae: 3800.0696\n",
            "Epoch 130/200\n",
            "34/34 [==============================] - 0s 5ms/step - loss: 3788.5005 - mae: 3788.5005\n",
            "Epoch 131/200\n",
            "34/34 [==============================] - 0s 9ms/step - loss: 3780.8442 - mae: 3780.8442\n",
            "Epoch 132/200\n",
            "34/34 [==============================] - 0s 6ms/step - loss: 3774.5413 - mae: 3774.5413\n",
            "Epoch 133/200\n",
            "34/34 [==============================] - 0s 3ms/step - loss: 3771.0156 - mae: 3771.0156\n",
            "Epoch 134/200\n",
            "34/34 [==============================] - 0s 4ms/step - loss: 3769.3762 - mae: 3769.3762\n",
            "Epoch 135/200\n",
            "34/34 [==============================] - 0s 4ms/step - loss: 3766.7612 - mae: 3766.7612\n",
            "Epoch 136/200\n",
            "34/34 [==============================] - 0s 5ms/step - loss: 3765.5510 - mae: 3765.5510\n",
            "Epoch 137/200\n",
            "34/34 [==============================] - 0s 6ms/step - loss: 3774.5034 - mae: 3774.5034\n",
            "Epoch 138/200\n",
            "34/34 [==============================] - 0s 7ms/step - loss: 3785.3909 - mae: 3785.3909\n",
            "Epoch 139/200\n",
            "34/34 [==============================] - 0s 7ms/step - loss: 3761.1299 - mae: 3761.1299\n",
            "Epoch 140/200\n",
            "34/34 [==============================] - 0s 5ms/step - loss: 3764.1753 - mae: 3764.1753\n",
            "Epoch 141/200\n",
            "34/34 [==============================] - 0s 5ms/step - loss: 3763.9250 - mae: 3763.9250\n",
            "Epoch 142/200\n",
            "34/34 [==============================] - 0s 4ms/step - loss: 3762.7959 - mae: 3762.7959\n",
            "Epoch 143/200\n",
            "34/34 [==============================] - 0s 8ms/step - loss: 3754.4397 - mae: 3754.4397\n",
            "Epoch 144/200\n",
            "34/34 [==============================] - 0s 5ms/step - loss: 3750.3347 - mae: 3750.3347\n",
            "Epoch 145/200\n",
            "34/34 [==============================] - 0s 8ms/step - loss: 3750.4006 - mae: 3750.4006\n",
            "Epoch 146/200\n",
            "34/34 [==============================] - 0s 4ms/step - loss: 3755.4736 - mae: 3755.4736\n",
            "Epoch 147/200\n",
            "34/34 [==============================] - 0s 4ms/step - loss: 3750.3223 - mae: 3750.3223\n",
            "Epoch 148/200\n",
            "34/34 [==============================] - 0s 5ms/step - loss: 3758.1089 - mae: 3758.1089\n",
            "Epoch 149/200\n",
            "34/34 [==============================] - 0s 5ms/step - loss: 3743.4858 - mae: 3743.4858\n",
            "Epoch 150/200\n",
            "34/34 [==============================] - 0s 4ms/step - loss: 3738.5342 - mae: 3738.5342\n",
            "Epoch 151/200\n",
            "34/34 [==============================] - 0s 5ms/step - loss: 3740.1384 - mae: 3740.1384\n",
            "Epoch 152/200\n",
            "34/34 [==============================] - 0s 8ms/step - loss: 3742.4954 - mae: 3742.4954\n",
            "Epoch 153/200\n",
            "34/34 [==============================] - 0s 8ms/step - loss: 3744.4395 - mae: 3744.4395\n",
            "Epoch 154/200\n",
            "34/34 [==============================] - 0s 5ms/step - loss: 3737.1826 - mae: 3737.1826\n",
            "Epoch 155/200\n",
            "34/34 [==============================] - 0s 5ms/step - loss: 3737.6541 - mae: 3737.6541\n",
            "Epoch 156/200\n",
            "34/34 [==============================] - 0s 4ms/step - loss: 3737.1663 - mae: 3737.1663\n",
            "Epoch 157/200\n",
            "34/34 [==============================] - 0s 6ms/step - loss: 3733.1101 - mae: 3733.1101\n",
            "Epoch 158/200\n",
            "34/34 [==============================] - 0s 3ms/step - loss: 3729.5813 - mae: 3729.5813\n",
            "Epoch 159/200\n",
            "34/34 [==============================] - 0s 3ms/step - loss: 3725.9053 - mae: 3725.9053\n",
            "Epoch 160/200\n",
            "34/34 [==============================] - 0s 3ms/step - loss: 3733.2822 - mae: 3733.2822\n",
            "Epoch 161/200\n",
            "34/34 [==============================] - 0s 4ms/step - loss: 3728.2559 - mae: 3728.2559\n",
            "Epoch 162/200\n",
            "34/34 [==============================] - 0s 3ms/step - loss: 3724.5825 - mae: 3724.5825\n",
            "Epoch 163/200\n",
            "34/34 [==============================] - 0s 3ms/step - loss: 3723.0806 - mae: 3723.0806\n",
            "Epoch 164/200\n",
            "34/34 [==============================] - 0s 3ms/step - loss: 3726.9475 - mae: 3726.9475\n",
            "Epoch 165/200\n",
            "34/34 [==============================] - 0s 3ms/step - loss: 3716.5430 - mae: 3716.5430\n",
            "Epoch 166/200\n",
            "34/34 [==============================] - 0s 4ms/step - loss: 3721.9155 - mae: 3721.9155\n",
            "Epoch 167/200\n",
            "34/34 [==============================] - 0s 3ms/step - loss: 3721.1814 - mae: 3721.1814\n",
            "Epoch 168/200\n",
            "34/34 [==============================] - 0s 4ms/step - loss: 3715.2458 - mae: 3715.2458\n",
            "Epoch 169/200\n",
            "34/34 [==============================] - 0s 4ms/step - loss: 3713.9756 - mae: 3713.9756\n",
            "Epoch 170/200\n",
            "34/34 [==============================] - 0s 4ms/step - loss: 3707.9922 - mae: 3707.9922\n",
            "Epoch 171/200\n",
            "34/34 [==============================] - 0s 3ms/step - loss: 3707.4158 - mae: 3707.4158\n",
            "Epoch 172/200\n",
            "34/34 [==============================] - 0s 4ms/step - loss: 3710.6833 - mae: 3710.6833\n",
            "Epoch 173/200\n",
            "34/34 [==============================] - 0s 3ms/step - loss: 3703.3618 - mae: 3703.3618\n",
            "Epoch 174/200\n",
            "34/34 [==============================] - 0s 4ms/step - loss: 3710.9385 - mae: 3710.9385\n",
            "Epoch 175/200\n",
            "34/34 [==============================] - 0s 5ms/step - loss: 3713.0417 - mae: 3713.0417\n",
            "Epoch 176/200\n",
            "34/34 [==============================] - 0s 4ms/step - loss: 3705.0571 - mae: 3705.0571\n",
            "Epoch 177/200\n",
            "34/34 [==============================] - 0s 4ms/step - loss: 3698.9333 - mae: 3698.9333\n",
            "Epoch 178/200\n",
            "34/34 [==============================] - 0s 4ms/step - loss: 3697.9983 - mae: 3697.9983\n",
            "Epoch 179/200\n",
            "34/34 [==============================] - 0s 5ms/step - loss: 3704.9150 - mae: 3704.9150\n",
            "Epoch 180/200\n",
            "34/34 [==============================] - 0s 4ms/step - loss: 3710.3679 - mae: 3710.3679\n",
            "Epoch 181/200\n",
            "34/34 [==============================] - 0s 4ms/step - loss: 3696.6482 - mae: 3696.6482\n",
            "Epoch 182/200\n",
            "34/34 [==============================] - 0s 6ms/step - loss: 3692.7329 - mae: 3692.7329\n",
            "Epoch 183/200\n",
            "34/34 [==============================] - 0s 5ms/step - loss: 3691.1655 - mae: 3691.1655\n",
            "Epoch 184/200\n",
            "34/34 [==============================] - 0s 4ms/step - loss: 3699.2437 - mae: 3699.2437\n",
            "Epoch 185/200\n",
            "34/34 [==============================] - 0s 4ms/step - loss: 3693.2480 - mae: 3693.2480\n",
            "Epoch 186/200\n",
            "34/34 [==============================] - 0s 5ms/step - loss: 3696.1389 - mae: 3696.1389\n",
            "Epoch 187/200\n",
            "34/34 [==============================] - 0s 6ms/step - loss: 3687.8640 - mae: 3687.8640\n",
            "Epoch 188/200\n",
            "34/34 [==============================] - 0s 3ms/step - loss: 3693.3562 - mae: 3693.3562\n",
            "Epoch 189/200\n",
            "34/34 [==============================] - 0s 3ms/step - loss: 3682.7324 - mae: 3682.7324\n",
            "Epoch 190/200\n",
            "34/34 [==============================] - 0s 5ms/step - loss: 3683.2891 - mae: 3683.2891\n",
            "Epoch 191/200\n",
            "34/34 [==============================] - 0s 4ms/step - loss: 3697.6536 - mae: 3697.6536\n",
            "Epoch 192/200\n",
            "34/34 [==============================] - 0s 5ms/step - loss: 3684.6665 - mae: 3684.6665\n",
            "Epoch 193/200\n",
            "34/34 [==============================] - 0s 5ms/step - loss: 3675.5154 - mae: 3675.5154\n",
            "Epoch 194/200\n",
            "34/34 [==============================] - 0s 3ms/step - loss: 3676.3923 - mae: 3676.3923\n",
            "Epoch 195/200\n",
            "34/34 [==============================] - 0s 3ms/step - loss: 3672.8452 - mae: 3672.8452\n",
            "Epoch 196/200\n",
            "34/34 [==============================] - 0s 4ms/step - loss: 3682.0283 - mae: 3682.0283\n",
            "Epoch 197/200\n",
            "34/34 [==============================] - 0s 6ms/step - loss: 3665.7961 - mae: 3665.7961\n",
            "Epoch 198/200\n",
            "34/34 [==============================] - 0s 5ms/step - loss: 3671.7419 - mae: 3671.7419\n",
            "Epoch 199/200\n",
            "34/34 [==============================] - 0s 5ms/step - loss: 3680.5464 - mae: 3680.5464\n",
            "Epoch 200/200\n",
            "34/34 [==============================] - 0s 4ms/step - loss: 3665.6401 - mae: 3665.6401\n"
          ]
        }
      ]
    },
    {
      "cell_type": "code",
      "source": [
        "pd.DataFrame(history.history).plot()\n"
      ],
      "metadata": {
        "colab": {
          "base_uri": "https://localhost:8080/",
          "height": 283
        },
        "id": "41AHNmi1YxnQ",
        "outputId": "1f027d23-fb42-45e7-d9bc-572dfc7abf2e"
      },
      "execution_count": 92,
      "outputs": [
        {
          "output_type": "execute_result",
          "data": {
            "text/plain": [
              "<matplotlib.axes._subplots.AxesSubplot at 0x7efc9d14f750>"
            ]
          },
          "metadata": {},
          "execution_count": 92
        },
        {
          "output_type": "display_data",
          "data": {
            "text/plain": [
              "<Figure size 432x288 with 1 Axes>"
            ],
            "image/png": "[encoded data removed]"
          },
          "metadata": {
            "needs_background": "light"
          }
        }
      ]
    },
    {
      "cell_type": "code",
      "source": [
        "insurance_model.evaluate(np.asarray(X_test), y_test)"
      ],
      "metadata": {
        "colab": {
          "base_uri": "https://localhost:8080/"
        },
        "id": "HFVGZfhzgK0-",
        "outputId": "6c54ce15-c407-4177-f702-222599e288ce"
      },
      "execution_count": 93,
      "outputs": [
        {
          "output_type": "stream",
          "name": "stdout",
          "text": [
            "9/9 [==============================] - 0s 2ms/step - loss: 7023.3291 - mae: 7023.3291\n"
          ]
        },
        {
          "output_type": "execute_result",
          "data": {
            "text/plain": [
              "[7023.3291015625, 7023.3291015625]"
            ]
          },
          "metadata": {},
          "execution_count": 93
        }
      ]
    },
    {
      "cell_type": "markdown",
      "source": [
        "**How long shuld you train ?** \n",
        "\n",
        "It depends... really it depends on the use case..\n",
        "\n",
        "One way is to use EarlyStopping Callback provided by Tensorflow.."
      ],
      "metadata": {
        "id": "MeYB2dSZZTr5"
      }
    },
    {
      "cell_type": "markdown",
      "source": [
        "# Preprocessing Dat (Normaliztion and Standardization)"
      ],
      "metadata": {
        "id": "3kLWJGG-aGcr"
      }
    },
    {
      "cell_type": "code",
      "source": [
        "import pandas as pd\n",
        "import matplotlib.pyplot as plt \n",
        "import tensorflow as tf"
      ],
      "metadata": {
        "id": "0hYjO7ipaeFp"
      },
      "execution_count": 94,
      "outputs": []
    },
    {
      "cell_type": "code",
      "source": [
        "insurance = pd.read_csv(\"https://raw.githubusercontent.com/stedy/Machine-Learning-with-R-datasets/master/insurance.csv\")\n",
        "insurance"
      ],
      "metadata": {
        "colab": {
          "base_uri": "https://localhost:8080/",
          "height": 424
        },
        "id": "vzIbvdV5cUnl",
        "outputId": "cff9b984-a253-499f-fce9-c85917918015"
      },
      "execution_count": 96,
      "outputs": [
        {
          "output_type": "execute_result",
          "data": {
            "text/plain": [
              "      age     sex     bmi  children smoker     region      charges\n",
              "0      19  female  27.900         0    yes  southwest  16884.92400\n",
              "1      18    male  33.770         1     no  southeast   1725.55230\n",
              "2      28    male  33.000         3     no  southeast   4449.46200\n",
              "3      33    male  22.705         0     no  northwest  21984.47061\n",
              "4      32    male  28.880         0     no  northwest   3866.85520\n",
              "...   ...     ...     ...       ...    ...        ...          ...\n",
              "1333   50    male  30.970         3     no  northwest  10600.54830\n",
              "1334   18  female  31.920         0     no  northeast   2205.98080\n",
              "1335   18  female  36.850         0     no  southeast   1629.83350\n",
              "1336   21  female  25.800         0     no  southwest   2007.94500\n",
              "1337   61  female  29.070         0    yes  northwest  29141.36030\n",
              "\n",
              "[1338 rows x 7 columns]"
            ],
            "text/html": [
              "\n",
              "  <div id=\"df-f11dfbf1-9faf-41b7-8d56-bb45e578a114\">\n",
              "    <div class=\"colab-df-container\">\n",
              "      <div>\n",
              "<style scoped>\n",
              "    .dataframe tbody tr th:only-of-type {\n",
              "        vertical-align: middle;\n",
              "    }\n",
              "\n",
              "    .dataframe tbody tr th {\n",
              "        vertical-align: top;\n",
              "    }\n",
              "\n",
              "    .dataframe thead th {\n",
              "        text-align: right;\n",
              "    }\n",
              "</style>\n",
              "<table border=\"1\" class=\"dataframe\">\n",
              "  <thead>\n",
              "    <tr style=\"text-align: right;\">\n",
              "      <th></th>\n",
              "      <th>age</th>\n",
              "      <th>sex</th>\n",
              "      <th>bmi</th>\n",
              "      <th>children</th>\n",
              "      <th>smoker</th>\n",
              "      <th>region</th>\n",
              "      <th>charges</th>\n",
              "    </tr>\n",
              "  </thead>\n",
              "  <tbody>\n",
              "    <tr>\n",
              "      <th>0</th>\n",
              "      <td>19</td>\n",
              "      <td>female</td>\n",
              "      <td>27.900</td>\n",
              "      <td>0</td>\n",
              "      <td>yes</td>\n",
              "      <td>southwest</td>\n",
              "      <td>16884.92400</td>\n",
              "    </tr>\n",
              "    <tr>\n",
              "      <th>1</th>\n",
              "      <td>18</td>\n",
              "      <td>male</td>\n",
              "      <td>33.770</td>\n",
              "      <td>1</td>\n",
              "      <td>no</td>\n",
              "      <td>southeast</td>\n",
              "      <td>1725.55230</td>\n",
              "    </tr>\n",
              "    <tr>\n",
              "      <th>2</th>\n",
              "      <td>28</td>\n",
              "      <td>male</td>\n",
              "      <td>33.000</td>\n",
              "      <td>3</td>\n",
              "      <td>no</td>\n",
              "      <td>southeast</td>\n",
              "      <td>4449.46200</td>\n",
              "    </tr>\n",
              "    <tr>\n",
              "      <th>3</th>\n",
              "      <td>33</td>\n",
              "      <td>male</td>\n",
              "      <td>22.705</td>\n",
              "      <td>0</td>\n",
              "      <td>no</td>\n",
              "      <td>northwest</td>\n",
              "      <td>21984.47061</td>\n",
              "    </tr>\n",
              "    <tr>\n",
              "      <th>4</th>\n",
              "      <td>32</td>\n",
              "      <td>male</td>\n",
              "      <td>28.880</td>\n",
              "      <td>0</td>\n",
              "      <td>no</td>\n",
              "      <td>northwest</td>\n",
              "      <td>3866.85520</td>\n",
              "    </tr>\n",
              "    <tr>\n",
              "      <th>...</th>\n",
              "      <td>...</td>\n",
              "      <td>...</td>\n",
              "      <td>...</td>\n",
              "      <td>...</td>\n",
              "      <td>...</td>\n",
              "      <td>...</td>\n",
              "      <td>...</td>\n",
              "    </tr>\n",
              "    <tr>\n",
              "      <th>1333</th>\n",
              "      <td>50</td>\n",
              "      <td>male</td>\n",
              "      <td>30.970</td>\n",
              "      <td>3</td>\n",
              "      <td>no</td>\n",
              "      <td>northwest</td>\n",
              "      <td>10600.54830</td>\n",
              "    </tr>\n",
              "    <tr>\n",
              "      <th>1334</th>\n",
              "      <td>18</td>\n",
              "      <td>female</td>\n",
              "      <td>31.920</td>\n",
              "      <td>0</td>\n",
              "      <td>no</td>\n",
              "      <td>northeast</td>\n",
              "      <td>2205.98080</td>\n",
              "    </tr>\n",
              "    <tr>\n",
              "      <th>1335</th>\n",
              "      <td>18</td>\n",
              "      <td>female</td>\n",
              "      <td>36.850</td>\n",
              "      <td>0</td>\n",
              "      <td>no</td>\n",
              "      <td>southeast</td>\n",
              "      <td>1629.83350</td>\n",
              "    </tr>\n",
              "    <tr>\n",
              "      <th>1336</th>\n",
              "      <td>21</td>\n",
              "      <td>female</td>\n",
              "      <td>25.800</td>\n",
              "      <td>0</td>\n",
              "      <td>no</td>\n",
              "      <td>southwest</td>\n",
              "      <td>2007.94500</td>\n",
              "    </tr>\n",
              "    <tr>\n",
              "      <th>1337</th>\n",
              "      <td>61</td>\n",
              "      <td>female</td>\n",
              "      <td>29.070</td>\n",
              "      <td>0</td>\n",
              "      <td>yes</td>\n",
              "      <td>northwest</td>\n",
              "      <td>29141.36030</td>\n",
              "    </tr>\n",
              "  </tbody>\n",
              "</table>\n",
              "<p>1338 rows × 7 columns</p>\n",
              "</div>\n",
              "      <button class=\"colab-df-convert\" onclick=\"convertToInteractive('df-f11dfbf1-9faf-41b7-8d56-bb45e578a114')\"\n",
              "              title=\"Convert this dataframe to an interactive table.\"\n",
              "              style=\"display:none;\">\n",
              "        \n",
              "  <svg xmlns=\"http://www.w3.org/2000/svg\" height=\"24px\"viewBox=\"0 0 24 24\"\n",
              "       width=\"24px\">\n",
              "    <path d=\"M0 0h24v24H0V0z\" fill=\"none\"/>\n",
              "    <path d=\"M18.56 5.44l.94 2.06.94-2.06 2.06-.94-2.06-.94-.94-2.06-.94 2.06-2.06.94zm-11 1L8.5 8.5l.94-2.06 2.06-.94-2.06-.94L8.5 2.5l-.94 2.06-2.06.94zm10 10l.94 2.06.94-2.06 2.06-.94-2.06-.94-.94-2.06-.94 2.06-2.06.94z\"/><path d=\"M17.41 7.96l-1.37-1.37c-.4-.4-.92-.59-1.43-.59-.52 0-1.04.2-1.43.59L10.3 9.45l-7.72 7.72c-.78.78-.78 2.05 0 2.83L4 21.41c.39.39.9.59 1.41.59.51 0 1.02-.2 1.41-.59l7.78-7.78 2.81-2.81c.8-.78.8-2.07 0-2.86zM5.41 20L4 18.59l7.72-7.72 1.47 1.35L5.41 20z\"/>\n",
              "  </svg>\n",
              "      </button>\n",
              "      \n",
              "  <style>\n",
              "    .colab-df-container {\n",
              "      display:flex;\n",
              "      flex-wrap:wrap;\n",
              "      gap: 12px;\n",
              "    }\n",
              "\n",
              "    .colab-df-convert {\n",
              "      background-color: #E8F0FE;\n",
              "      border: none;\n",
              "      border-radius: 50%;\n",
              "      cursor: pointer;\n",
              "      display: none;\n",
              "      fill: #1967D2;\n",
              "      height: 32px;\n",
              "      padding: 0 0 0 0;\n",
              "      width: 32px;\n",
              "    }\n",
              "\n",
              "    .colab-df-convert:hover {\n",
              "      background-color: #E2EBFA;\n",
              "      box-shadow: 0px 1px 2px rgba(60, 64, 67, 0.3), 0px 1px 3px 1px rgba(60, 64, 67, 0.15);\n",
              "      fill: #174EA6;\n",
              "    }\n",
              "\n",
              "    [theme=dark] .colab-df-convert {\n",
              "      background-color: #3B4455;\n",
              "      fill: #D2E3FC;\n",
              "    }\n",
              "\n",
              "    [theme=dark] .colab-df-convert:hover {\n",
              "      background-color: #434B5C;\n",
              "      box-shadow: 0px 1px 3px 1px rgba(0, 0, 0, 0.15);\n",
              "      filter: drop-shadow(0px 1px 2px rgba(0, 0, 0, 0.3));\n",
              "      fill: #FFFFFF;\n",
              "    }\n",
              "  </style>\n",
              "\n",
              "      <script>\n",
              "        const buttonEl =\n",
              "          document.querySelector('#df-f11dfbf1-9faf-41b7-8d56-bb45e578a114 button.colab-df-convert');\n",
              "        buttonEl.style.display =\n",
              "          google.colab.kernel.accessAllowed ? 'block' : 'none';\n",
              "\n",
              "        async function convertToInteractive(key) {\n",
              "          const element = document.querySelector('#df-f11dfbf1-9faf-41b7-8d56-bb45e578a114');\n",
              "          const dataTable =\n",
              "            await google.colab.kernel.invokeFunction('convertToInteractive',\n",
              "                                                     [key], {});\n",
              "          if (!dataTable) return;\n",
              "\n",
              "          const docLinkHtml = 'Like what you see? Visit the ' +\n",
              "            '<a target=\"_blank\" href=https://colab.research.google.com/notebooks/data_table.ipynb>data table notebook</a>'\n",
              "            + ' to learn more about interactive tables.';\n",
              "          element.innerHTML = '';\n",
              "          dataTable['output_type'] = 'display_data';\n",
              "          await google.colab.output.renderOutput(dataTable, element);\n",
              "          const docLink = document.createElement('div');\n",
              "          docLink.innerHTML = docLinkHtml;\n",
              "          element.appendChild(docLink);\n",
              "        }\n",
              "      </script>\n",
              "    </div>\n",
              "  </div>\n",
              "  "
            ]
          },
          "metadata": {},
          "execution_count": 96
        }
      ]
    },
    {
      "cell_type": "code",
      "source": [
        "from sklearn.compose import make_column_transformer\n",
        "from sklearn.preprocessing import MinMaxScaler, OneHotEncoder\n",
        "from sklearn.model_selection import train_test_split\n",
        "\n",
        "# Create column transformer\n",
        "ct = make_column_transformer(\n",
        "    (MinMaxScaler(), [\"age\", \"bmi\", \"children\"]),\n",
        "    (OneHotEncoder(handle_unknown = \"ignore\"), [\"sex\", \"smoker\", \"region\"])\n",
        ")\n",
        "\n",
        "# X and y\n",
        "X = insurance.drop(\"charges\", axis = 1)\n",
        "y = insurance[\"charges\"]\n",
        "\n",
        "# Train test split\n",
        "X_train, X_test, y_train, y_test = train_test_split(X, y, test_size = 0.2, random_state = 42)\n",
        "\n",
        "# Fit the column transformer to our training data\n",
        "ct.fit(X_train)\n",
        "\n",
        "# Transform training the test data with normalization and onehotencoder\n",
        "X_train_normal = ct.transform(X_train)\n",
        "X_test_normal = ct.transform(X_test)"
      ],
      "metadata": {
        "id": "iC7zqxrQccsv"
      },
      "execution_count": 97,
      "outputs": []
    },
    {
      "cell_type": "code",
      "source": [
        "X_train_normal[0]"
      ],
      "metadata": {
        "colab": {
          "base_uri": "https://localhost:8080/"
        },
        "id": "Q9aKXPC3eYB3",
        "outputId": "c0720192-920b-4771-fc92-0981a12045e9"
      },
      "execution_count": 98,
      "outputs": [
        {
          "output_type": "execute_result",
          "data": {
            "text/plain": [
              "array([0.60869565, 0.10734463, 0.4       , 1.        , 0.        ,\n",
              "       1.        , 0.        , 0.        , 1.        , 0.        ,\n",
              "       0.        ])"
            ]
          },
          "metadata": {},
          "execution_count": 98
        }
      ]
    },
    {
      "cell_type": "code",
      "source": [
        "X_train.shape, X_train_normal.shape"
      ],
      "metadata": {
        "colab": {
          "base_uri": "https://localhost:8080/"
        },
        "id": "uNxYoNZhec6S",
        "outputId": "8e880ddc-5775-41b0-f5fa-f63ee9f0bd7e"
      },
      "execution_count": 99,
      "outputs": [
        {
          "output_type": "execute_result",
          "data": {
            "text/plain": [
              "((1070, 6), (1070, 11))"
            ]
          },
          "metadata": {},
          "execution_count": 99
        }
      ]
    },
    {
      "cell_type": "markdown",
      "source": [
        "Our data has been normalized and onehotencoded...\n",
        "Now let's build the model"
      ],
      "metadata": {
        "id": "TFmCrg_levKM"
      }
    },
    {
      "cell_type": "code",
      "source": [
        "#Set the random seed\n",
        "tf.random.set_seed(42)\n",
        "\n",
        "# Crete the model\n",
        "insurance_model_norm = tf.keras.Sequential([\n",
        "            tf.keras.layers.Dense(100),\n",
        "            tf.keras.layers.Dense(10),\n",
        "            tf.keras.layers.Dense(1)\n",
        "])\n",
        "\n",
        "insurance_model_norm.compile(loss = tf.keras.losses.mae,\n",
        "                             optimizer = tf.keras.optimizers.Adam(),\n",
        "                             metrics = [\"mae\"])\n",
        "\n",
        "insurance_model_norm.fit(X_train_normal, y_train, epochs = 100)"
      ],
      "metadata": {
        "colab": {
          "base_uri": "https://localhost:8080/"
        },
        "id": "6DcsFOLMe-iT",
        "outputId": "50477095-08f4-4b94-b2a3-72c709ca3a35"
      },
      "execution_count": 100,
      "outputs": [
        {
          "output_type": "stream",
          "name": "stdout",
          "text": [
            "Epoch 1/100\n",
            "34/34 [==============================] - 0s 2ms/step - loss: 13342.6494 - mae: 13342.6494\n",
            "Epoch 2/100\n",
            "34/34 [==============================] - 0s 2ms/step - loss: 13333.4785 - mae: 13333.4785\n",
            "Epoch 3/100\n",
            "34/34 [==============================] - 0s 2ms/step - loss: 13312.0234 - mae: 13312.0234\n",
            "Epoch 4/100\n",
            "34/34 [==============================] - 0s 2ms/step - loss: 13267.7930 - mae: 13267.7930\n",
            "Epoch 5/100\n",
            "34/34 [==============================] - 0s 2ms/step - loss: 13189.5830 - mae: 13189.5830\n",
            "Epoch 6/100\n",
            "34/34 [==============================] - 0s 2ms/step - loss: 13066.4502 - mae: 13066.4502\n",
            "Epoch 7/100\n",
            "34/34 [==============================] - 0s 2ms/step - loss: 12888.1953 - mae: 12888.1953\n",
            "Epoch 8/100\n",
            "34/34 [==============================] - 0s 2ms/step - loss: 12644.6523 - mae: 12644.6523\n",
            "Epoch 9/100\n",
            "34/34 [==============================] - 0s 2ms/step - loss: 12325.5469 - mae: 12325.5469\n",
            "Epoch 10/100\n",
            "34/34 [==============================] - 0s 2ms/step - loss: 11925.9658 - mae: 11925.9658\n",
            "Epoch 11/100\n",
            "34/34 [==============================] - 0s 2ms/step - loss: 11454.3350 - mae: 11454.3350\n",
            "Epoch 12/100\n",
            "34/34 [==============================] - 0s 2ms/step - loss: 10949.8076 - mae: 10949.8076\n",
            "Epoch 13/100\n",
            "34/34 [==============================] - 0s 2ms/step - loss: 10448.9404 - mae: 10448.9404\n",
            "Epoch 14/100\n",
            "34/34 [==============================] - 0s 2ms/step - loss: 9951.6250 - mae: 9951.6250\n",
            "Epoch 15/100\n",
            "34/34 [==============================] - 0s 2ms/step - loss: 9482.7422 - mae: 9482.7422\n",
            "Epoch 16/100\n",
            "34/34 [==============================] - 0s 2ms/step - loss: 9066.7461 - mae: 9066.7461\n",
            "Epoch 17/100\n",
            "34/34 [==============================] - 0s 2ms/step - loss: 8721.9854 - mae: 8721.9854\n",
            "Epoch 18/100\n",
            "34/34 [==============================] - 0s 2ms/step - loss: 8441.2002 - mae: 8441.2002\n",
            "Epoch 19/100\n",
            "34/34 [==============================] - 0s 2ms/step - loss: 8227.5117 - mae: 8227.5117\n",
            "Epoch 20/100\n",
            "34/34 [==============================] - 0s 2ms/step - loss: 8081.9775 - mae: 8081.9775\n",
            "Epoch 21/100\n",
            "34/34 [==============================] - 0s 2ms/step - loss: 7973.8945 - mae: 7973.8945\n",
            "Epoch 22/100\n",
            "34/34 [==============================] - 0s 2ms/step - loss: 7899.1597 - mae: 7899.1597\n",
            "Epoch 23/100\n",
            "34/34 [==============================] - 0s 2ms/step - loss: 7840.3906 - mae: 7840.3906\n",
            "Epoch 24/100\n",
            "34/34 [==============================] - 0s 2ms/step - loss: 7787.9619 - mae: 7787.9619\n",
            "Epoch 25/100\n",
            "34/34 [==============================] - 0s 2ms/step - loss: 7749.2622 - mae: 7749.2622\n",
            "Epoch 26/100\n",
            "34/34 [==============================] - 0s 2ms/step - loss: 7697.9595 - mae: 7697.9595\n",
            "Epoch 27/100\n",
            "34/34 [==============================] - 0s 2ms/step - loss: 7656.0273 - mae: 7656.0273\n",
            "Epoch 28/100\n",
            "34/34 [==============================] - 0s 2ms/step - loss: 7613.4771 - mae: 7613.4771\n",
            "Epoch 29/100\n",
            "34/34 [==============================] - 0s 2ms/step - loss: 7570.9482 - mae: 7570.9482\n",
            "Epoch 30/100\n",
            "34/34 [==============================] - 0s 2ms/step - loss: 7527.4175 - mae: 7527.4175\n",
            "Epoch 31/100\n",
            "34/34 [==============================] - 0s 2ms/step - loss: 7483.5947 - mae: 7483.5947\n",
            "Epoch 32/100\n",
            "34/34 [==============================] - 0s 2ms/step - loss: 7439.4424 - mae: 7439.4424\n",
            "Epoch 33/100\n",
            "34/34 [==============================] - 0s 2ms/step - loss: 7395.0552 - mae: 7395.0552\n",
            "Epoch 34/100\n",
            "34/34 [==============================] - 0s 2ms/step - loss: 7346.8120 - mae: 7346.8120\n",
            "Epoch 35/100\n",
            "34/34 [==============================] - 0s 2ms/step - loss: 7300.0488 - mae: 7300.0488\n",
            "Epoch 36/100\n",
            "34/34 [==============================] - 0s 2ms/step - loss: 7249.8452 - mae: 7249.8452\n",
            "Epoch 37/100\n",
            "34/34 [==============================] - 0s 2ms/step - loss: 7199.5308 - mae: 7199.5308\n",
            "Epoch 38/100\n",
            "34/34 [==============================] - 0s 2ms/step - loss: 7148.4814 - mae: 7148.4814\n",
            "Epoch 39/100\n",
            "34/34 [==============================] - 0s 2ms/step - loss: 7093.6660 - mae: 7093.6660\n",
            "Epoch 40/100\n",
            "34/34 [==============================] - 0s 2ms/step - loss: 7038.1797 - mae: 7038.1797\n",
            "Epoch 41/100\n",
            "34/34 [==============================] - 0s 2ms/step - loss: 6981.7393 - mae: 6981.7393\n",
            "Epoch 42/100\n",
            "34/34 [==============================] - 0s 2ms/step - loss: 6922.7847 - mae: 6922.7847\n",
            "Epoch 43/100\n",
            "34/34 [==============================] - 0s 2ms/step - loss: 6860.1724 - mae: 6860.1724\n",
            "Epoch 44/100\n",
            "34/34 [==============================] - 0s 2ms/step - loss: 6793.7979 - mae: 6793.7979\n",
            "Epoch 45/100\n",
            "34/34 [==============================] - 0s 2ms/step - loss: 6726.6201 - mae: 6726.6201\n",
            "Epoch 46/100\n",
            "34/34 [==============================] - 0s 2ms/step - loss: 6657.4683 - mae: 6657.4683\n",
            "Epoch 47/100\n",
            "34/34 [==============================] - 0s 2ms/step - loss: 6586.3086 - mae: 6586.3086\n",
            "Epoch 48/100\n",
            "34/34 [==============================] - 0s 2ms/step - loss: 6507.5063 - mae: 6507.5063\n",
            "Epoch 49/100\n",
            "34/34 [==============================] - 0s 2ms/step - loss: 6428.6021 - mae: 6428.6021\n",
            "Epoch 50/100\n",
            "34/34 [==============================] - 0s 2ms/step - loss: 6342.7100 - mae: 6342.7100\n",
            "Epoch 51/100\n",
            "34/34 [==============================] - 0s 2ms/step - loss: 6258.0718 - mae: 6258.0718\n",
            "Epoch 52/100\n",
            "34/34 [==============================] - 0s 2ms/step - loss: 6164.7046 - mae: 6164.7046\n",
            "Epoch 53/100\n",
            "34/34 [==============================] - 0s 2ms/step - loss: 6068.6748 - mae: 6068.6748\n",
            "Epoch 54/100\n",
            "34/34 [==============================] - 0s 2ms/step - loss: 5970.0981 - mae: 5970.0981\n",
            "Epoch 55/100\n",
            "34/34 [==============================] - 0s 2ms/step - loss: 5862.5625 - mae: 5862.5625\n",
            "Epoch 56/100\n",
            "34/34 [==============================] - 0s 2ms/step - loss: 5753.9526 - mae: 5753.9526\n",
            "Epoch 57/100\n",
            "34/34 [==============================] - 0s 2ms/step - loss: 5638.0947 - mae: 5638.0947\n",
            "Epoch 58/100\n",
            "34/34 [==============================] - 0s 2ms/step - loss: 5519.8687 - mae: 5519.8687\n",
            "Epoch 59/100\n",
            "34/34 [==============================] - 0s 2ms/step - loss: 5401.3198 - mae: 5401.3198\n",
            "Epoch 60/100\n",
            "34/34 [==============================] - 0s 2ms/step - loss: 5277.3501 - mae: 5277.3501\n",
            "Epoch 61/100\n",
            "34/34 [==============================] - 0s 2ms/step - loss: 5149.7637 - mae: 5149.7637\n",
            "Epoch 62/100\n",
            "34/34 [==============================] - 0s 2ms/step - loss: 5019.3535 - mae: 5019.3535\n",
            "Epoch 63/100\n",
            "34/34 [==============================] - 0s 2ms/step - loss: 4889.6865 - mae: 4889.6865\n",
            "Epoch 64/100\n",
            "34/34 [==============================] - 0s 2ms/step - loss: 4756.8560 - mae: 4756.8560\n",
            "Epoch 65/100\n",
            "34/34 [==============================] - 0s 2ms/step - loss: 4629.4370 - mae: 4629.4370\n",
            "Epoch 66/100\n",
            "34/34 [==============================] - 0s 2ms/step - loss: 4503.5991 - mae: 4503.5991\n",
            "Epoch 67/100\n",
            "34/34 [==============================] - 0s 2ms/step - loss: 4392.9922 - mae: 4392.9922\n",
            "Epoch 68/100\n",
            "34/34 [==============================] - 0s 2ms/step - loss: 4284.3862 - mae: 4284.3862\n",
            "Epoch 69/100\n",
            "34/34 [==============================] - 0s 2ms/step - loss: 4182.6182 - mae: 4182.6182\n",
            "Epoch 70/100\n",
            "34/34 [==============================] - 0s 2ms/step - loss: 4089.5725 - mae: 4089.5725\n",
            "Epoch 71/100\n",
            "34/34 [==============================] - 0s 2ms/step - loss: 4003.3901 - mae: 4003.3901\n",
            "Epoch 72/100\n",
            "34/34 [==============================] - 0s 2ms/step - loss: 3929.0093 - mae: 3929.0093\n",
            "Epoch 73/100\n",
            "34/34 [==============================] - 0s 2ms/step - loss: 3866.3110 - mae: 3866.3110\n",
            "Epoch 74/100\n",
            "34/34 [==============================] - 0s 2ms/step - loss: 3813.7144 - mae: 3813.7144\n",
            "Epoch 75/100\n",
            "34/34 [==============================] - 0s 2ms/step - loss: 3773.0317 - mae: 3773.0317\n",
            "Epoch 76/100\n",
            "34/34 [==============================] - 0s 2ms/step - loss: 3744.1995 - mae: 3744.1995\n",
            "Epoch 77/100\n",
            "34/34 [==============================] - 0s 2ms/step - loss: 3719.6870 - mae: 3719.6870\n",
            "Epoch 78/100\n",
            "34/34 [==============================] - 0s 2ms/step - loss: 3702.9109 - mae: 3702.9109\n",
            "Epoch 79/100\n",
            "34/34 [==============================] - 0s 2ms/step - loss: 3691.8792 - mae: 3691.8792\n",
            "Epoch 80/100\n",
            "34/34 [==============================] - 0s 2ms/step - loss: 3682.8350 - mae: 3682.8350\n",
            "Epoch 81/100\n",
            "34/34 [==============================] - 0s 2ms/step - loss: 3676.9763 - mae: 3676.9763\n",
            "Epoch 82/100\n",
            "34/34 [==============================] - 0s 2ms/step - loss: 3673.9495 - mae: 3673.9495\n",
            "Epoch 83/100\n",
            "34/34 [==============================] - 0s 2ms/step - loss: 3667.8452 - mae: 3667.8452\n",
            "Epoch 84/100\n",
            "34/34 [==============================] - 0s 2ms/step - loss: 3664.5757 - mae: 3664.5757\n",
            "Epoch 85/100\n",
            "34/34 [==============================] - 0s 2ms/step - loss: 3661.8562 - mae: 3661.8562\n",
            "Epoch 86/100\n",
            "34/34 [==============================] - 0s 2ms/step - loss: 3660.3049 - mae: 3660.3049\n",
            "Epoch 87/100\n",
            "34/34 [==============================] - 0s 2ms/step - loss: 3657.5134 - mae: 3657.5134\n",
            "Epoch 88/100\n",
            "34/34 [==============================] - 0s 2ms/step - loss: 3655.2200 - mae: 3655.2200\n",
            "Epoch 89/100\n",
            "34/34 [==============================] - 0s 2ms/step - loss: 3653.8831 - mae: 3653.8831\n",
            "Epoch 90/100\n",
            "34/34 [==============================] - 0s 2ms/step - loss: 3652.0195 - mae: 3652.0195\n",
            "Epoch 91/100\n",
            "34/34 [==============================] - 0s 2ms/step - loss: 3648.9990 - mae: 3648.9990\n",
            "Epoch 92/100\n",
            "34/34 [==============================] - 0s 2ms/step - loss: 3648.4463 - mae: 3648.4463\n",
            "Epoch 93/100\n",
            "34/34 [==============================] - 0s 2ms/step - loss: 3646.2297 - mae: 3646.2297\n",
            "Epoch 94/100\n",
            "34/34 [==============================] - 0s 2ms/step - loss: 3644.4377 - mae: 3644.4377\n",
            "Epoch 95/100\n",
            "34/34 [==============================] - 0s 2ms/step - loss: 3645.8772 - mae: 3645.8772\n",
            "Epoch 96/100\n",
            "34/34 [==============================] - 0s 2ms/step - loss: 3642.2573 - mae: 3642.2573\n",
            "Epoch 97/100\n",
            "34/34 [==============================] - 0s 2ms/step - loss: 3640.1187 - mae: 3640.1187\n",
            "Epoch 98/100\n",
            "34/34 [==============================] - 0s 2ms/step - loss: 3638.0647 - mae: 3638.0647\n",
            "Epoch 99/100\n",
            "34/34 [==============================] - 0s 2ms/step - loss: 3637.2053 - mae: 3637.2053\n",
            "Epoch 100/100\n",
            "34/34 [==============================] - 0s 2ms/step - loss: 3636.1707 - mae: 3636.1707\n"
          ]
        },
        {
          "output_type": "execute_result",
          "data": {
            "text/plain": [
              "<keras.callbacks.History at 0x7efcbbefc550>"
            ]
          },
          "metadata": {},
          "execution_count": 100
        }
      ]
    },
    {
      "cell_type": "code",
      "source": [
        "insurance_model_norm.evaluate(X_test_normal, y_test)"
      ],
      "metadata": {
        "colab": {
          "base_uri": "https://localhost:8080/"
        },
        "id": "07TptitQf4U6",
        "outputId": "f2b48223-61d6-456f-deee-0ccd8898e9ac"
      },
      "execution_count": 101,
      "outputs": [
        {
          "output_type": "stream",
          "name": "stdout",
          "text": [
            "9/9 [==============================] - 0s 2ms/step - loss: 3438.7844 - mae: 3438.7844\n"
          ]
        },
        {
          "output_type": "execute_result",
          "data": {
            "text/plain": [
              "[3438.784423828125, 3438.784423828125]"
            ]
          },
          "metadata": {},
          "execution_count": 101
        }
      ]
    },
    {
      "cell_type": "code",
      "source": [
        ""
      ],
      "metadata": {
        "id": "BikPsjEqg_cN"
      },
      "execution_count": 101,
      "outputs": []
    }
  ]
}